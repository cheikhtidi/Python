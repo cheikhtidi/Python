{
 "cells": [
  {
   "attachments": {},
   "cell_type": "markdown",
   "metadata": {},
   "source": [
    "### **Lab 128 Introducing System Administration with Python**"
   ]
  },
  {
   "attachments": {},
   "cell_type": "markdown",
   "metadata": {},
   "source": [
    "#### **Using os.system()**"
   ]
  },
  {
   "cell_type": "code",
   "execution_count": 5,
   "metadata": {},
   "outputs": [],
   "source": [
    "import os"
   ]
  },
  {
   "cell_type": "code",
   "execution_count": 19,
   "metadata": {},
   "outputs": [
    {
     "data": {
      "text/plain": [
       "['ainsulin-seq-clean.py',\n",
       " 'binsulin-seq-clean.py',\n",
       " 'calc_weight_json.py',\n",
       " 'car_fleet.csv',\n",
       " 'cinsulin-seq-clean.py',\n",
       " 'insulin.json',\n",
       " 'Isinsulin-seq-clean.py',\n",
       " 'jsonFileHandler.py',\n",
       " 'Lab 108 Hello World.ipynb',\n",
       " 'Lab 109 Numeric data types.ipynb',\n",
       " 'Lab 110 String data types.ipynb',\n",
       " 'Lab 111 List Tuple dictionary.ipynb',\n",
       " 'Lab 112 Categorizing values.ipynb',\n",
       " 'Lab 113 Working with Composite Data Types.ipynb',\n",
       " 'Lab 114 Working with conditionals.ipynb',\n",
       " 'Lab 115 Writing the for loop.ipynb',\n",
       " 'Lab 118 Prep of insulin analysis.ipynb',\n",
       " 'Lab 120 Working with the String Sequence and Numeric Weight of Insulin in Python.ipynb',\n",
       " 'Lab 122 Calculating the Net Charge of Insulin by Using Python Lists and Loops.ipynb',\n",
       " 'Lab 124 Using functions to implement a Caesar Cipher.ipynb',\n",
       " 'Lab 126 Creating File handlers and Modules for retrieving Information about Insulin.ipynb',\n",
       " 'Lab 128 Introducing System Administration with Python.ipynb',\n",
       " 'preproinsulin-seq-clean.py',\n",
       " 'preproinsulin-seq.txt',\n",
       " 'prep_insulin_analysis.py',\n",
       " '__pycache__']"
      ]
     },
     "execution_count": 19,
     "metadata": {},
     "output_type": "execute_result"
    }
   ],
   "source": [
    "os.listdir()"
   ]
  }
 ],
 "metadata": {
  "kernelspec": {
   "display_name": "Python 3",
   "language": "python",
   "name": "python3"
  },
  "language_info": {
   "codemirror_mode": {
    "name": "ipython",
    "version": 3
   },
   "file_extension": ".py",
   "mimetype": "text/x-python",
   "name": "python",
   "nbconvert_exporter": "python",
   "pygments_lexer": "ipython3",
   "version": "3.10.5"
  },
  "orig_nbformat": 4
 },
 "nbformat": 4,
 "nbformat_minor": 2
}
