{
 "cells": [
  {
   "attachments": {},
   "cell_type": "markdown",
   "metadata": {},
   "source": [
    "### **Lab 120 Working with the String Sequence and Numeric Weight of Insulin in Python**"
   ]
  },
  {
   "attachments": {},
   "cell_type": "markdown",
   "metadata": {},
   "source": [
    "#### **Assigning variables to the sequence elements of human insulin**"
   ]
  },
  {
   "cell_type": "code",
   "execution_count": 3,
   "metadata": {},
   "outputs": [],
   "source": [
    "# Store the human preproinsulin sequence in a variable called preproinsulin:\n",
    "preproInsulin=\"malwmrllpllallalwgpdpaaafvnqhlcgshlvealylvcgergffytpktr\" \\\n",
    "\"reaedlqvgqvelgggpgagslqplalegslqkrgiveqcctsicslyqlenycn\""
   ]
  },
  {
   "cell_type": "code",
   "execution_count": 5,
   "metadata": {},
   "outputs": [],
   "source": [
    "# Store the remaining sequence elements of human insulin in variables:\n",
    "IsInsulin=\"malwmrllpllallalwgpdpaaa\"\n",
    "bInsulin=\"fvnqhlcgshlvealylvcgergffytpkt\"\n",
    "aInsulin=\"giveqcctsicslyqlenycn\"\n",
    "cInsulin=\"rreaedlqvgqvelgggpgagslqplalegslqkr\"\n",
    "insulin = bInsulin + aInsulin"
   ]
  },
  {
   "attachments": {},
   "cell_type": "markdown",
   "metadata": {},
   "source": [
    "#### **Using print() to display sequences of human insulin to the console**"
   ]
  },
  {
   "cell_type": "code",
   "execution_count": 10,
   "metadata": {},
   "outputs": [
    {
     "name": "stdout",
     "output_type": "stream",
     "text": [
      "The sequence of human preproinsulin:\n",
      "malwmrllpllallalwgpdpaaafvnqhlcgshlvealylvcgergffytpktrreaedlqvgqvelgggpgagslqplalegslqkrgiveqcctsicslyqlenycn\n",
      "The sequence of human insulin, chain a: giveqcctsicslyqlenycn\n",
      "The sequence of human insulin, chain a: giveqcctsicslyqlenycn\n"
     ]
    }
   ],
   "source": [
    "# Printing \"the sequence of human insulin\" to console using successive print() commands:\n",
    "print(\"The sequence of human preproinsulin:\")\n",
    "print(preproInsulin)\n",
    "# Printing to console using concatenated strings inside the print function (one-liner):\n",
    "print(\"The sequence of human insulin, chain a: \" + aInsulin)\n",
    "print(\"The sequence of human insulin, chain a:\", aInsulin)"
   ]
  },
  {
   "attachments": {},
   "cell_type": "markdown",
   "metadata": {},
   "source": [
    "#### **Calculating the rough molecular weight of human insulin using the given code**"
   ]
  },
  {
   "cell_type": "code",
   "execution_count": 11,
   "metadata": {},
   "outputs": [
    {
     "name": "stdout",
     "output_type": "stream",
     "text": [
      "The rough molecular weight of insulin: 6696.420000000001\n"
     ]
    }
   ],
   "source": [
    "# Calculating the molecular weight of insulin  \n",
    "# Creating a list of the amino acid (AA) weights  \n",
    "aaWeights = {'A': 89.09, 'C': 121.16, 'D': 133.10, 'E': 147.13, 'F': 165.19,\n",
    "'G': 75.07, 'H': 155.16, 'I': 131.17, 'K': 146.19, 'L': 131.17, 'M': 149.21,\n",
    "'N': 132.12, 'P': 115.13, 'Q': 146.15, 'R': 174.20, 'S': 105.09, 'T': 119.12,\n",
    "'V': 117.15, 'W': 204.23, 'Y': 181.19}  \n",
    "# Count the number of each amino acids  \n",
    "aaCountInsulin = ({x: float(insulin.upper().count(x)) for x in ['A', 'C',\n",
    "'D', 'E', 'F', 'G', 'H', 'I', 'K', 'L', 'M', 'N', 'P', 'Q', 'R', 'S', 'T',\n",
    "'V', 'W', 'Y']})  \n",
    "# Multiply the count by the weights  \n",
    "molecularWeightInsulin = sum({x: (aaCountInsulin[x]*aaWeights[x]) for x in\n",
    "['A', 'C', 'D', 'E', 'F', 'G', 'H', 'I', 'K', 'L', 'M', 'N', 'P', 'Q', 'R',\n",
    "'S', 'T', 'V', 'W', 'Y']}.values())  \n",
    "print(\"The rough molecular weight of insulin: \" +\n",
    "str(molecularWeightInsulin))"
   ]
  },
  {
   "cell_type": "code",
   "execution_count": 12,
   "metadata": {},
   "outputs": [
    {
     "name": "stdout",
     "output_type": "stream",
     "text": [
      "Error percentage: 15.30383306099047\n"
     ]
    }
   ],
   "source": [
    "molecularWeightInsulinActual = 5807.63\n",
    "print(\"Error percentage: \" + str(((molecularWeightInsulin - molecularWeightInsulinActual)/molecularWeightInsulinActual)*100))"
   ]
  }
 ],
 "metadata": {
  "kernelspec": {
   "display_name": "Python 3",
   "language": "python",
   "name": "python3"
  },
  "language_info": {
   "codemirror_mode": {
    "name": "ipython",
    "version": 3
   },
   "file_extension": ".py",
   "mimetype": "text/x-python",
   "name": "python",
   "nbconvert_exporter": "python",
   "pygments_lexer": "ipython3",
   "version": "3.10.5"
  },
  "orig_nbformat": 4
 },
 "nbformat": 4,
 "nbformat_minor": 2
}
