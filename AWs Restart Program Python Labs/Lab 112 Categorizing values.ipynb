{
 "cells": [
  {
   "attachments": {},
   "cell_type": "markdown",
   "metadata": {},
   "source": [
    "### **Categorizing values**"
   ]
  },
  {
   "attachments": {},
   "cell_type": "markdown",
   "metadata": {},
   "source": [
    "### **Creating a mixed-type list**"
   ]
  },
  {
   "cell_type": "code",
   "execution_count": 1,
   "metadata": {},
   "outputs": [],
   "source": [
    "myMixedTypeList = [45, 290578, 1.02, True, \"My dog is on the bed.\", \"45\"]\n"
   ]
  },
  {
   "cell_type": "code",
   "execution_count": 2,
   "metadata": {},
   "outputs": [
    {
     "name": "stdout",
     "output_type": "stream",
     "text": [
      "45 is of the data type <class 'int'>\n",
      "290578 is of the data type <class 'int'>\n",
      "1.02 is of the data type <class 'float'>\n",
      "True is of the data type <class 'bool'>\n",
      "My dog is on the bed. is of the data type <class 'str'>\n",
      "45 is of the data type <class 'str'>\n"
     ]
    }
   ],
   "source": [
    "for item in myMixedTypeList:\n",
    "    print(\"{} is of the data type {}\".format(item,type(item)))"
   ]
  }
 ],
 "metadata": {
  "kernelspec": {
   "display_name": "Python 3",
   "language": "python",
   "name": "python3"
  },
  "language_info": {
   "codemirror_mode": {
    "name": "ipython",
    "version": 3
   },
   "file_extension": ".py",
   "mimetype": "text/x-python",
   "name": "python",
   "nbconvert_exporter": "python",
   "pygments_lexer": "ipython3",
   "version": "3.10.5"
  },
  "orig_nbformat": 4
 },
 "nbformat": 4,
 "nbformat_minor": 2
}
