{
 "cells": [
  {
   "attachments": {},
   "cell_type": "markdown",
   "metadata": {},
   "source": [
    "#### **Lab 124 Using Functions to implement a Caesar Cipher**"
   ]
  },
  {
   "attachments": {},
   "cell_type": "markdown",
   "metadata": {},
   "source": [
    "#### **Creating a user-defined function**"
   ]
  },
  {
   "cell_type": "code",
   "execution_count": 1,
   "metadata": {},
   "outputs": [],
   "source": [
    "def getDoubleAlphabet(alphabet):\n",
    "    doubleAlphabet = alphabet + alphabet\n",
    "    return doubleAlphabet"
   ]
  },
  {
   "attachments": {},
   "cell_type": "markdown",
   "metadata": {},
   "source": [
    "#### **Encrypting a message**"
   ]
  },
  {
   "cell_type": "code",
   "execution_count": 2,
   "metadata": {},
   "outputs": [],
   "source": [
    "def getMessage():\n",
    "    stringToEncrypt = input(\"Please enter a message to encrypt: \")\n",
    "    return stringToEncrypt"
   ]
  },
  {
   "attachments": {},
   "cell_type": "markdown",
   "metadata": {},
   "source": [
    "#### **Getting a Cypher key**"
   ]
  },
  {
   "cell_type": "code",
   "execution_count": 3,
   "metadata": {},
   "outputs": [],
   "source": [
    "def getCipherKey():\n",
    "    shiftAmount = input( \"Please enter a key (whole number from 1-25): \")\n",
    "    return shiftAmount"
   ]
  },
  {
   "attachments": {},
   "cell_type": "markdown",
   "metadata": {},
   "source": [
    "#### **Encrypting a messsage**"
   ]
  },
  {
   "cell_type": "code",
   "execution_count": 4,
   "metadata": {},
   "outputs": [],
   "source": [
    "def encryptMessage(message, cipherKey, alphabet):\n",
    "    encryptedMessage = \"\"\n",
    "    uppercaseMessage = \"\"\n",
    "    uppercaseMessage = message.upper()\n",
    "    for currentCharacter in uppercaseMessage:\n",
    "        position = alphabet.find(currentCharacter)\n",
    "        newPosition = position + int(cipherKey)\n",
    "        if currentCharacter in alphabet:\n",
    "            encryptedMessage = encryptedMessage + alphabet[newPosition]\n",
    "        else:\n",
    "            encryptedMessage = encryptedMessage + currentCharacter\n",
    "    return encryptedMessage"
   ]
  },
  {
   "attachments": {},
   "cell_type": "markdown",
   "metadata": {},
   "source": [
    "#### **Decrypting a message**"
   ]
  },
  {
   "cell_type": "code",
   "execution_count": 5,
   "metadata": {},
   "outputs": [],
   "source": [
    "def decryptMessage(message, cipherKey, alphabet):\n",
    "    decryptKey = -1 * int(cipherKey)\n",
    "    return encryptMessage(message, decryptKey, alphabet)"
   ]
  },
  {
   "attachments": {},
   "cell_type": "markdown",
   "metadata": {},
   "source": [
    "#### **Creating a main function**"
   ]
  },
  {
   "cell_type": "code",
   "execution_count": 6,
   "metadata": {},
   "outputs": [],
   "source": [
    "def runCaesarCipherProgram():\n",
    "    myAlphabet=\"ABCDEFGHIJKLMNOPQRSTUVWXYZ\"\n",
    "    print(f'Alphabet: {myAlphabet}')\n",
    "    myAlphabet2 = getDoubleAlphabet(myAlphabet)\n",
    "    print(f'Alphabet2: {myAlphabet2}')\n",
    "    myMessage = getMessage()\n",
    "    print(myMessage)\n",
    "    myCipherKey = getCipherKey()\n",
    "    print(myCipherKey)\n",
    "    myEncryptedMessage = encryptMessage(myMessage, myCipherKey, myAlphabet2)\n",
    "    print(f'Encrypted Message: {myEncryptedMessage}')\n",
    "    myDecryptedMessage = decryptMessage(myEncryptedMessage, myCipherKey, myAlphabet2)\n",
    "    print(f'Decypted Message: {myDecryptedMessage}')"
   ]
  },
  {
   "cell_type": "code",
   "execution_count": 7,
   "metadata": {},
   "outputs": [
    {
     "name": "stdout",
     "output_type": "stream",
     "text": [
      "Alphabet: ABCDEFGHIJKLMNOPQRSTUVWXYZ\n",
      "Alphabet2: ABCDEFGHIJKLMNOPQRSTUVWXYZABCDEFGHIJKLMNOPQRSTUVWXYZ\n",
      "Je serai présent.\n",
      "6\n",
      "Encrypted Message: PK YKXGO VXÉYKTZ.\n",
      "Decypted Message: JE SERAI PRÉSENT.\n"
     ]
    }
   ],
   "source": [
    "runCaesarCipherProgram()"
   ]
  }
 ],
 "metadata": {
  "kernelspec": {
   "display_name": "Python 3",
   "language": "python",
   "name": "python3"
  },
  "language_info": {
   "codemirror_mode": {
    "name": "ipython",
    "version": 3
   },
   "file_extension": ".py",
   "mimetype": "text/x-python",
   "name": "python",
   "nbconvert_exporter": "python",
   "pygments_lexer": "ipython3",
   "version": "3.10.5"
  },
  "orig_nbformat": 4
 },
 "nbformat": 4,
 "nbformat_minor": 2
}
