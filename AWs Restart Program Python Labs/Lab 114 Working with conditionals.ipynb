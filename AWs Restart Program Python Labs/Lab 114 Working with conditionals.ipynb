{
 "cells": [
  {
   "attachments": {},
   "cell_type": "markdown",
   "metadata": {},
   "source": [
    "### **Lab 114: Working With Conditionals**"
   ]
  },
  {
   "cell_type": "code",
   "execution_count": 1,
   "metadata": {},
   "outputs": [
    {
     "name": "stdout",
     "output_type": "stream",
     "text": [
      "Please come back when you need to ship a package. Thank you.\n",
      "We have many stamp designs to choose from.\n"
     ]
    }
   ],
   "source": [
    "userReply = input(\"Do you need to ship a package? (Enter yes or no) \")\n",
    "if userReply == \"yes\":\n",
    "    print(\"We can help you ship that package!\")\n",
    "else:\n",
    "    print(\"Please come back when you need to ship a package. Thank you.\")\n",
    "    \n",
    "\n",
    "userReply = input(\"Would you like to buy stamps, buy an envelope, or make a copy? (Enter stamps, envelope, or copy) \")\n",
    "if userReply == \"stamps\":\n",
    "    print(\"We have many stamp designs to choose from.\")\n",
    "elif userReply == \"envelope\":\n",
    "    print(\"We have many envelope sizes to choose from.\")\n",
    "elif userReply == \"copy\":\n",
    "    copies = input(\"How many copies would you like? (Enter a number) \")\n",
    "    print(\"Here are {} copies.\".format(copies))\n",
    "else:\n",
    "    print(\"Thank you, please come again.\")"
   ]
  }
 ],
 "metadata": {
  "kernelspec": {
   "display_name": "Python 3",
   "language": "python",
   "name": "python3"
  },
  "language_info": {
   "codemirror_mode": {
    "name": "ipython",
    "version": 3
   },
   "file_extension": ".py",
   "mimetype": "text/x-python",
   "name": "python",
   "nbconvert_exporter": "python",
   "pygments_lexer": "ipython3",
   "version": "3.10.5"
  },
  "orig_nbformat": 4
 },
 "nbformat": 4,
 "nbformat_minor": 2
}
