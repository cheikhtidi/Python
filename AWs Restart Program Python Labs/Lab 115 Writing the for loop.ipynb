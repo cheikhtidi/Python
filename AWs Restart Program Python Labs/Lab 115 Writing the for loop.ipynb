{
 "cells": [
  {
   "attachments": {},
   "cell_type": "markdown",
   "metadata": {},
   "source": [
    "### **Lab 115 Loops in Python**"
   ]
  },
  {
   "attachments": {},
   "cell_type": "markdown",
   "metadata": {},
   "source": [
    "#### **Printing the game rules**"
   ]
  },
  {
   "cell_type": "code",
   "execution_count": 1,
   "metadata": {},
   "outputs": [
    {
     "name": "stdout",
     "output_type": "stream",
     "text": [
      "Welcome to Guess the Number!\n",
      "The rules are simple. I will think of a number, and you will try to guess it.\n"
     ]
    }
   ],
   "source": [
    "print(\"Welcome to Guess the Number!\")\n",
    "print(\"The rules are simple. I will think of a number, and you will try to guess it.\")\n"
   ]
  },
  {
   "attachments": {},
   "cell_type": "markdown",
   "metadata": {},
   "source": [
    "#### **Importing random and writing a while loop**"
   ]
  },
  {
   "cell_type": "code",
   "execution_count": 5,
   "metadata": {},
   "outputs": [
    {
     "name": "stdout",
     "output_type": "stream",
     "text": [
      "9\n",
      "You guessed 10. Sorry, that isn’t it. Try again.\n",
      "You guessed 9. That is correct! You win!\n"
     ]
    }
   ],
   "source": [
    "import random\n",
    "random.seed(12)\n",
    "number = random.randint(1,10)\n",
    "print(number)\n",
    "isGuessRight = False\n",
    "while isGuessRight != True:\n",
    "    guess = input(\"Guess a number between 1 and 10: \")\n",
    "    if int(guess) == number:\n",
    "        print(\"You guessed {}. That is correct! You win!\".format(guess))\n",
    "        isGuessRight = True\n",
    "    else:\n",
    "        print(\"You guessed {}. Sorry, that isn’t it. Try again.\".format(guess))"
   ]
  },
  {
   "attachments": {},
   "cell_type": "markdown",
   "metadata": {},
   "source": [
    "#### **Writing the for loop**"
   ]
  },
  {
   "cell_type": "code",
   "execution_count": 6,
   "metadata": {},
   "outputs": [
    {
     "name": "stdout",
     "output_type": "stream",
     "text": [
      "0\n",
      "1\n",
      "2\n",
      "3\n",
      "4\n",
      "5\n",
      "6\n",
      "7\n",
      "8\n",
      "9\n",
      "10\n"
     ]
    }
   ],
   "source": [
    "for x in range (0, 11):\n",
    "    print(x)"
   ]
  }
 ],
 "metadata": {
  "kernelspec": {
   "display_name": "Python 3",
   "language": "python",
   "name": "python3"
  },
  "language_info": {
   "codemirror_mode": {
    "name": "ipython",
    "version": 3
   },
   "file_extension": ".py",
   "mimetype": "text/x-python",
   "name": "python",
   "nbconvert_exporter": "python",
   "pygments_lexer": "ipython3",
   "version": "3.10.5"
  },
  "orig_nbformat": 4
 },
 "nbformat": 4,
 "nbformat_minor": 2
}
