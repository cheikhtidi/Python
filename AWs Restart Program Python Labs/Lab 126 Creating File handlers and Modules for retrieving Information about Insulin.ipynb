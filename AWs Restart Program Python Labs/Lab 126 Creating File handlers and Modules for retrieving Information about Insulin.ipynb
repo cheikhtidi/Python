{
 "cells": [
  {
   "attachments": {},
   "cell_type": "markdown",
   "metadata": {},
   "source": [
    "### **Lab 126 Creating File Handlers and Modules for Retrieving**"
   ]
  },
  {
   "attachments": {},
   "cell_type": "markdown",
   "metadata": {},
   "source": [
    "#### **Creating the JSON molecules data file**"
   ]
  },
  {
   "attachments": {},
   "cell_type": "markdown",
   "metadata": {},
   "source": [
    "#### **Creating the JSON file handler module**"
   ]
  },
  {
   "cell_type": "code",
   "execution_count": 4,
   "metadata": {},
   "outputs": [],
   "source": [
    "import json\n",
    "import os"
   ]
  },
  {
   "cell_type": "code",
   "execution_count": 5,
   "metadata": {},
   "outputs": [],
   "source": [
    "def readJsonFile(fileName):\n",
    "    data = \"\"\n",
    "    try:\n",
    "        with open(fileName) as json_file:\n",
    "            data = json.load(json_file)\n",
    "    except IOError:\n",
    "        print(\"Could not read file\")\n",
    "    return data"
   ]
  },
  {
   "cell_type": "code",
   "execution_count": 6,
   "metadata": {},
   "outputs": [],
   "source": [
    "data = readJsonFile('insulin.json')"
   ]
  },
  {
   "cell_type": "code",
   "execution_count": 7,
   "metadata": {},
   "outputs": [
    {
     "name": "stdout",
     "output_type": "stream",
     "text": [
      "bInsulin: fvnqhlcgshlvealylvcgergffytpkt\n",
      "aInsulin: giveqcctsicslyqlenycn\n",
      "molecularWeightInsulinActual: 5807.63\n"
     ]
    }
   ],
   "source": [
    "if data != \"\" :\n",
    "    bInsulin = data['molecules']['bInsulin']\n",
    "    aInsulin = data['molecules']['aInsulin']\n",
    "    insulin = bInsulin + aInsulin\n",
    "    molecularWeightInsulinActual = data['molecularWeightInsulinActual']\n",
    "    print('bInsulin: ' + bInsulin)\n",
    "    print('aInsulin: ' + aInsulin)\n",
    "    print('molecularWeightInsulinActual: ' + str(molecularWeightInsulinActual))\n",
    "else:\n",
    "    print(\"Error. Exiting program\")"
   ]
  },
  {
   "cell_type": "code",
   "execution_count": 8,
   "metadata": {},
   "outputs": [
    {
     "name": "stdout",
     "output_type": "stream",
     "text": [
      "The rough molecular weight of insulin: 6696.420000000001\n",
      "Percent error: 15.30383306099047\n"
     ]
    }
   ],
   "source": [
    "if data != \"\":\n",
    "    # Calculating the molecular weight of insulin  \n",
    "    # Getting a list of the amino acid (AA) weights  \n",
    "    aaWeights = data['weights']\n",
    "    # Count the number of each amino acids  \n",
    "    aaCountInsulin = ({x: float(insulin.upper().count(x)) for x in ['A','C','D', 'E', 'F', 'G', 'H', 'I', 'K', 'L', 'M', 'N', 'P', 'Q', 'R','S', 'T','V', 'W', 'Y']})  \n",
    "    # Multiply the count by the weights  \n",
    "    molecularWeightInsulin = sum({x: (aaCountInsulin[x]*aaWeights[x]) for x in\n",
    "    ['A', 'C', 'D', 'E', 'F', 'G', 'H', 'I', 'K', 'L', 'M', 'N', 'P', 'Q', 'R','S', 'T', 'V', 'W', 'Y']}.values())  \n",
    "    print(\"The rough molecular weight of insulin: \" +\n",
    "    str(molecularWeightInsulin))\n",
    "    print(\"Percent error: \" + str(((molecularWeightInsulin - molecularWeightInsulinActual)/molecularWeightInsulinActual)*100))\n",
    "else:\n",
    "    print(\"Error. Exiting program\")"
   ]
  }
 ],
 "metadata": {
  "kernelspec": {
   "display_name": "Python 3",
   "language": "python",
   "name": "python3"
  },
  "language_info": {
   "codemirror_mode": {
    "name": "ipython",
    "version": 3
   },
   "file_extension": ".py",
   "mimetype": "text/x-python",
   "name": "python",
   "nbconvert_exporter": "python",
   "pygments_lexer": "ipython3",
   "version": "3.10.5"
  },
  "orig_nbformat": 4
 },
 "nbformat": 4,
 "nbformat_minor": 2
}
