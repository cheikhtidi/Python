{
 "cells": [
  {
   "attachments": {},
   "cell_type": "markdown",
   "metadata": {},
   "source": [
    "### **Calculating the Net Charge of Insulin by Using Python Lists and Loops**"
   ]
  },
  {
   "attachments": {},
   "cell_type": "markdown",
   "metadata": {},
   "source": [
    "### **Assigning variables, lists, and dictionaries**"
   ]
  },
  {
   "cell_type": "code",
   "execution_count": 3,
   "metadata": {},
   "outputs": [],
   "source": [
    "# Python3.6  \n",
    "# Coding: utf-8  \n",
    "# Store the human preproinsulin sequence in a variable called preproinsulin:  \n",
    "preproInsulin = \"malwmrllpllallalwgpdpaaafvnqhlcgshlvealylvcgergffytpktrreaedlqvgqvelgggpgagslqplalegslqkrgiveqcctsicslyqlenycn\"  \n",
    "# Store the remaining sequence elements of human insulin in variables:  \n",
    "lsInsulin = \"malwmrllpllallalwgpdpaaa\"  \n",
    "bInsulin = \"fvnqhlcgshlvealylvcgergffytpkt\"  \n",
    "aInsulin = \"giveqcctsicslyqlenycn\"  \n",
    "cInsulin = \"rreaedlqvgqvelgggpgagslqplalegslqkr\"  \n",
    "insulin = bInsulin + aInsulin"
   ]
  },
  {
   "cell_type": "code",
   "execution_count": 1,
   "metadata": {},
   "outputs": [],
   "source": [
    "pKR = {'y':10.07, 'c':8.18, 'k':10.53, 'h':6.00, 'r':12.48, 'd':3.65, 'e':4.25}"
   ]
  },
  {
   "attachments": {},
   "cell_type": "markdown",
   "metadata": {},
   "source": [
    "#### **Using count() to count the numbers of each amino acid**"
   ]
  },
  {
   "cell_type": "code",
   "execution_count": 8,
   "metadata": {},
   "outputs": [],
   "source": [
    "insulin.count(\"y\")\n",
    "float(insulin.count(\"y\"))\n",
    "seqCount = ({x: float(insulin.count(x)) for x in ['y','c','k','h','r','d','e']})"
   ]
  },
  {
   "attachments": {},
   "cell_type": "markdown",
   "metadata": {},
   "source": [
    "#### **Writing the next charge formula**"
   ]
  },
  {
   "cell_type": "code",
   "execution_count": 9,
   "metadata": {},
   "outputs": [
    {
     "name": "stdout",
     "output_type": "stream",
     "text": [
      "0.00 3.999773036108418\n",
      "1.00 3.997731498980362\n",
      "2.00 3.9774281495747488\n",
      "3.00 3.7850011255505267\n",
      "4.00 2.540057926152534\n",
      "5.00 0.4181014741593989\n",
      "6.00 -0.9698633190556047\n",
      "7.00 -2.186629624776233\n",
      "8.00 -4.403272105402016\n",
      "9.00 -7.551924685030059\n",
      "10.00 -9.980672054414311\n",
      "11.00 -12.349327503864025\n",
      "12.00 -13.168625084165932\n",
      "13.00 -13.75988990979344\n",
      "14.00 -13.969868023471733\n"
     ]
    }
   ],
   "source": [
    "pH = 0\n",
    "while (pH <= 14):\n",
    "    netCharge = (\n",
    "    +(sum({x: ((seqCount[x]*(10**pKR[x]))/((10**pH)+(10**pKR[x]))) \\\n",
    "    for x in ['k','h','r']}.values()))\n",
    "    -(sum({x: ((seqCount[x]*(10**pH))/((10**pH)+(10**pKR[x]))) \\\n",
    "    for x in ['y','c','d','e']}.values())))\n",
    "    print('{0:.2f}'.format(pH), netCharge)\n",
    "    pH+=1\n"
   ]
  }
 ],
 "metadata": {
  "kernelspec": {
   "display_name": "Python 3",
   "language": "python",
   "name": "python3"
  },
  "language_info": {
   "codemirror_mode": {
    "name": "ipython",
    "version": 3
   },
   "file_extension": ".py",
   "mimetype": "text/x-python",
   "name": "python",
   "nbconvert_exporter": "python",
   "pygments_lexer": "ipython3",
   "version": "3.10.5"
  },
  "orig_nbformat": 4
 },
 "nbformat": 4,
 "nbformat_minor": 2
}
