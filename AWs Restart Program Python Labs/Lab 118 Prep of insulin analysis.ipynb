{
 "cells": [
  {
   "attachments": {},
   "cell_type": "markdown",
   "metadata": {},
   "source": [
    "### **Lab 118 Preparation de l'analyse de l'insuline**"
   ]
  },
  {
   "cell_type": "code",
   "execution_count": null,
   "metadata": {},
   "outputs": [],
   "source": [
    "with open ('preproinsulin-seq.txt', 'r') as file:\n",
    "    # Read the contents of the file\n",
    "    contents = file.read()\n",
    "    \n",
    "    # Split the contents based on return carriages and output a list\n",
    "    lines = contents.split('\\n')\n",
    "    # Remove any leading or trailing whitespace from the lines\n",
    "    lines = [line.strip() for line in lines]\n",
    "    # Keep the elements of the list except ORIGIN and //\n",
    "    lines=lines[1:3]\n",
    "    lines[0]=lines[0][2:]\n",
    "    lines[1]=lines[1][3:]\n",
    "    s=''.join(lines)\n",
    "    #print(s)\n",
    "    l=s.replace(\" \",\"\")\n",
    "    #output the content of preproinsulin-seq-clean.txt \n",
    "    print(l)\n",
    "    print(len(l))\n",
    "    #output the content of Isinsulin-seq-clean.txt \n",
    "    print(l[0:24])\n",
    "    print(len(l[0:24]))\n",
    "    #output the content of binsulin-seq-clean.txt \n",
    "    print(l[24:54])\n",
    "    print(len(l[24:54]))\n",
    "    #output the content of cinsulin-seq-clean.txt \n",
    "    print(l[54:89])\n",
    "    print(len(l[54:89]))\n",
    "    #output the content of cinsulin-seq-clean.txt \n",
    "    print(l[89:])\n",
    "    print(len(l[89:]))\n",
    "    \n"
   ]
  },
  {
   "cell_type": "code",
   "execution_count": null,
   "metadata": {},
   "outputs": [],
   "source": [
    "def prep(a):\n",
    "    with open ('preproinsulin-seq.txt', 'r') as file:\n",
    "        # Read the contents of the file\n",
    "        contents = file.read()\n",
    "        \n",
    "        # Split the contents based on return carriages and output a list\n",
    "        lines = contents.split('\\n')\n",
    "        # Remove any leading or trailing whitespace from the lines\n",
    "        lines = [line.strip() for line in lines]\n",
    "        # Keep the elements of the list except ORIGIN and //\n",
    "        lines=lines[1:3]\n",
    "        lines[0]=lines[0][2:]\n",
    "        lines[1]=lines[1][3:]\n",
    "        s=''.join(lines)\n",
    "        #print(s)\n",
    "        l=s.replace(\" \",\"\")\n",
    "        #output the content of preproinsulin-seq-clean.txt \n",
    "    return l\n",
    "    "
   ]
  }
 ],
 "metadata": {
  "kernelspec": {
   "display_name": "Python 3",
   "language": "python",
   "name": "python3"
  },
  "language_info": {
   "name": "python",
   "version": "3.10.5"
  },
  "orig_nbformat": 4
 },
 "nbformat": 4,
 "nbformat_minor": 2
}
