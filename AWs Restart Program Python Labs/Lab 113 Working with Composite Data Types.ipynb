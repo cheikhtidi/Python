{
 "cells": [
  {
   "attachments": {},
   "cell_type": "markdown",
   "metadata": {},
   "source": [
    "### **Lab 113 Working with Composite Data Types**"
   ]
  },
  {
   "attachments": {},
   "cell_type": "markdown",
   "metadata": {},
   "source": [
    "#### **Importing the car inventory data**"
   ]
  },
  {
   "cell_type": "code",
   "execution_count": 2,
   "metadata": {},
   "outputs": [],
   "source": [
    "import os"
   ]
  },
  {
   "cell_type": "code",
   "execution_count": 3,
   "metadata": {},
   "outputs": [
    {
     "data": {
      "text/plain": [
       "'c:\\\\Users\\\\dell\\\\Documents\\\\Python\\\\To load in my Github'"
      ]
     },
     "execution_count": 3,
     "metadata": {},
     "output_type": "execute_result"
    }
   ],
   "source": [
    "os.getcwd()"
   ]
  },
  {
   "cell_type": "code",
   "execution_count": 5,
   "metadata": {},
   "outputs": [],
   "source": [
    "os.chdir(\"C:/Users/dell/Documents/Python/To load in my Github/AWs Restart Program Python Labs\")"
   ]
  },
  {
   "cell_type": "code",
   "execution_count": 6,
   "metadata": {},
   "outputs": [],
   "source": [
    "import csv\n",
    "import copy"
   ]
  },
  {
   "attachments": {},
   "cell_type": "markdown",
   "metadata": {},
   "source": [
    "### **Creating a car inventory program**"
   ]
  },
  {
   "cell_type": "code",
   "execution_count": 7,
   "metadata": {},
   "outputs": [],
   "source": [
    "myVehicle = {\n",
    "    \"vin\" : \"<empty>\",\n",
    "    \"make\" : \"<empty>\" ,\n",
    "    \"model\" : \"<empty>\" ,\n",
    "    \"year\" : 0,\n",
    "    \"range\" : 0,\n",
    "    \"topSpeed\" : 0,\n",
    "    \"zeroSixty\" : 0.0,\n",
    "    \"mileage\" : 0\n",
    "}"
   ]
  },
  {
   "cell_type": "code",
   "execution_count": 8,
   "metadata": {},
   "outputs": [
    {
     "name": "stdout",
     "output_type": "stream",
     "text": [
      "vin : <empty>\n",
      "make : <empty>\n",
      "model : <empty>\n",
      "year : 0\n",
      "range : 0\n",
      "topSpeed : 0\n",
      "zeroSixty : 0.0\n",
      "mileage : 0\n"
     ]
    }
   ],
   "source": [
    "for key, value in myVehicle.items():\n",
    "    print(\"{} : {}\".format(key,value))"
   ]
  },
  {
   "cell_type": "code",
   "execution_count": 9,
   "metadata": {},
   "outputs": [],
   "source": [
    "myInventoryList = []"
   ]
  },
  {
   "attachments": {},
   "cell_type": "markdown",
   "metadata": {},
   "source": [
    "#### **Copying the CSV file into memory**"
   ]
  },
  {
   "cell_type": "code",
   "execution_count": 17,
   "metadata": {},
   "outputs": [
    {
     "name": "stdout",
     "output_type": "stream",
     "text": [
      "Column names are: vin, make, model, year, range, topSpeed, zeroSixty, mileage\n",
      "vin: TMX20122 make: AnyCompany Motors, model: Coupe, year: 2012, range: 335, topSpeed: 155, zeroSixty: 4.1, mileage: 50000\n",
      "vin: TM320163 make: AnyCompany Motors, model: Sedan, year: 2016, range: 240, topSpeed: 140, zeroSixty: 5.2, mileage: 20000\n",
      "vin: TMX20121 make: AnyCompany Motors, model: SUV, year: 2012, range: 295, topSpeed: 155, zeroSixty: 4.7, mileage: 100000\n",
      "vin: TMX20204 make: AnyCompany Motors, model: Truck, year: 2020, range: 300, topSpeed: 155, zeroSixty: 3.5, mileage: 0\n",
      "Processed 5 lines.\n"
     ]
    }
   ],
   "source": [
    "with open('car_fleet.csv') as csvFile:\n",
    "    csvReader = csv.reader(csvFile, delimiter=',')  \n",
    "    lineCount = 0  \n",
    "    for row in csvReader:\n",
    "        if lineCount == 0:\n",
    "            print(f'Column names are: {\", \".join(row)}')  \n",
    "            lineCount += 1  \n",
    "        else:  \n",
    "            print(f'vin: {row[0]} make: {row[1]}, model: {row[2]}, year: {row[3]}, range: {row[4]}, topSpeed: {row[5]}, zeroSixty: {row[6]}, mileage: {row[7]}')  \n",
    "            currentVehicle = copy.deepcopy(myVehicle)  \n",
    "            currentVehicle[\"vin\"] = row[0]  \n",
    "            currentVehicle[\"make\"] = row[1]  \n",
    "            currentVehicle[\"model\"] = row[2]  \n",
    "            currentVehicle[\"year\"] = row[3]  \n",
    "            currentVehicle[\"range\"] = row[4]  \n",
    "            currentVehicle[\"topSpeed\"] = row[5]  \n",
    "            currentVehicle[\"zeroSixty\"] = row[6]  \n",
    "            currentVehicle[\"mileage\"] = row[7]  \n",
    "            myInventoryList.append(currentVehicle)  \n",
    "            lineCount += 1  \n",
    "    print(f'Processed {lineCount} lines.')"
   ]
  },
  {
   "attachments": {},
   "cell_type": "markdown",
   "metadata": {},
   "source": [
    "#### **Printing the car inventory**"
   ]
  },
  {
   "cell_type": "code",
   "execution_count": 18,
   "metadata": {},
   "outputs": [
    {
     "name": "stdout",
     "output_type": "stream",
     "text": [
      "vin : TMX20122\n",
      "-----\n",
      "make : AnyCompany Motors\n",
      "-----\n",
      "model : Coupe\n",
      "-----\n",
      "year : 2012\n",
      "-----\n",
      "range : 335\n",
      "-----\n",
      "topSpeed : 155\n",
      "-----\n",
      "zeroSixty : 4.1\n",
      "-----\n",
      "mileage : 50000\n",
      "-----\n",
      "vin : TM320163\n",
      "-----\n",
      "make : AnyCompany Motors\n",
      "-----\n",
      "model : Sedan\n",
      "-----\n",
      "year : 2016\n",
      "-----\n",
      "range : 240\n",
      "-----\n",
      "topSpeed : 140\n",
      "-----\n",
      "zeroSixty : 5.2\n",
      "-----\n",
      "mileage : 20000\n",
      "-----\n",
      "vin : TMX20121\n",
      "-----\n",
      "make : AnyCompany Motors\n",
      "-----\n",
      "model : SUV\n",
      "-----\n",
      "year : 2012\n",
      "-----\n",
      "range : 295\n",
      "-----\n",
      "topSpeed : 155\n",
      "-----\n",
      "zeroSixty : 4.7\n",
      "-----\n",
      "mileage : 100000\n",
      "-----\n",
      "vin : TMX20204\n",
      "-----\n",
      "make : AnyCompany Motors\n",
      "-----\n",
      "model : Truck\n",
      "-----\n",
      "year : 2020\n",
      "-----\n",
      "range : 300\n",
      "-----\n",
      "topSpeed : 155\n",
      "-----\n",
      "zeroSixty : 3.5\n",
      "-----\n",
      "mileage : 0\n",
      "-----\n"
     ]
    }
   ],
   "source": [
    "for myCarProperties in myInventoryList:\n",
    "    for key, value in myCarProperties.items():\n",
    "        print(\"{} : {}\".format(key,value))\n",
    "        print(\"-----\")"
   ]
  }
 ],
 "metadata": {
  "kernelspec": {
   "display_name": "Python 3",
   "language": "python",
   "name": "python3"
  },
  "language_info": {
   "codemirror_mode": {
    "name": "ipython",
    "version": 3
   },
   "file_extension": ".py",
   "mimetype": "text/x-python",
   "name": "python",
   "nbconvert_exporter": "python",
   "pygments_lexer": "ipython3",
   "version": "3.10.5"
  },
  "orig_nbformat": 4
 },
 "nbformat": 4,
 "nbformat_minor": 2
}
