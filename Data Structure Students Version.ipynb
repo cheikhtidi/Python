{
  "cells": [
    {
      "cell_type": "markdown",
      "metadata": {
        "id": "W9QI9FzZK4LA"
      },
      "source": [
        "# Data-Structures"
      ]
    },
    {
      "cell_type": "markdown",
      "metadata": {
        "id": "yHsvxf_fNr3s"
      },
      "source": [
        "# Content\n",
        "\n",
        "* Abstract data types\n",
        "* Data Structures\n",
        "* Classes and Objects - Brief Introduction\n",
        "* Builtin Data structures\n",
        "  * Lists\n",
        "  * tuples\n",
        "  * Sets\n",
        "  * Dictionaries\n",
        "* Implementing data structures\n",
        "  * Queues\n",
        "  * Stacks\n",
        "  * Linked Lists\n",
        "* Immutable vs Mutable\n",
        "* Space Time Complexity analysis\n"
      ]
    },
    {
      "cell_type": "markdown",
      "metadata": {
        "id": "8B3E0vMgRN0R"
      },
      "source": [
        "## Abstract data type(ADT)\n",
        "* A logical definition of data type as a theoretical model\n",
        "* Specification of possible types data, possible operations on the data, and the behavior of those operations\n",
        "* ADT is implementation independent i.e the same ADT will have different types of Implementations\n",
        "\n",
        "\n",
        "E.g Stack ADT, list ADT, Queue ADT, Priority Queue ADT, etc.\n",
        "\n",
        "\n",
        "## Data structures\n",
        "* Are concrete/practical implementation of ADTs\n",
        "\n",
        "E.g Python lists, python deque implementation of queue, etc.\n",
        "\n"
      ]
    },
    {
      "cell_type": "markdown",
      "metadata": {
        "id": "0zfe7hj5V3tF"
      },
      "source": [
        "## Brief Introduction to Classes and Objects\n",
        "\n",
        "### Classes\n",
        "\n",
        "* Are prototype/blueprint of objects\n",
        "* Defines attributes and methods of objects\n",
        "* State of the object is represented by the attributes\n",
        "* Behaviour of the objects is defined by the methods\n",
        "\n",
        "### Class Definition syntax"
      ]
    },
    {
      "cell_type": "code",
      "execution_count": null,
      "metadata": {
        "id": "WxyiaBEZV2H7"
      },
      "outputs": [],
      "source": [
        "class AnimalClass1:\n",
        "  pass\n",
        "class AnimalClass2:\n",
        "  name = \"Cat\"\n",
        "class AnimalClass3:\n",
        "  def __init__(self, name):\n",
        "    self.name = name\n",
        "class AnimalClass4:\n",
        "  def __init__(self, name, sound):\n",
        "    self.name = name\n",
        "    self.sound = sound\n",
        "  def make_sound(self):\n",
        "    print(self.sound)\n"
      ]
    },
    {
      "cell_type": "markdown",
      "metadata": {},
      "source": [
        "### **Define Python Class**"
      ]
    },
    {
      "cell_type": "code",
      "execution_count": null,
      "metadata": {},
      "outputs": [],
      "source": [
        "class ClassName:\n",
        "    # class definition"
      ]
    },
    {
      "cell_type": "markdown",
      "metadata": {},
      "source": [
        "### Here, we have created a class named ClassName.\n",
        "\n",
        "Let's see an example,"
      ]
    },
    {
      "cell_type": "code",
      "execution_count": null,
      "metadata": {},
      "outputs": [],
      "source": [
        "class Bike:\n",
        "    name = \"\"\n",
        "    gear = 0"
      ]
    },
    {
      "cell_type": "markdown",
      "metadata": {},
      "source": [
        "# Here,\n",
        "\n",
        "* **Bike** - the name of the class\n",
        "* **name/gear** - variables inside the class with default values **\"\"** and **0** respectively."
      ]
    },
    {
      "cell_type": "markdown",
      "metadata": {},
      "source": [
        "**Note**: The variables inside a class are called attributes."
      ]
    },
    {
      "cell_type": "markdown",
      "metadata": {
        "id": "1o_8Cne8kUpq"
      },
      "source": [
        "\n",
        "\n",
        "### Objects"
      ]
    },
    {
      "cell_type": "markdown",
      "metadata": {
        "id": "T1qDf-3bXvCw"
      },
      "source": [
        "* Are instances of a class\n",
        "* Classes define the type of the objects and objects are realization of those classes\n",
        "* The same class can be used to creat different objects, "
      ]
    },
    {
      "cell_type": "markdown",
      "metadata": {
        "id": "sHR_2EwBYZ63"
      },
      "source": [
        "#### Syntax to create an object"
      ]
    },
    {
      "cell_type": "code",
      "execution_count": null,
      "metadata": {
        "colab": {
          "base_uri": "https://localhost:8080/"
        },
        "id": "cAmnh73iYZAW",
        "outputId": "95526552-80a5-4fff-836f-f3e0d8838bb6"
      },
      "outputs": [
        {
          "name": "stdout",
          "output_type": "stream",
          "text": [
            "Meow\n"
          ]
        }
      ],
      "source": [
        "animal = AnimalClass4(\"Cat\", \"Meow\")\n",
        "animal.make_sound()"
      ]
    },
    {
      "cell_type": "code",
      "execution_count": null,
      "metadata": {},
      "outputs": [],
      "source": [
        "# create class\n",
        "class Bike:\n",
        "    name = \"\"\n",
        "    gear = 0\n",
        "\n",
        "# create objects of class\n",
        "bike1 = Bike()"
      ]
    },
    {
      "cell_type": "markdown",
      "metadata": {},
      "source": [
        "Here, **bike1** is the object of the class. Now, we can use this object to access the class attributes."
      ]
    },
    {
      "cell_type": "markdown",
      "metadata": {},
      "source": [
        "### **Access Class Attributes Using Objects**"
      ]
    },
    {
      "cell_type": "markdown",
      "metadata": {},
      "source": [
        "We use the **.** notation to access the attributes of a class. For example,"
      ]
    },
    {
      "cell_type": "code",
      "execution_count": null,
      "metadata": {},
      "outputs": [
        {
          "data": {
            "text/plain": [
              "0"
            ]
          },
          "execution_count": 6,
          "metadata": {},
          "output_type": "execute_result"
        }
      ],
      "source": [
        "# modify the name attribute\n",
        "bike1.name = \"Mountain Bike\"\n",
        "\n",
        "# access the gear attribute\n",
        "bike1.gear"
      ]
    },
    {
      "cell_type": "markdown",
      "metadata": {},
      "source": [
        "Here, we have used **bike1.name** and **bike1.gear** to change and access the value of **name** and **gear** attribute respectively."
      ]
    },
    {
      "cell_type": "markdown",
      "metadata": {},
      "source": [
        "### **Example 1: Python Class and Objects**"
      ]
    },
    {
      "cell_type": "code",
      "execution_count": null,
      "metadata": {},
      "outputs": [
        {
          "name": "stdout",
          "output_type": "stream",
          "text": [
            "Name: Mountain Bike, Gears: 11 \n"
          ]
        }
      ],
      "source": [
        "# define a class\n",
        "class Bike:\n",
        "    name = \"\"\n",
        "    gear = 0\n",
        "\n",
        "# create object of class\n",
        "bike1 = Bike()\n",
        "\n",
        "# access attributes and assign new values\n",
        "bike1.gear = 11\n",
        "bike1.name = \"Mountain Bike\"\n",
        "\n",
        "print(f\"Name: {bike1.name}, Gears: {bike1.gear} \")"
      ]
    },
    {
      "cell_type": "markdown",
      "metadata": {},
      "source": [
        "In the above example, we have defined the class named **Bike** with **two attributes**: **name** and **gear**.\n",
        "\n",
        "We have also created an **object** **bike1** of the class **Bike**.   \n",
        "\n",
        "Finally, we have accessed and modified the attributes of an object using the **.** notation."
      ]
    },
    {
      "cell_type": "markdown",
      "metadata": {},
      "source": [
        "### **Create Multiple Objects of Python Class**"
      ]
    },
    {
      "cell_type": "markdown",
      "metadata": {},
      "source": [
        "We can also create multiple objects from a single class. For example,"
      ]
    },
    {
      "cell_type": "code",
      "execution_count": null,
      "metadata": {},
      "outputs": [
        {
          "name": "stdout",
          "output_type": "stream",
          "text": [
            "Employee ID: 1001\n",
            "Employee ID: 1002\n"
          ]
        }
      ],
      "source": [
        "# define a class\n",
        "class Employee:\n",
        "    # define an attribute\n",
        "    employee_id = 0\n",
        "\n",
        "# create two objects of the Employee class\n",
        "employee1 = Employee()\n",
        "employee2 = Employee()\n",
        "\n",
        "# access attributes using employee1\n",
        "employee1.employeeID = 1001\n",
        "print(f\"Employee ID: {employee1.employeeID}\")\n",
        "\n",
        "# access attributes using employee2\n",
        "employee2.employeeID = 1002\n",
        "print(f\"Employee ID: {employee2.employeeID}\")"
      ]
    },
    {
      "cell_type": "markdown",
      "metadata": {},
      "source": [
        "In the above example, we have created **two objects** **employee1** and **employee2** of the **Employee class**."
      ]
    },
    {
      "cell_type": "markdown",
      "metadata": {},
      "source": [
        "### **Python Methods** \n",
        " \n",
        " We can also define a function inside a Python class. A Python Function defined inside a class is called a method.\n",
        "\n",
        "Let's see an example,"
      ]
    },
    {
      "cell_type": "code",
      "execution_count": null,
      "metadata": {},
      "outputs": [
        {
          "name": "stdout",
          "output_type": "stream",
          "text": [
            "Area of Room = 1309.0\n"
          ]
        }
      ],
      "source": [
        "# create a class\n",
        "class Room:\n",
        "    length = 0.0\n",
        "    breadth = 0.0\n",
        "    \n",
        "    # method to calculate area\n",
        "    def calculate_area(self):\n",
        "        print(\"Area of Room =\", self.length * self.breadth)\n",
        "\n",
        "# create object of Room class\n",
        "study_room = Room()\n",
        "\n",
        "# assign values to all the attributes \n",
        "study_room.length = 42.5\n",
        "study_room.breadth = 30.8\n",
        "\n",
        "# access method inside class\n",
        "study_room.calculate_area()"
      ]
    },
    {
      "cell_type": "markdown",
      "metadata": {},
      "source": [
        "In the above example, we have created a class named **Room** with:\n",
        "\n",
        "* **Attributes**: **length** and **breadth**\n",
        "* **Method**: **calculate_area()**\n",
        "Here, we have created an object named **study_room** from the **Room** class. We then used the object to assign values to attributes: **length** and **breadth**.\n",
        "\n",
        "Notice that we have also used the object to call the method inside the class, \n",
        " \n",
        "  **study_room.calculate_area()** \n",
        " \n",
        "Here, we have used the **.** notation to call the method. Finally, the statement inside the method is executed.\n"
      ]
    },
    {
      "cell_type": "markdown",
      "metadata": {},
      "source": [
        "### **Python Constructors** \n",
        "\n",
        "Earlier we assigned a default value to a class attribute,"
      ]
    },
    {
      "cell_type": "code",
      "execution_count": null,
      "metadata": {},
      "outputs": [],
      "source": [
        "class Bike:\n",
        "    name = \"\"\n",
        "...\n",
        "# create object\n",
        "bike1 = Bike()"
      ]
    },
    {
      "cell_type": "markdown",
      "metadata": {},
      "source": [
        "However, we can also initialize values using the constructors. For example,"
      ]
    },
    {
      "cell_type": "code",
      "execution_count": null,
      "metadata": {},
      "outputs": [],
      "source": [
        "class Bike:\n",
        "\n",
        "    # constructor function    \n",
        "    def __init__(self, name = \"\"):\n",
        "        self.name = name\n",
        "\n",
        "bike1 = Bike()"
      ]
    },
    {
      "cell_type": "markdown",
      "metadata": {},
      "source": [
        "Here, **__init__()** is the constructor function that is called whenever a new object of that class is instantiated.\n",
        "\n",
        "The constructor above initializes the value of the **name** attribute. We have used the **self.name** to refer to the **name** attribute of the **bike1** object.\n",
        "\n",
        "If we use a constructor to initialize values inside a class, we need to pass the corresponding value during the object creation of the class."
      ]
    },
    {
      "cell_type": "code",
      "execution_count": null,
      "metadata": {},
      "outputs": [],
      "source": [
        "bike1 = Bike(\"Mountain Bike\")"
      ]
    },
    {
      "cell_type": "markdown",
      "metadata": {},
      "source": [
        "Here, **\"Mountain Bike\"** is passed to the name parameter of **__init__()**."
      ]
    },
    {
      "cell_type": "markdown",
      "metadata": {},
      "source": [
        "Like any other OOP languages, Python also supports the concept of **class inheritance**.\n",
        "\n",
        "**Inheritance** allows us to create a new class from an existing class.\n",
        "\n",
        "The new class that is created is known as **subclass (child or derived class)** and the existing class from which the child class is derived is known as **superclass (parent or base class)**."
      ]
    },
    {
      "cell_type": "markdown",
      "metadata": {},
      "source": [
        "### **Python Inheritance Syntax**\n",
        "Here's the syntax of the inheritance in Python,"
      ]
    },
    {
      "cell_type": "code",
      "execution_count": null,
      "metadata": {},
      "outputs": [],
      "source": [
        "# define a superclass\n",
        "class super_class:\n",
        "    # attributes and method definition\n",
        "\n",
        "# inheritance\n",
        "class sub_class(super_class):\n",
        "    # attributes and method of super_class\n",
        "    # attributes and method of sub_class"
      ]
    },
    {
      "cell_type": "markdown",
      "metadata": {},
      "source": [
        "Here, we are inheriting the **sub_class** class from the **super_class** class."
      ]
    },
    {
      "cell_type": "markdown",
      "metadata": {},
      "source": [
        "### **Example: Python Inheritance**"
      ]
    },
    {
      "cell_type": "code",
      "execution_count": null,
      "metadata": {},
      "outputs": [
        {
          "name": "stdout",
          "output_type": "stream",
          "text": [
            "I can eat\n",
            "My name is  Rohu\n"
          ]
        }
      ],
      "source": [
        "class Animal:\n",
        "\n",
        "    # attribute and method of the parent class\n",
        "    name = \"\"\n",
        "    \n",
        "    def eat(self):\n",
        "        print(\"I can eat\")\n",
        "\n",
        "# inherit from Animal\n",
        "class Dog(Animal):\n",
        "\n",
        "    # new method in subclass\n",
        "    def display(self):\n",
        "        # access name attribute of superclass using self\n",
        "        print(\"My name is \", self.name)\n",
        "\n",
        "# create an object of the subclass\n",
        "labrador = Dog()\n",
        "\n",
        "# access superclass attribute and method \n",
        "labrador.name = \"Rohu\"\n",
        "labrador.eat()\n",
        "\n",
        "# call subclass method \n",
        "labrador.display()"
      ]
    },
    {
      "cell_type": "markdown",
      "metadata": {},
      "source": [
        "In the above example, we have derived a subclass **Dog** from a superclass **Animal**. Notice the statements,"
      ]
    },
    {
      "cell_type": "markdown",
      "metadata": {},
      "source": [
        "labrador.name = \"Rohu\"\n",
        "\n",
        "labrador.eat()"
      ]
    },
    {
      "cell_type": "markdown",
      "metadata": {},
      "source": [
        "Here, we are using **labrador** (object of **Dog**) to access **name** and **eat()** of the **Animal** class. This is possible because the subclass inherits all attributes and methods of the superclass.\n",
        "\n",
        "Also, we have accessed the **name** attribute inside the method of the Dog class using **self**"
      ]
    },
    {
      "cell_type": "markdown",
      "metadata": {},
      "source": [
        "## **is-a relationship**"
      ]
    },
    {
      "cell_type": "markdown",
      "metadata": {},
      "source": [
        "In Python, inheritance is an **is-a** relationship. That is, we use inheritance only if there exists an **is-a** relationship between two classes. For example,\n",
        "\n",
        "* **Car** is a **Vehicle**\n",
        "* **Apple** is a **Fruit**\n",
        "* **Cat** is an **Animal**\n",
        "Here, **Car** can inherit from **Vehicle**, **Apple** can inherit from **Fruit**, and so on."
      ]
    },
    {
      "cell_type": "markdown",
      "metadata": {},
      "source": [
        "## **Method Overriding in Python Inheritance**"
      ]
    },
    {
      "cell_type": "markdown",
      "metadata": {},
      "source": [
        "In the previous example, we see the object of the subclass can access the method of the superclass.\n",
        "\n",
        "**However, what if the same method is present in both the superclass and subclass?**\n",
        "\n",
        "In this case, the method in the subclass overrides the method in the superclass. This concept is known as method overriding in Python."
      ]
    },
    {
      "cell_type": "markdown",
      "metadata": {},
      "source": [
        "### **Example: Method Overriding**"
      ]
    },
    {
      "cell_type": "code",
      "execution_count": null,
      "metadata": {},
      "outputs": [
        {
          "name": "stdout",
          "output_type": "stream",
          "text": [
            "I like to eat bones\n"
          ]
        }
      ],
      "source": [
        "class Animal:\n",
        "\n",
        "    # attributes and method of the parent class\n",
        "    name = \"\"\n",
        "    \n",
        "    def eat(self):\n",
        "        print(\"I can eat\")\n",
        "\n",
        "# inherit from Animal\n",
        "class Dog(Animal):\n",
        "\n",
        "    # override eat() method\n",
        "    def eat(self):\n",
        "        print(\"I like to eat bones\")\n",
        "\n",
        "# create an object of the subclass\n",
        "labrador = Dog()\n",
        "\n",
        "# call the eat() method on the labrador object\n",
        "labrador.eat()"
      ]
    },
    {
      "cell_type": "markdown",
      "metadata": {},
      "source": [
        "In the above example, the same method **eat()** is present in both the **Dog** class and the **Animal** class.\n",
        "\n",
        "Now, when we call the **eat()** method using the object of the **Dog** subclass, the method of the **Dog** class is called.\n",
        "\n",
        "This is because the **eat()** method of the **Dog** subclass overrides the same method of the **Animal** superclass."
      ]
    },
    {
      "cell_type": "markdown",
      "metadata": {},
      "source": [
        "### **The super() Method in Python Inheritance**"
      ]
    },
    {
      "cell_type": "markdown",
      "metadata": {},
      "source": [
        "Previously we saw that the same method in the subclass overrides the method in the superclass.\n",
        "\n",
        "However, if we need to access the superclass method from the subclass, we use the **super()** method. For example,"
      ]
    },
    {
      "cell_type": "code",
      "execution_count": null,
      "metadata": {},
      "outputs": [
        {
          "name": "stdout",
          "output_type": "stream",
          "text": [
            "I can eat\n",
            "I like to eat bones\n"
          ]
        }
      ],
      "source": [
        "class Animal:\n",
        "\n",
        "    name = \"\"\n",
        "    \n",
        "    def eat(self):\n",
        "        print(\"I can eat\")\n",
        "\n",
        "# inherit from Animal\n",
        "class Dog(Animal):\n",
        "    \n",
        "    # override eat() method\n",
        "    def eat(self):\n",
        "        \n",
        "        # call the eat() method of the superclass using super()\n",
        "        super().eat()\n",
        "        \n",
        "        print(\"I like to eat bones\")\n",
        "\n",
        "# create an object of the subclass\n",
        "labrador = Dog()\n",
        "\n",
        "labrador.eat()"
      ]
    },
    {
      "cell_type": "markdown",
      "metadata": {},
      "source": [
        "In the above example, the **eat()** method of the **Dog** subclass overrides the same method of the **Animal** superclass.\n",
        "\n",
        "Inside the Dog class, we have used"
      ]
    },
    {
      "cell_type": "markdown",
      "metadata": {},
      "source": [
        "### call method of superclass\n",
        "      **super().eat()**"
      ]
    },
    {
      "cell_type": "markdown",
      "metadata": {},
      "source": [
        "to call the **eat()** method of the **Animal** superclass from the **Dog** subclass.\n",
        "\n",
        "So, when we call the **eat()** method using the **labrador** object"
      ]
    },
    {
      "cell_type": "markdown",
      "metadata": {},
      "source": [
        "### call the eat() method\n",
        "       **labrador.eat()**"
      ]
    },
    {
      "cell_type": "markdown",
      "metadata": {},
      "source": [
        "Both the overridden and the superclass version of the **eat()** method is executed."
      ]
    },
    {
      "cell_type": "markdown",
      "metadata": {},
      "source": [
        "## **Uses of Inheritance**\n",
        "* Since a child class can inherit all the functionalities of the parent's class, this allows code reusability.\n",
        "* Once a functionality is developed, you can simply inherit it. No need to reinvent the wheel. This allows for cleaner code and easier to maintain.\n",
        "* Since you can also add your own functionalities in the child class, you can inherit only the useful functionalities and define other required features."
      ]
    },
    {
      "cell_type": "markdown",
      "metadata": {},
      "source": [
        "## **Python Multiple Inheritance**"
      ]
    },
    {
      "cell_type": "markdown",
      "metadata": {},
      "source": [
        "In this tutorial, you'll learn about multiple inheritance in Python and how to use it in your program. You'll also learn about multi-level inheritance and the method resolution order.\n",
        "\n"
      ]
    },
    {
      "cell_type": "markdown",
      "metadata": {},
      "source": [
        "### **Python Multiple Inheritance**\n",
        "A **class** can be derived from more than one base class in Python, similar to C++. This is called multiple inheritance.\n",
        "\n",
        "In multiple inheritance, the features of all the base classes are inherited into the derived class. The syntax for multiple inheritance is similar to single **inheritance**."
      ]
    },
    {
      "cell_type": "code",
      "execution_count": null,
      "metadata": {},
      "outputs": [],
      "source": [
        "class Base1:\n",
        "    pass\n",
        "\n",
        "class Base2:\n",
        "    pass\n",
        "\n",
        "class MultiDerived(Base1, Base2):\n",
        "    pass"
      ]
    },
    {
      "cell_type": "markdown",
      "metadata": {},
      "source": [
        "Here, the **MultiDerived** class is derived from **Base1** and **Base2** classes."
      ]
    },
    {
      "cell_type": "markdown",
      "metadata": {},
      "source": [
        "### **Python Multilevel Inheritance**"
      ]
    },
    {
      "cell_type": "markdown",
      "metadata": {},
      "source": [
        "We can also inherit from a derived class. This is called multilevel inheritance. It can be of any depth in Python.\n",
        "\n",
        "In multilevel inheritance, features of the base class and the derived class are inherited into the new derived class.\n",
        "\n",
        "An example with corresponding visualization is given below."
      ]
    },
    {
      "cell_type": "code",
      "execution_count": null,
      "metadata": {},
      "outputs": [],
      "source": [
        "class Base:\n",
        "    pass\n",
        "\n",
        "class Derived1(Base):\n",
        "    pass\n",
        "\n",
        "class Derived2(Derived1):\n",
        "    pass"
      ]
    },
    {
      "cell_type": "markdown",
      "metadata": {},
      "source": [
        "Here, the **Derived1** class is derived from the **Base** class, and the **Derived2** class is derived from the **Derived1** class."
      ]
    },
    {
      "cell_type": "markdown",
      "metadata": {},
      "source": [
        "### **Method Resolution Order in Python**"
      ]
    },
    {
      "cell_type": "markdown",
      "metadata": {},
      "source": [
        "Every class in Python is derived from the **object** class. It is the most base type in Python.\n",
        "\n",
        "So technically, all other classes, either built-in or user-defined, are derived classes and all objects are instances of the **object** class."
      ]
    },
    {
      "cell_type": "code",
      "execution_count": null,
      "metadata": {},
      "outputs": [
        {
          "name": "stdout",
          "output_type": "stream",
          "text": [
            "True\n",
            "True\n",
            "True\n"
          ]
        }
      ],
      "source": [
        "# Output: True\n",
        "print(issubclass(list,object))\n",
        "\n",
        "# Output: True\n",
        "print(isinstance(5.5,object))\n",
        "\n",
        "# Output: True\n",
        "print(isinstance(\"Hello\",object))"
      ]
    },
    {
      "cell_type": "markdown",
      "metadata": {},
      "source": [
        "In the multiple inheritance scenario, any specified attribute is searched first in the current class. If not found, the search continues into parent classes in depth-first, left-right fashion without searching the same class twice.\n",
        "\n",
        "So, in the above example of **MultiDerived** class the search order is [**MultiDerived**, **Base1**, **Base2**, **object**]. This order is also called linearization of **MultiDerived** class and the set of rules used to find this order is called **Method Resolution Order (MRO)**.\n",
        "\n",
        "MRO must prevent local precedence ordering and also provide monotonicity. It ensures that a class always appears before its parents. In case of multiple parents, the order is the same as tuples of base classes.\n",
        "\n",
        "MRO of a class can be viewed as the **__mro__** attribute or the **mro()** method. The former returns a tuple while the latter returns a list."
      ]
    },
    {
      "cell_type": "code",
      "execution_count": null,
      "metadata": {},
      "outputs": [],
      "source": [
        ">>> MultiDerived.__mro__\n",
        "(<class '__main__.MultiDerived'>,\n",
        " <class '__main__.Base1'>,\n",
        " <class '__main__.Base2'>,\n",
        " <class 'object'>)\n",
        "\n",
        ">>> MultiDerived.mro()\n",
        "[<class '__main__.MultiDerived'>,\n",
        " <class '__main__.Base1'>,\n",
        " <class '__main__.Base2'>,\n",
        " <class 'object'>]"
      ]
    },
    {
      "cell_type": "code",
      "execution_count": 7,
      "metadata": {},
      "outputs": [
        {
          "name": "stdout",
          "output_type": "stream",
          "text": [
            "[<class '__main__.M'>, <class '__main__.B'>, <class '__main__.A'>, <class '__main__.X'>, <class '__main__.Y'>, <class '__main__.Z'>, <class 'object'>]\n"
          ]
        }
      ],
      "source": [
        "# Demonstration of MRO\n",
        "\n",
        "class X:\n",
        "    pass\n",
        "\n",
        "\n",
        "class Y:\n",
        "    pass\n",
        "\n",
        "\n",
        "class Z:\n",
        "    pass\n",
        "\n",
        "\n",
        "class A(X, Y):\n",
        "    pass\n",
        "\n",
        "\n",
        "class B(Y, Z):\n",
        "    pass\n",
        "\n",
        "\n",
        "class M(B, A, Z):\n",
        "    pass\n",
        "\n",
        "# Output:\n",
        "# [<class '__main__.M'>, <class '__main__.B'>,\n",
        "#  <class '__main__.A'>, <class '__main__.X'>,\n",
        "#  <class '__main__.Y'>, <class '__main__.Z'>,\n",
        "#  <class 'object'>]\n",
        "\n",
        "print(M.mro())\n"
      ]
    },
    {
      "cell_type": "markdown",
      "metadata": {},
      "source": [
        "## **Python Operator Overloading**"
      ]
    },
    {
      "cell_type": "markdown",
      "metadata": {},
      "source": [
        "In this tutorial, we will learn about **operator overloading** in Python with the help of examples.\n",
        "\n",
        "In Python, we can change the way **operators** work for user-defined types.\n",
        "\n",
        "For example, the **+** operator will perform arithmetic addition on two numbers, merge two lists, or concatenate two strings.\n",
        "\n",
        "This feature in Python that allows the same operator to have different meaning according to the context is called operator overloading.\n",
        "\n"
      ]
    },
    {
      "cell_type": "markdown",
      "metadata": {},
      "source": [
        "### **Example: + Operator Overloading**"
      ]
    },
    {
      "cell_type": "markdown",
      "metadata": {},
      "source": [
        "Suppose if we have a class called **Complex** that represents complex numbers, we could overload the **+** operator to add two **Complex** objects together. For example,"
      ]
    },
    {
      "cell_type": "code",
      "execution_count": 8,
      "metadata": {},
      "outputs": [
        {
          "name": "stdout",
          "output_type": "stream",
          "text": [
            "(4, 6)\n"
          ]
        }
      ],
      "source": [
        "class Complex:\n",
        "    def __init__(self, real, imag):\n",
        "        self.real = real\n",
        "        self.imag = imag\n",
        "\n",
        "    # add two objects\n",
        "    def __add__(self, other):\n",
        "        return self.real + other.real, self.imag + other.imag\n",
        "\n",
        "obj1 = Complex(1, 2)\n",
        "obj2 = Complex(3, 4)\n",
        "obj3 = obj1 + obj2\n",
        "print(obj3)\n",
        "\n",
        "# Output: (4, 6)"
      ]
    },
    {
      "cell_type": "markdown",
      "metadata": {},
      "source": [
        "In the above example, we have used the **+** operator to add two **Complex** objects **a** and **b** together.\n",
        "\n",
        "The ** __add__() ** method overloads the **+** operator to add the real and imaginary parts of the two complex numbers together and returns a new **Complex** object with the resulting values.\n",
        "\n",
        "The ** __str__() ** method returns a string representation of the complex number in the form **a + bj**.\n",
        "\n"
      ]
    },
    {
      "cell_type": "markdown",
      "metadata": {},
      "source": [
        "### **Overloading Comparison Operators**"
      ]
    },
    {
      "cell_type": "markdown",
      "metadata": {},
      "source": [
        "Python does not limit operator overloading to arithmetic operators only. We can overload comparison operators as well.\n",
        "\n",
        "Here's an example of how we can overload the **<** operator to compare two objects the **Person** class based on their **age**:"
      ]
    },
    {
      "cell_type": "code",
      "execution_count": 9,
      "metadata": {},
      "outputs": [
        {
          "name": "stdout",
          "output_type": "stream",
          "text": [
            "True\n",
            "False\n"
          ]
        }
      ],
      "source": [
        "class Person:\n",
        "    def __init__(self, name, age):\n",
        "        self.name = name\n",
        "        self.age = age\n",
        "\n",
        "    # overload < operator\n",
        "    def __lt__(self, other):\n",
        "        return self.age < other.age\n",
        "\n",
        "p1 = Person(\"Alice\", 20)\n",
        "p2 = Person(\"Bob\", 30)\n",
        "\n",
        "print(p1 < p2)  # prints True\n",
        "print(p2 < p1)  # prints False"
      ]
    },
    {
      "cell_type": "markdown",
      "metadata": {},
      "source": [
        "Here,**__lt__()** overloads the **<** operator to compare the **age** attribute of two objects.\n",
        "\n",
        "The **__lt__()** method returns,\n",
        "\n",
        "* **True** - if the first object's **age** is less than the second object's **age**\n",
        "* **False** - if the first object's **age** is greater than the second object's **age**"
      ]
    },
    {
      "cell_type": "markdown",
      "metadata": {},
      "source": [
        "**Note**: We can define similar methods to overload the other comparison operators. For example, **__gt__()** to overload **>** operator, **__eq__()** to overload **==** operator and so on."
      ]
    },
    {
      "cell_type": "markdown",
      "metadata": {},
      "source": [
        "### **Python Special Functions**"
      ]
    },
    {
      "cell_type": "markdown",
      "metadata": {},
      "source": [
        "Class functions that begin with double underscore **__** are called special functions in Python.\n",
        "\n",
        "The special functions are defined by the Python interpreter and used to implement certain features or behaviors.\n",
        "\n",
        "They are called \"double underscore\" functions because they have a double underscore prefix and suffix, such as **__init__()** or **__add__()**.\n",
        "\n",
        "Here are some of the special functions available in Python,"
      ]
    },
    {
      "cell_type": "markdown",
      "metadata": {},
      "source": [
        "Function\tDescription\n",
        "* __init__()\tinitialize the attributes of the object\n",
        "* __str__()\treturns a string representation of the object\n",
        "* __len__()\treturns the length of the object\n",
        "* __add__()\tadds two objects\n",
        "* __call__()\tcall objects of the class like a normal function"
      ]
    },
    {
      "cell_type": "markdown",
      "metadata": {},
      "source": [
        "### **Advantages of Operator Overloading**"
      ]
    },
    {
      "cell_type": "markdown",
      "metadata": {},
      "source": [
        "Here are some advantages of operator overloading,\n",
        "\n",
        "* Improves code readability by allowing the use of familiar operators.\n",
        "* Ensures that objects of a class behave consistently with built-in types and other user-defined types.\n",
        "* Makes it simpler to write code, especially for complex data types.\n",
        "* Allows for code reuse by implementing one operator method and using it for other operators."
      ]
    },
    {
      "cell_type": "markdown",
      "metadata": {
        "id": "745PFX5mZSdQ"
      },
      "source": [
        "### Python's builtin Data structures\n",
        "### Lists\n",
        "* Python's builtin Implementation of List ADT\n",
        "* Are ordered collection of items\n",
        "* Dynamic size\n",
        "* Mutable\n",
        "* More materials on lists\n",
        "  * [Lists and Tuples in Python](https://realpython.com/python-lists-tuples/)\n",
        "* More on implemenatation of lists in python\n",
        "  * [Python list implementation](https://www.laurentluce.com/posts/python-list-implementation/)\n",
        "  * [How are lists implemented in CPython?](https://docs.python.org/3/faq/design.html#id20)\n",
        "* Are indexable(Python uses zero based indices) \n",
        "* Time complexity\n",
        "  * Accessing item by indexing\n",
        "  * Checking existance of item \n",
        "  * Adding item to the end\n",
        "  * Adding item at arbitrary place\n",
        "  \n",
        "  "
      ]
    },
    {
      "cell_type": "code",
      "execution_count": 1,
      "metadata": {
        "colab": {
          "base_uri": "https://localhost:8080/"
        },
        "id": "VLVUTGRzbysi",
        "outputId": "acc47a46-1c00-401b-8d29-0d529b218e1f"
      },
      "outputs": [
        {
          "name": "stdout",
          "output_type": "stream",
          "text": [
            "The first element of list_2 is 10\n",
            "list_1 after append 10, 20 and 10 [10, 20, 10]\n",
            "list_2 after removing 20 [10, 30, 40]\n",
            "list_1 after extending list_2 [10, 20, 10, 10, 30, 40]\n",
            "list_4 [10, 20, 10, 10, 30, 40, 'cat', 'dog']\n"
          ]
        }
      ],
      "source": [
        "list_1 = list() # Creating empty list\n",
        "list_2 = [10, 20, 30, 40] # Anthor way to create list\n",
        "print(\"The first element of list_2 is\", list_2[0]) # accessing the first element of the list\n",
        "list_1.append(10) # adding 10 to the list items. \n",
        "\n",
        "list_1.append(20) # adding 10 to the list items. \n",
        "list_1.append(10) # adding 10 to the list items. \n",
        "print(\"list_1 after append 10, 20 and 10\", list_1)\n",
        "list_2.remove(20)\n",
        "print(\"list_2 after removing 20\", list_2)\n",
        "\n",
        "list_1.extend(list_2) # Adding all elements from the list_2 to list_1\n",
        "print(\"list_1 after extending list_2\", list_1)\n",
        "\n",
        "list_3 = [\"cat\", \"dog\"]\n",
        "list_4 = list_1 + list_3 # List concatenation\n",
        "print(\"list_4\", list_4)"
      ]
    },
    {
      "cell_type": "markdown",
      "metadata": {
        "id": "xjW4yo3JeDTo"
      },
      "source": [
        "\n",
        "<font  color=\"olive\"> <b> Question 1</b><br/>\n",
        " Dot product of vectors\n",
        "Vectors are mathematical objects that are often used to represent the inputs to neural networks. One way to view the vectors is as list of items. Complete the following code to compute dot product of two vectors. Dot product is defined the following equation:-\n",
        "</font>\n",
        "\n",
        "$$\n",
        "x.y = <x, y> = x^Ty = \\sum_{i}^n x_iy_i\n",
        "$$\n",
        "\n",
        "<font  color=\"olive\"> \n",
        "Assume that only lists are passed to the function and they also contain only numeric datatype.\n",
        "\n",
        "</font>"
      ]
    },
    {
      "cell_type": "code",
      "execution_count": 2,
      "metadata": {
        "id": "j-4NM9l6ery2"
      },
      "outputs": [],
      "source": [
        "def dot_prod(vec_1, vec_2):\n",
        "  \"\"\"\n",
        "  Computer dot product of two vectors. The vectors are list of numbers\n",
        "  and have same length, i.e len(vec_1) == len(vec_2). \n",
        "  Parameters\n",
        "  ----------\n",
        "  vec_1 : list\n",
        "    The first vector\n",
        "  vec_2: list\n",
        "    The second vector\n",
        "  Returns\n",
        "  -------\n",
        "  float\n",
        "    The dot product of the vec_1 and vec_2\n",
        "\n",
        "  Examples\n",
        "  --------\n",
        "  >>> dot_prod([1, 2], [3, 4])\n",
        "  11\n",
        "  >>> dot_prod([1, 3, 4], [0, 1, 0])\n",
        "  3\n",
        "  \"\"\"\n",
        "\n",
        "  output = 0\n",
        "  ##### WRITE YOUR CODE HERE #####\n",
        "  assert len(vec_1) == len(vec_2)\n",
        "  for x,y in zip(vec_1, vec_2):\n",
        "      output += x*y\n",
        "  #### END CODE ####\n",
        "  return output;\n",
        "\n"
      ]
    },
    {
      "cell_type": "code",
      "execution_count": 5,
      "metadata": {
        "colab": {
          "base_uri": "https://localhost:8080/"
        },
        "id": "p_K1L1g7gIp9",
        "outputId": "7fa35a41-1794-4449-8e1b-429fa3507b09"
      },
      "outputs": [
        {
          "data": {
            "text/plain": [
              "13"
            ]
          },
          "execution_count": 5,
          "metadata": {},
          "output_type": "execute_result"
        }
      ],
      "source": [
        "dot_prod([1, 2], [3, 5])"
      ]
    },
    {
      "cell_type": "markdown",
      "metadata": {
        "id": "Yudfup1xgxza"
      },
      "source": [
        "\n",
        "\n",
        "<font  color=\"olive\"> <b> Question 2</b><br/>\n",
        "Write a function to compute the squared norm of a vector. You can make the same assumption about vectors as in question 1.\n",
        "Squared norm of a vector $\\mathbf{x}$ is give by the following equation\n",
        "</font>\n",
        "$$\n",
        "  \\left|\\mathbf{x}\\right|^2 = \\sum_i^n x_i^2\n",
        "$$\n",
        "<font  color=\"olive\">\n",
        "You are allowed to use the `dot_prod` function you defined above.\n",
        "</font>\n"
      ]
    },
    {
      "cell_type": "code",
      "execution_count": 6,
      "metadata": {
        "id": "l6jdROoCm18e"
      },
      "outputs": [],
      "source": [
        "def squared_norm(vec):\n",
        "  \"\"\"\n",
        "  Compute the squared norm of vector. \n",
        "  Parameters\n",
        "  ----------\n",
        "  vec : list\n",
        "    The vector\n",
        "  \n",
        "  Returns\n",
        "  -------\n",
        "  float\n",
        "    The squared norm of the vector\n",
        "\n",
        "  Examples\n",
        "  --------\n",
        "  >>> squared_norm([1, 2])\n",
        "  5\n",
        "  >>> squared_norm([1, 3, 4])\n",
        "  26\n",
        "  \"\"\"\n",
        "\n",
        "  output = 0\n",
        "  ##### WRITE YOUR CODE HERE #####\n",
        "  for i in vec:\n",
        "      output += i**2\n",
        "  #### END CODE ####\n",
        "  return output;\n",
        "\n"
      ]
    },
    {
      "cell_type": "code",
      "execution_count": 7,
      "metadata": {
        "colab": {
          "base_uri": "https://localhost:8080/"
        },
        "id": "kaNAatUTndmt",
        "outputId": "78308e56-c975-46d9-8976-c77eb0e3665a"
      },
      "outputs": [
        {
          "data": {
            "text/plain": [
              "26"
            ]
          },
          "execution_count": 7,
          "metadata": {},
          "output_type": "execute_result"
        }
      ],
      "source": [
        "squared_norm([1, 3, 4]) #should be 26"
      ]
    },
    {
      "cell_type": "markdown",
      "metadata": {
        "id": "oW3rEpVrYzR0"
      },
      "source": [
        "### Nested Lists\n",
        "Arrays in machine learning are often in high dimensional. E.g Matrix, RGB image, Video.\n",
        "\n",
        "Matrix can be represented list of rows and each row of the matrix is also another list. This is an example of nested list. \n",
        "```python\n",
        "matrix = [\n",
        "          [1, 2],\n",
        "          [3, 4]\n",
        "        ]\n",
        "```\n",
        "With nested list we can use multiple level of indexing. For example to access 3 in the above matrix we can use the following the following snipt of code.\n",
        "\n",
        "```python\n",
        "matrix[1][0]\n",
        "```\n",
        "\n",
        "Nested for loop can be used to iterate over rows and columns of each rows.\n",
        "\n",
        "```python\n",
        "for i in range(len(matrix)):\n",
        "  for j in range(len(matirx[i])):\n",
        "    print(matrix[i][j])\n",
        "```"
      ]
    },
    {
      "cell_type": "markdown",
      "metadata": {
        "id": "eT2tVNaSdWjo"
      },
      "source": [
        "<font  color=\"olive\"> <b> Question 3</b><br/>\n",
        "Create a function to add two matrix defined by nested list. Assume both matrices have the same number of rows and columns.\n",
        "</font>"
      ]
    },
    {
      "cell_type": "code",
      "execution_count": 8,
      "metadata": {
        "id": "Fhclzl4PdU7c"
      },
      "outputs": [],
      "source": [
        "\n",
        "def add_matrix(matrix_1, matrix_2):\n",
        "    \"\"\"\n",
        "    Adds two matrix\n",
        "    Parameters\n",
        "    ----------\n",
        "    matrix_1 : list\n",
        "        A matrix defined by nested list \n",
        "    matrix_2 : list\n",
        "        A matrix defined by nested list \n",
        "    Returns\n",
        "    -------\n",
        "    list\n",
        "        A matrix, sum of the two matrices.\n",
        "\n",
        "    Examples\n",
        "    --------\n",
        "    >>> add_matrix([[1, 2], [2, 3]], [[4, 1], [5, 0]])\n",
        "    [[5, 3], [7, 3]]\n",
        "    \"\"\"\n",
        "    output = []\n",
        "    ##### WRITE YOUR CODE HERE #####\n",
        "    rows, cols = len(matrix_1), len(matrix_1[0])\n",
        "    for row_idx in range(rows):\n",
        "        row_lst = []\n",
        "        for col_idx in range(cols):\n",
        "            row_lst.append(matrix_1[row_idx][col_idx] + matrix_2[row_idx][col_idx])\n",
        "        output.append(row_lst)\n",
        "    #### END CODE ####\n",
        "\n",
        "    return output;\n"
      ]
    },
    {
      "cell_type": "code",
      "execution_count": 9,
      "metadata": {
        "colab": {
          "base_uri": "https://localhost:8080/"
        },
        "id": "WYZ7SJlTYJSl",
        "outputId": "91bc5756-28d5-4522-dafe-d99048a15342"
      },
      "outputs": [
        {
          "data": {
            "text/plain": [
              "[[5, 3], [7, 3]]"
            ]
          },
          "execution_count": 9,
          "metadata": {},
          "output_type": "execute_result"
        }
      ],
      "source": [
        "add_matrix([[1, 2], [2, 3]], [[4, 1], [5, 0]])\n",
        "# should be: [[5, 3], [7, 3]]"
      ]
    },
    {
      "cell_type": "markdown",
      "metadata": {
        "id": "mew2LY7gid3L"
      },
      "source": [
        "\n",
        "### tuples\n",
        "* Similar to lists but with some difference\n",
        "* Are ordered collection of items\n",
        "* fixed size\n",
        "* Immutable\n",
        "* More materials on tuples\n",
        "  * [Lists and Tuples in Python](https://realpython.com/python-lists-tuples/)\n",
        "\n",
        "\n"
      ]
    },
    {
      "cell_type": "code",
      "execution_count": 11,
      "metadata": {
        "colab": {
          "base_uri": "https://localhost:8080/"
        },
        "id": "GFfVoqqaRNK2",
        "outputId": "ccd7a467-a51c-45b6-c3dc-bf59138108da"
      },
      "outputs": [
        {
          "name": "stdout",
          "output_type": "stream",
          "text": [
            "The first element of t1 is 10\n",
            "t3 (10, 20, 30, 40, 'cat', 'dog')\n"
          ]
        }
      ],
      "source": [
        "t1 = (10, 20, 30, 40) # Creating tuple\n",
        "print(\"The first element of t1 is\", t1[0]) # accessing the first element of the tuple\n",
        "\n",
        "\n",
        "t2 = (\"cat\", \"dog\")\n",
        "t3 = t1 + t2 # tuple concatenation\n",
        "print(\"t3\", t3)"
      ]
    },
    {
      "attachments": {},
      "cell_type": "markdown",
      "metadata": {
        "id": "HrKgmZi2rsCY"
      },
      "source": [
        "#### Type conversion\n",
        "Lists and tuples are ordered items. Conversion from one to another is possible.\n",
        "\n",
        "```python\n",
        "l1 = [1, 2, 3]\n",
        "t1 = tuple(l1) # Convert list to tuple\n",
        "t2 = (2, 4, 1)\n",
        "l2 = list(t2) # Conver to tuple\n",
        "\n",
        "```"
      ]
    },
    {
      "cell_type": "markdown",
      "metadata": {
        "id": "GzsVFFuYKi5i"
      },
      "source": [
        "### Time complexity\n",
        "  * Accessing item by indexing\n",
        "  * Checking existance of item "
      ]
    },
    {
      "cell_type": "markdown",
      "metadata": {
        "id": "vUjCqVKErRYM"
      },
      "source": [
        "<font  color=\"olive\"> <b> Question 4</b><br/>\n",
        "Let's now use tuples to represent vectors. It would be even very convenient to use tuples than list to create vectors becuase basically vectors are fixed length. \n",
        "\n",
        "\n",
        "Create function to add to vectors. The addition of two vectors is given by the following equation.\n",
        "</font>\n",
        "\n",
        "$$\n",
        "  z_i = (\\mathbf{x} + \\mathbf{y})_i = x_i + y_i \n",
        "$$"
      ]
    },
    {
      "cell_type": "code",
      "execution_count": 13,
      "metadata": {
        "id": "jwnOu24crPh4"
      },
      "outputs": [],
      "source": [
        "def add_vectors(vec_1, vec_2):\n",
        "    \"\"\"\n",
        "    Computer addition of two vectors. The vectors are tuples of numbers\n",
        "    and have same length, i.e len(vec_1) == len(vec_2). \n",
        "    Parameters\n",
        "    ----------\n",
        "    vec_1 : tuple\n",
        "        The first vector\n",
        "    vec_2: tuple\n",
        "        The second vector\n",
        "    Returns\n",
        "    -------\n",
        "    tuple\n",
        "        The summition of the vec_1 and vec_2\n",
        "\n",
        "    Examples\n",
        "    --------\n",
        "    >>> add_vectors([1, 2], [3, 4])\n",
        "    (4, 6)\n",
        "    >>> add_vectors([1, 3, 4], [0, 1, 0])\n",
        "    (1, 4, 4)\n",
        "    \"\"\"\n",
        "    output = []\n",
        "    ##### WRITE YOUR CODE HERE #####\n",
        "    for i,j in zip(vec_1, vec_2):\n",
        "        output.append(i+j)\n",
        "    #### END CODE ####\n",
        "    return tuple(output)"
      ]
    },
    {
      "cell_type": "code",
      "execution_count": 14,
      "metadata": {
        "colab": {
          "base_uri": "https://localhost:8080/"
        },
        "id": "-XSJa7Blt6lL",
        "outputId": "58675de0-3518-4caa-aea6-d1f1693179d9"
      },
      "outputs": [
        {
          "data": {
            "text/plain": [
              "(4, 6)"
            ]
          },
          "execution_count": 14,
          "metadata": {},
          "output_type": "execute_result"
        }
      ],
      "source": [
        "add_vectors([1, 2], [3, 4]) #should be (4, 6)"
      ]
    },
    {
      "cell_type": "code",
      "execution_count": 15,
      "metadata": {
        "colab": {
          "base_uri": "https://localhost:8080/"
        },
        "id": "hsDK5IQ4uE19",
        "outputId": "0646ed9a-955a-4cfa-ee54-f79b2a952ae7"
      },
      "outputs": [
        {
          "data": {
            "text/plain": [
              "(1, 4, 4)"
            ]
          },
          "execution_count": 15,
          "metadata": {},
          "output_type": "execute_result"
        }
      ],
      "source": [
        "add_vectors([1, 3, 4], [0, 1, 0]) #should (1, 4, 4)"
      ]
    },
    {
      "cell_type": "markdown",
      "metadata": {
        "id": "ntrv6TG_kK43"
      },
      "source": [
        "## Sets\n",
        "* Are Unordered collection of items\n",
        "* They are mutable\n",
        "* The elements of set are unique(No duplication)\n",
        "* More on Sets [here](https://realpython.com/python-sets/)"
      ]
    },
    {
      "cell_type": "code",
      "execution_count": 16,
      "metadata": {
        "colab": {
          "base_uri": "https://localhost:8080/"
        },
        "id": "P1LDCdw9K3Oi",
        "outputId": "09b98ea8-72bc-4fdf-80fe-ee7ed921c3fe"
      },
      "outputs": [
        {
          "name": "stdout",
          "output_type": "stream",
          "text": [
            "s1 set()\n",
            "s2 {1, 3, 4}\n",
            "s3 {1, 3, 4}\n",
            "s4 {1, 3, 4}\n"
          ]
        }
      ],
      "source": [
        "s1 = set() # Creating empty sets\n",
        "print(\"s1\", s1)\n",
        "s2 = set([1, 3, 4])\n",
        "print(\"s2\", s2)\n",
        "s3 = {1, 3, 4} \n",
        "print(\"s3\",s3)\n",
        "s4 = set((1, 3, 4))\n",
        "print(\"s4\", s4)"
      ]
    },
    {
      "cell_type": "markdown",
      "metadata": {
        "id": "xiSiQhwWv7Ny"
      },
      "source": [
        "## Set operations"
      ]
    },
    {
      "cell_type": "code",
      "execution_count": 17,
      "metadata": {
        "id": "SyHmhmX3K7Hb"
      },
      "outputs": [],
      "source": [
        "s3.add(5)\n",
        "s4.add(6)"
      ]
    },
    {
      "cell_type": "code",
      "execution_count": null,
      "metadata": {
        "colab": {
          "base_uri": "https://localhost:8080/"
        },
        "id": "xjt9_0BuxYkV",
        "outputId": "1577f366-fccc-4f61-82b8-57a731f003a5"
      },
      "outputs": [
        {
          "data": {
            "text/plain": [
              "['__and__',\n",
              " '__class__',\n",
              " '__contains__',\n",
              " '__delattr__',\n",
              " '__dir__',\n",
              " '__doc__',\n",
              " '__eq__',\n",
              " '__format__',\n",
              " '__ge__',\n",
              " '__getattribute__',\n",
              " '__gt__',\n",
              " '__hash__',\n",
              " '__iand__',\n",
              " '__init__',\n",
              " '__init_subclass__',\n",
              " '__ior__',\n",
              " '__isub__',\n",
              " '__iter__',\n",
              " '__ixor__',\n",
              " '__le__',\n",
              " '__len__',\n",
              " '__lt__',\n",
              " '__ne__',\n",
              " '__new__',\n",
              " '__or__',\n",
              " '__rand__',\n",
              " '__reduce__',\n",
              " '__reduce_ex__',\n",
              " '__repr__',\n",
              " '__ror__',\n",
              " '__rsub__',\n",
              " '__rxor__',\n",
              " '__setattr__',\n",
              " '__sizeof__',\n",
              " '__str__',\n",
              " '__sub__',\n",
              " '__subclasshook__',\n",
              " '__xor__',\n",
              " 'add',\n",
              " 'clear',\n",
              " 'copy',\n",
              " 'difference',\n",
              " 'difference_update',\n",
              " 'discard',\n",
              " 'intersection',\n",
              " 'intersection_update',\n",
              " 'isdisjoint',\n",
              " 'issubset',\n",
              " 'issuperset',\n",
              " 'pop',\n",
              " 'remove',\n",
              " 'symmetric_difference',\n",
              " 'symmetric_difference_update',\n",
              " 'union',\n",
              " 'update']"
            ]
          },
          "execution_count": 16,
          "metadata": {
            "tags": []
          },
          "output_type": "execute_result"
        }
      ],
      "source": [
        "dir(s3)"
      ]
    },
    {
      "cell_type": "code",
      "execution_count": 19,
      "metadata": {
        "id": "L0q4e88owpdG"
      },
      "outputs": [],
      "source": [
        "A = set([1, 2, 3, 5])\n",
        "B = set([2, 3, 6, 4, 8])"
      ]
    },
    {
      "cell_type": "code",
      "execution_count": 21,
      "metadata": {
        "colab": {
          "base_uri": "https://localhost:8080/"
        },
        "id": "OTnSz1CKvCrl",
        "outputId": "80b93777-5d67-4cac-93a5-531e5f621ea7"
      },
      "outputs": [
        {
          "name": "stdout",
          "output_type": "stream",
          "text": [
            "A v B = {1, 2, 3, 4, 5, 6, 8}\n",
            "A n B = {2, 3}\n",
            "A / B = {1, 5}\n",
            "B / A = {8, 4, 6}\n"
          ]
        }
      ],
      "source": [
        "print(\"A v B = {}\".format(A | B)) # Union\n",
        "print(\"A n B = {}\".format(A & B)) # Intersection\n",
        "print(\"A / B = {}\".format(A - B)) # relative complement\n",
        "print(\"B / A = {}\".format(B - A)) # relative complement"
      ]
    },
    {
      "cell_type": "code",
      "execution_count": 23,
      "metadata": {
        "colab": {
          "base_uri": "https://localhost:8080/"
        },
        "id": "U6f-wTyNzwj3",
        "outputId": "6869b0c9-77e1-4488-ba04-3450cb539538"
      },
      "outputs": [
        {
          "data": {
            "text/plain": [
              "{5}"
            ]
          },
          "execution_count": 23,
          "metadata": {},
          "output_type": "execute_result"
        }
      ],
      "source": [
        "s3.difference(s4)"
      ]
    },
    {
      "cell_type": "markdown",
      "metadata": {
        "id": "RdbcbWPtKsh_"
      },
      "source": [
        "### Time complexity of set operations\n",
        "  * Accessing item by indexing\n",
        "  * Checking existance of item \n",
        "  * Adding item"
      ]
    },
    {
      "cell_type": "markdown",
      "metadata": {
        "id": "LM1D5WBOxrMU"
      },
      "source": [
        "<font  color=\"olive\"> <b> Question 5</b><br/>\n",
        "Write a function to find the elements of two sets that are in only in one of the sets. Using loop is not allowed. Use only operation on set. \n",
        "</font>"
      ]
    },
    {
      "cell_type": "code",
      "execution_count": 24,
      "metadata": {
        "id": "rmuJFexIwHzr"
      },
      "outputs": [],
      "source": [
        "def intersection_complement(set_a, set_b):\n",
        "    \"\"\"\n",
        "    Find set of items that are only in one of the sets.\n",
        "    Parameters\n",
        "    ----------\n",
        "    set_a : set\n",
        "        A set with elements zero ore more\n",
        "    set_b : set\n",
        "        A set with elements zero ore more\n",
        "\n",
        "\n",
        "    Returns\n",
        "    -------\n",
        "    set\n",
        "        Set containing elements which are in only one of the sets\n",
        "\n",
        "    Examples\n",
        "    --------\n",
        "    >>> intersection_complement({1, 2, 3}, {3, 4, 6})\n",
        "    {1, 2, 4, 6}\n",
        "    >>> intersection_complement(set(), {3, 4, 6})\n",
        "    {3, 4, 6}\n",
        "    \"\"\"\n",
        "\n",
        "    ##### WRITE YOUR CODE HERE #####\n",
        "    inter = set_a.intersection(set_b)\n",
        "    union = set_a.union(set_b)\n",
        "    output = union - inter\n",
        "    #### END CODE ####\n",
        "    return output;\n"
      ]
    },
    {
      "cell_type": "code",
      "execution_count": 25,
      "metadata": {
        "colab": {
          "base_uri": "https://localhost:8080/"
        },
        "id": "Q1VPz6h9ytJ5",
        "outputId": "b8d5b843-8c68-4306-bcee-9db3314b1483"
      },
      "outputs": [
        {
          "data": {
            "text/plain": [
              "{1, 2, 4, 6}"
            ]
          },
          "execution_count": 25,
          "metadata": {},
          "output_type": "execute_result"
        }
      ],
      "source": [
        "intersection_complement({1, 2, 3}, {3, 4, 6})\n",
        "#should be {1, 2, 4, 6}"
      ]
    },
    {
      "cell_type": "code",
      "execution_count": 26,
      "metadata": {
        "colab": {
          "base_uri": "https://localhost:8080/"
        },
        "id": "fFP9h7KSzs5T",
        "outputId": "2e372125-8a4d-4945-fe90-d02111b65bf2"
      },
      "outputs": [
        {
          "data": {
            "text/plain": [
              "{3, 4, 6}"
            ]
          },
          "execution_count": 26,
          "metadata": {},
          "output_type": "execute_result"
        }
      ],
      "source": [
        "intersection_complement(set(), {3, 4, 6})\n",
        "# should be {3, 4, 6}"
      ]
    },
    {
      "cell_type": "code",
      "execution_count": 27,
      "metadata": {
        "colab": {
          "base_uri": "https://localhost:8080/"
        },
        "id": "hDkBJy6R89_U",
        "outputId": "3dbc1c49-7564-4615-b40e-d45b9e1f2a39"
      },
      "outputs": [
        {
          "data": {
            "text/plain": [
              "{3: 5, 2: 4}"
            ]
          },
          "execution_count": 27,
          "metadata": {},
          "output_type": "execute_result"
        }
      ],
      "source": [
        "def add_2(l):\n",
        "    return {i:i+2 for i in l}\n",
        "\n",
        "\n",
        "add_2([3, 2])"
      ]
    },
    {
      "cell_type": "markdown",
      "metadata": {
        "id": "PI9EPVahMH8K"
      },
      "source": [
        "## Dictionaries\n",
        "\n",
        "* Collection of key, value pairs\n",
        "* A key is unique, but value could be diplicate.\n",
        "* Keys should be hashable.\n",
        "* More on Dictionaries [here](https://realpython.com/python-dicts/)"
      ]
    },
    {
      "cell_type": "code",
      "execution_count": 28,
      "metadata": {
        "colab": {
          "base_uri": "https://localhost:8080/"
        },
        "id": "5EhoDjC3ZNYJ",
        "outputId": "77b31543-729b-4ce5-bbf1-f510756ba6c1"
      },
      "outputs": [
        {
          "name": "stdout",
          "output_type": "stream",
          "text": [
            "d1 {}\n",
            "d2 {}\n",
            "d3 {'one': 1, 'two': 2, 'three': 3}\n",
            "d4 {'one': 1, 'two': 2, 'three': 3}\n",
            "d5 {'one': 1, 'two': 2, 'three': 3}\n"
          ]
        }
      ],
      "source": [
        "d1 = {} # Creating empyt dictionary\n",
        "print(\"d1\", d1)\n",
        "d2 = dict() # Another way to create empty dictionary\n",
        "print(\"d2\", d2)\n",
        "d3 = {\"one\":1, \"two\":2, \"three\":3} # Creating dictionary with elements\n",
        "print(\"d3\", d3)\n",
        "d4 = dict(one=1, two=2, three=3) # The same as d3 but different intialization\n",
        "print(\"d4\", d4)\n",
        "d5 = dict([(\"one\", 1), (\"two\", 2), (\"three\", 3)]) # The same as d3 but different intialization\n",
        "print(\"d5\", d5)"
      ]
    },
    {
      "cell_type": "markdown",
      "metadata": {
        "id": "WFl5LhC5KyaR"
      },
      "source": [
        "### Time complexity dictionaries\n",
        "  * Accessing item by indexing\n",
        "  * Checking existance of item \n",
        "    * Keys\n",
        "    * Values\n",
        "  * Adding item \n",
        "  "
      ]
    },
    {
      "cell_type": "markdown",
      "metadata": {
        "id": "Uw_eIJ3NvSht"
      },
      "source": [
        "<font  color=\"olive\"> <b>Quick exercise on set builder</b><br/>\n",
        "</font>"
      ]
    },
    {
      "cell_type": "markdown",
      "metadata": {
        "id": "aTWzm8YqOq_G"
      },
      "source": [
        "## Stacks\n",
        "\n",
        "* Stacks are abstract datatypes. \n",
        "* Python doesn't provide stack builtin implementations\n",
        "* Last In First Out ADT\n",
        "* Have the following operations\n",
        "  * Push: adds an element on top of the stack\n",
        "  * Pop: removes an element from the top of the stack<br/>\n",
        "  * empty: Checks if the stack is empty\n",
        "  <b>Optionally</b>\n",
        "  * Peek: To see the top elements\n",
        "  * Size: Retrieves the number of elements of the stack\n",
        "\n",
        "\n",
        "\n",
        "\n",
        "### Implementing stacks with list\n",
        "* `append()` method of list for push operation\n",
        "* `pop()` method of list for pop operation\n",
        "* indexing with last index for peek operation\n",
        "* list.__len__() == 0 for empty operation \n",
        "* list.__len__() for size operation\n"
      ]
    },
    {
      "cell_type": "code",
      "execution_count": 12,
      "metadata": {
        "colab": {
          "base_uri": "https://localhost:8080/"
        },
        "id": "yTk7z3X8g1Xi",
        "outputId": "df389d90-57a3-456a-891c-63062ee678bd"
      },
      "outputs": [
        {
          "name": "stdout",
          "output_type": "stream",
          "text": [
            "element one\n",
            "Is empty:  True\n",
            "Size 0\n"
          ]
        }
      ],
      "source": [
        "stack = list()\n",
        "stack.append(\"one\") # Push operation\n",
        "element = stack.pop() # Pop operation\n",
        "print(\"element\", element)\n",
        "print(\"Is empty: \", len(stack)==0) # Empty operation\n",
        "print(\"Size\", len(stack))"
      ]
    },
    {
      "cell_type": "markdown",
      "metadata": {
        "id": "BgUjD36BM4Ct"
      },
      "source": [
        "Here we will create a class to represent stack. Don't worry if you don't know what class is and how to use it. All the following code will be clear, once you learn classes and object tomorrow. For know focus on the functions of the class."
      ]
    },
    {
      "cell_type": "code",
      "execution_count": 13,
      "metadata": {
        "id": "nd_ltyduNJmw"
      },
      "outputs": [],
      "source": [
        "class Stack(object):\n",
        "  def __init__(self):\n",
        "    self.__stack = list()\n",
        "  def push(self, element):\n",
        "    self.__stack.append(element)\n",
        "  def pop(self):\n",
        "    if self.empty():\n",
        "      raise StopIteration(\"Pop from empty stack!!!\")\n",
        "    return self.__stack.pop()\n",
        "  def empty(self):\n",
        "    return len(self.__stack) == 0\n",
        "  def size(self):\n",
        "    return len(self.__stack)"
      ]
    },
    {
      "cell_type": "code",
      "execution_count": 14,
      "metadata": {
        "id": "al4NWXo7Pw_k"
      },
      "outputs": [],
      "source": [
        "stack = Stack()"
      ]
    },
    {
      "cell_type": "code",
      "execution_count": 15,
      "metadata": {
        "colab": {
          "base_uri": "https://localhost:8080/"
        },
        "id": "I_SHhpk5TJEa",
        "outputId": "c6b34272-d822-43ab-bb93-122b9d52b3f4"
      },
      "outputs": [
        {
          "data": {
            "text/plain": [
              "['_Stack__stack',\n",
              " '__class__',\n",
              " '__delattr__',\n",
              " '__dict__',\n",
              " '__dir__',\n",
              " '__doc__',\n",
              " '__eq__',\n",
              " '__format__',\n",
              " '__ge__',\n",
              " '__getattribute__',\n",
              " '__gt__',\n",
              " '__hash__',\n",
              " '__init__',\n",
              " '__init_subclass__',\n",
              " '__le__',\n",
              " '__lt__',\n",
              " '__module__',\n",
              " '__ne__',\n",
              " '__new__',\n",
              " '__reduce__',\n",
              " '__reduce_ex__',\n",
              " '__repr__',\n",
              " '__setattr__',\n",
              " '__sizeof__',\n",
              " '__str__',\n",
              " '__subclasshook__',\n",
              " '__weakref__',\n",
              " 'empty',\n",
              " 'pop',\n",
              " 'push',\n",
              " 'size']"
            ]
          },
          "execution_count": 15,
          "metadata": {},
          "output_type": "execute_result"
        }
      ],
      "source": [
        "dir(stack)"
      ]
    },
    {
      "cell_type": "code",
      "execution_count": 16,
      "metadata": {
        "colab": {
          "base_uri": "https://localhost:8080/"
        },
        "id": "0gPPulnpP7mN",
        "outputId": "142827a8-5f67-4e9b-cb3a-8e6a3dad60a4"
      },
      "outputs": [
        {
          "name": "stdout",
          "output_type": "stream",
          "text": [
            "3\n",
            "5\n"
          ]
        }
      ],
      "source": [
        "stack.push(1)\n",
        "stack.push(2)\n",
        "stack.push(3)\n",
        "print(stack.pop())\n",
        "stack.push(4)\n",
        "stack.push(5)\n",
        "print(stack.pop())\n"
      ]
    },
    {
      "cell_type": "code",
      "execution_count": 17,
      "metadata": {
        "colab": {
          "base_uri": "https://localhost:8080/"
        },
        "id": "5DY7O3RlP7sR",
        "outputId": "a65eadf2-b1ae-4ae3-9ead-01a4ad73cf57"
      },
      "outputs": [
        {
          "data": {
            "text/plain": [
              "4"
            ]
          },
          "execution_count": 17,
          "metadata": {},
          "output_type": "execute_result"
        }
      ],
      "source": [
        "stack.pop()"
      ]
    },
    {
      "cell_type": "code",
      "execution_count": 18,
      "metadata": {
        "colab": {
          "base_uri": "https://localhost:8080/"
        },
        "id": "zvuZc6zXP7vH",
        "outputId": "8385dc14-789e-4969-e8d5-1177a959ae12"
      },
      "outputs": [
        {
          "data": {
            "text/plain": [
              "2"
            ]
          },
          "execution_count": 18,
          "metadata": {},
          "output_type": "execute_result"
        }
      ],
      "source": [
        "stack.pop()"
      ]
    },
    {
      "cell_type": "code",
      "execution_count": 19,
      "metadata": {
        "colab": {
          "base_uri": "https://localhost:8080/"
        },
        "id": "VJUDUlx1R2TU",
        "outputId": "56e9d25e-1ac2-4029-abc0-623dfeb39294"
      },
      "outputs": [
        {
          "data": {
            "text/plain": [
              "1"
            ]
          },
          "execution_count": 19,
          "metadata": {},
          "output_type": "execute_result"
        }
      ],
      "source": [
        "stack.pop()"
      ]
    },
    {
      "cell_type": "markdown",
      "metadata": {
        "id": "I_M8SXShauRQ"
      },
      "source": [
        "## Queues\n",
        "* Similar to stack\n",
        "* First In First Out(FIFO) ADT\n",
        "* Python provides [deque objects](https://docs.python.org/3/library/collections.html#collections.defaultdict), to implement queue\n",
        "\n"
      ]
    },
    {
      "cell_type": "markdown",
      "metadata": {
        "id": "Mze-jctfo4en"
      },
      "source": [
        "## Linked Lists\n",
        "\n",
        "* Another implementation of List ADT\n",
        "* Each element has reference to next element(which could be for tail)\n",
        "* Have two properties, head node and tail node\n",
        "\n",
        "\n",
        "<img src=\"https://upload.wikimedia.org/wikipedia/commons/b/bf/Linked_list_data_format.jpg\"/><br/>\n",
        "<b>fig src:[https://upload.wikimedia.org/wikipedia/commons/b/bf/Linked_list_data_format.jpg](https://upload.wikimedia.org/wikipedia/commons/b/bf/Linked_list_data_format.jpg)</b>"
      ]
    },
    {
      "cell_type": "markdown",
      "metadata": {
        "id": "A5mwpmlGSC-f"
      },
      "source": [
        "We will implement Queue the same way as we implemented Stack. But here we will use deque to instead of list. Deque are more effient[O(1)] to add item to the start index compared with list which requires  O(n) time complexity to add item to the start index."
      ]
    },
    {
      "cell_type": "markdown",
      "metadata": {
        "id": "CrLB0QwGqOyY"
      },
      "source": [
        "### Linked List - Node\n",
        "* Each element in linked list\n",
        "* Has two properties\n",
        "  * Value\n",
        "  * Next \n",
        "\n",
        "  \n",
        "### Implemeneting Linked List\n"
      ]
    },
    {
      "cell_type": "code",
      "execution_count": null,
      "metadata": {
        "id": "K8XfU2HzR_Hd"
      },
      "outputs": [],
      "source": [
        "from collections import deque\n",
        "class Queue(object):\n",
        "  def __init__(self):\n",
        "    self.__q = deque()\n",
        "  def enque(self, item):\n",
        "    self.__q.append(item)\n",
        "  def deque(self):\n",
        "    try:\n",
        "      return self.__q.popleft()\n",
        "    except StopIteration as exp:\n",
        "      raise StopIteration(\"Poping from empty queue\")\n",
        "  "
      ]
    },
    {
      "cell_type": "markdown",
      "metadata": {
        "id": "VNR8OLXAl7e8"
      },
      "source": [
        "## Mutable vs Immutable \n",
        "### Mutable\n",
        "  * Are data structures that can be changed, after their creation\n",
        "  * Since their value can be changed they are not hashable"
      ]
    },
    {
      "cell_type": "code",
      "execution_count": 20,
      "metadata": {
        "colab": {
          "base_uri": "https://localhost:8080/",
          "height": 226
        },
        "id": "5D7sOyBxl84d",
        "outputId": "1c398304-ef5c-4457-b81f-a3adc3168505"
      },
      "outputs": [
        {
          "name": "stdout",
          "output_type": "stream",
          "text": [
            "s: {'Two', 'Three', 'One'}\n"
          ]
        },
        {
          "ename": "TypeError",
          "evalue": "unhashable type: 'set'",
          "output_type": "error",
          "traceback": [
            "\u001b[1;31m---------------------------------------------------------------------------\u001b[0m",
            "\u001b[1;31mTypeError\u001b[0m                                 Traceback (most recent call last)",
            "\u001b[1;32mc:\\Users\\dell\\Documents\\Python\\Data Structure Students Version.ipynb Cell 152'\u001b[0m in \u001b[0;36m<cell line: 4>\u001b[1;34m()\u001b[0m\n\u001b[0;32m      <a href='vscode-notebook-cell:/c%3A/Users/dell/Documents/Python/Data%20Structure%20Students%20Version.ipynb#ch0000111?line=1'>2</a>\u001b[0m s\u001b[39m.\u001b[39madd(\u001b[39m\"\u001b[39m\u001b[39mThree\u001b[39m\u001b[39m\"\u001b[39m)\n\u001b[0;32m      <a href='vscode-notebook-cell:/c%3A/Users/dell/Documents/Python/Data%20Structure%20Students%20Version.ipynb#ch0000111?line=2'>3</a>\u001b[0m \u001b[39mprint\u001b[39m(\u001b[39m\"\u001b[39m\u001b[39ms:\u001b[39m\u001b[39m\"\u001b[39m, s)\n\u001b[1;32m----> <a href='vscode-notebook-cell:/c%3A/Users/dell/Documents/Python/Data%20Structure%20Students%20Version.ipynb#ch0000111?line=3'>4</a>\u001b[0m another_set \u001b[39m=\u001b[39m \u001b[39mset\u001b[39;49m([\u001b[39m1\u001b[39;49m, s])\n",
            "\u001b[1;31mTypeError\u001b[0m: unhashable type: 'set'"
          ]
        }
      ],
      "source": [
        "s = set([\"One\", \"Two\"])\n",
        "s.add(\"Three\")\n",
        "print(\"s:\", s)\n",
        "another_set = set([1, s]) # This will not run because s is  immutable"
      ]
    },
    {
      "cell_type": "markdown",
      "metadata": {
        "id": "R-NzeS1slPth"
      },
      "source": [
        "\n",
        "### Immutable \n",
        "\n",
        "  * The data structures that cannot be changed once they are created.\n",
        "  * They are hashable and can be used as elements of set and as keys of dictionaries\n",
        "  \n",
        " \n"
      ]
    },
    {
      "cell_type": "code",
      "execution_count": null,
      "metadata": {
        "id": "KoK7RuyGl6x1"
      },
      "outputs": [],
      "source": [
        "t = tuple([\"One\", \"Two\"])\n",
        "\n",
        "s = set([1, t]) # This will run because t is  immutable"
      ]
    },
    {
      "cell_type": "code",
      "execution_count": null,
      "metadata": {
        "id": "9NpELs0xrXKv"
      },
      "outputs": [],
      "source": []
    },
    {
      "cell_type": "markdown",
      "metadata": {
        "id": "8Mz68PBCrXnC"
      },
      "source": [
        "## Time and Space complexity analysis"
      ]
    },
    {
      "cell_type": "markdown",
      "metadata": {
        "id": "dTaPSJ6IKSam"
      },
      "source": [
        "<font color=\"olive\"> <b> Question 6</b><br/> Given an integer n write a function to retrieve the first n fibonacci sequence elements.</font>\n"
      ]
    },
    {
      "cell_type": "code",
      "execution_count": null,
      "metadata": {
        "colab": {
          "base_uri": "https://localhost:8080/"
        },
        "id": "XvyBjRi6Kh9_",
        "outputId": "87980c4b-b17d-4408-8bf9-bf39197d9a59"
      },
      "outputs": [
        {
          "data": {
            "text/plain": [
              "[1, 1, 2, 3, 5, 8]"
            ]
          },
          "execution_count": 36,
          "metadata": {
            "tags": []
          },
          "output_type": "execute_result"
        }
      ],
      "source": [
        "\n",
        "def fibonacci(n):\n",
        "    \"\"\"\n",
        "    The first n elements of fibonacci sequence.\n",
        "    Parameters\n",
        "    ----------\n",
        "    n : int\n",
        "        Number of fibonacci sequence elements to retrieve\n",
        "    Returns\n",
        "    -------\n",
        "    list\n",
        "        The first n fibonacci sequence elements\n",
        "    Examples\n",
        "    --------\n",
        "    >>> fibonacci(1)\n",
        "    [1]\n",
        "    >>> fibonacci(2)\n",
        "    [1, 1]\n",
        "    >>> fibonacci(6)\n",
        "    [1, 1, 2, 3, 5, 8]\n",
        "    \"\"\"\n",
        "    output = []\n",
        "    ##### WRITE YOUR CODE HERE #####\n",
        "    if n < 0: return output\n",
        "    x, x_1 = 0, 1\n",
        "    for i in range(n):\n",
        "        output.append(x_1)\n",
        "        x, x_1 = x_1, x+x_1\n",
        "    #### END CODE ####\n",
        "    return output;\n",
        "\n",
        "\n",
        "fibonacci(6) #should be [1, 1, 2, 3, 5, 8]"
      ]
    },
    {
      "cell_type": "markdown",
      "metadata": {
        "id": "WoZ5EFwl9y4J"
      },
      "source": [
        "\n",
        "<font color=\"olive\"> <b> Question 7</b><br/>Write a function that accepts integer n as argument, it should return a dictionary with key of non-negative integers up to n and squares of the those integers as values. e.g for n == 3 the output should be {0:0, 1:1, 2:4, 3:9}</font>"
      ]
    },
    {
      "cell_type": "code",
      "execution_count": null,
      "metadata": {
        "colab": {
          "base_uri": "https://localhost:8080/"
        },
        "id": "70piy99JlR7O",
        "outputId": "a1d9cf44-ea38-446a-f398-848a92c2983e"
      },
      "outputs": [
        {
          "data": {
            "text/plain": [
              "{0: 0, 1: 1, 2: 4, 3: 9}"
            ]
          },
          "execution_count": 37,
          "metadata": {
            "tags": []
          },
          "output_type": "execute_result"
        }
      ],
      "source": [
        "def squares(n):\n",
        "    \"\"\"\n",
        "    Squares of non negative integers numbers up to n\n",
        "    Parameters\n",
        "    ----------\n",
        "    n : int\n",
        "        The number which specifies the upper bound of the numbers to compute squares\n",
        "    Returns\n",
        "    -------\n",
        "    dict\n",
        "        Dictionary where the keys are numbers up to n and the values are the squares\n",
        "        of those integers.\n",
        "\n",
        "    Examples\n",
        "    --------\n",
        "    >>> squares(3)\n",
        "    {0:0, 1:1, 2:4, 3:9}\n",
        "    >>> squares(1)\n",
        "    {0:0, 1:1}\n",
        "    \"\"\"\n",
        "    output = {}\n",
        "    ##### WRITE YOUR CODE HERE #####\n",
        "    for i in range(n+1):\n",
        "        output[i] = i**2\n",
        "    #### END CODE ####\n",
        "    return output;\n",
        "\n",
        "squares(3)"
      ]
    },
    {
      "cell_type": "markdown",
      "metadata": {
        "id": "0hguzTi-EVNB"
      },
      "source": [
        "<font color=\"olive\"> <b> Question 8</b><br/>Implement factorial function using recursion. Optimize the implementation for space complexity.</font>"
      ]
    },
    {
      "cell_type": "code",
      "execution_count": null,
      "metadata": {
        "colab": {
          "base_uri": "https://localhost:8080/"
        },
        "id": "xjvFnUywDZvO",
        "outputId": "7f3ee13b-af9b-47d6-d98a-20cfe5313892"
      },
      "outputs": [
        {
          "data": {
            "text/plain": [
              "120"
            ]
          },
          "execution_count": 38,
          "metadata": {
            "tags": []
          },
          "output_type": "execute_result"
        }
      ],
      "source": [
        "def factorial(n, mem = {}):\n",
        "    \"\"\"\n",
        "    Factorial of n with recursion.\n",
        "    Parameters\n",
        "    ----------\n",
        "    n : int\n",
        "        The number to compute factorial\n",
        "    mem : dict\n",
        "        The memory used to store previously computed factorial values\n",
        "    Returns\n",
        "    -------\n",
        "    int\n",
        "        The factorial of the n\n",
        "\n",
        "    Examples\n",
        "    --------\n",
        "    >>> factorial(0)\n",
        "    1\n",
        "    >>> factorial(3)\n",
        "    6\n",
        "    \"\"\"\n",
        "    assert n >= 0\n",
        "    ##### WRITE YOUR CODE HERE #####\n",
        "    if n == 0:\n",
        "        return 1\n",
        "    #### END CODE ####\n",
        "    return n * factorial(n-1);\n",
        "\n",
        "\n",
        "factorial(5)"
      ]
    },
    {
      "cell_type": "markdown",
      "metadata": {
        "id": "J3Z7ylCeTMq4"
      },
      "source": [
        "<font  color=\"olive\"> <b> Question 9</b><br/></font>\n",
        "\n",
        "\n",
        "Here you are going to change the way python converts dictonaries to strings. In python if we have dictionary `{'one': 1, 'two': 2}`, calling the str method will convert this dictionary to `\"{'one': 1, 'two': 2}\"`. But we want to change this behavior.\n",
        "So if have `{'one': 1, 'two': 2}` dictionary, the model should output `\"{\\n\\t'one' => 1,\\n\\t'two' => 2\\n}\"`, so that printing the output would look like\n",
        "\n",
        "```bash\n",
        "{\n",
        "\t'one' => 1,\n",
        "\t'two' => 2\n",
        "}\n",
        "\n",
        "\n",
        "```\n",
        "\n",
        "for dictionary `{1:('a', 'b'), 2:('c', 'd')}` the output should be `\"{\\n\\t1 => ('a', 'b'),\\n\\t2 => ('c', 'd')\\n}\"`, so the printing would produce:-\n",
        "\n",
        "```bash\n",
        "{\n",
        "\t1 => ('a', 'b'),\n",
        "\t2 => ('c', 'd')\n",
        "}\n",
        "\n",
        "```\n",
        "\n",
        "for dictionary `{1:'a', 2:'b'}` the output should be `{\\n\\t1 => 'a',\\n\\t2 => 'b'\\n}`, so the printing would produce:-\n",
        "\n",
        "```bash\n",
        "{\n",
        "\t1 => 'a',\n",
        "\t2 => 'b'\n",
        "}\n",
        "\n",
        "```\n",
        "\n",
        "\n",
        "<font color=\"olive\">\n",
        "Write a function called `dict_str` it should accept dictionary and should return string representation of the dictionary in the new format discussed here.\n",
        "</font>"
      ]
    },
    {
      "cell_type": "code",
      "execution_count": 21,
      "metadata": {
        "colab": {
          "base_uri": "https://localhost:8080/"
        },
        "id": "nHJL2ATgFvNl",
        "outputId": "307eeaf3-5bd1-4d8e-b847-1119c25c5d07"
      },
      "outputs": [
        {
          "name": "stdout",
          "output_type": "stream",
          "text": [
            "{\n",
            "    1 => a,\n",
            "    2 => b\n",
            "}\n",
            "{\n",
            "    1 => ('a', 'b'),\n",
            "    2 => ('c', 'd')\n",
            "}\n"
          ]
        }
      ],
      "source": [
        "def dict_str(d):\n",
        "    \"\"\"\n",
        "    New string representation for dictionaries\n",
        "    Parameters\n",
        "    ----------\n",
        "    d : dict\n",
        "        The dictionary to compute string representation\n",
        "    Returns\n",
        "    -------\n",
        "    str\n",
        "        New string reprsentation for the dictionary\n",
        "\n",
        "    Examples\n",
        "    --------\n",
        "    >>> dict_str({'one': 1, 'two': 2})\n",
        "    \"{\\n\\t'one' => 1,\\n\\t'two' => 2\\n}\"\n",
        "    >>> dict_str({1:('a', 'b'), 2:('c', 'd')})\n",
        "    \"{\\n\\t1 => ('a', 'b'),\\n\\t2 => ('c', 'd')\\n}\"\n",
        "\n",
        "    \"\"\"\n",
        "    output = []\n",
        "    ##### WRITE YOUR CODE HERE #####\n",
        "    for k, v in d.items():\n",
        "        output.append(f\"\\n    {k} => {v},\")\n",
        "    #### END CODE ####\n",
        "    return '{'+\"\".join(output)[:-1] + \"\\n}\"\n",
        "\n",
        "\n",
        "print(dict_str({1:'a', 2:'b'}))\n",
        "print(dict_str({1:('a', 'b'), 2:('c', 'd')}))"
      ]
    },
    {
      "cell_type": "markdown",
      "metadata": {
        "id": "_7WtFVIxIZSQ"
      },
      "source": [
        "<font  color=\"olive\"> <b> Question 10</b><br/>\n",
        "Create a function to reverse a list. The function should use O(1) memory regardless of the input list size. Using `reversed` function is not allowed.</font>"
      ]
    },
    {
      "cell_type": "code",
      "execution_count": null,
      "metadata": {
        "colab": {
          "base_uri": "https://localhost:8080/"
        },
        "id": "VUlvSt06Ikyf",
        "outputId": "9e4c4da5-1141-4d95-ce87-282eefda7e54"
      },
      "outputs": [
        {
          "data": {
            "text/plain": [
              "[5, 4, 3, 2, 1]"
            ]
          },
          "execution_count": 40,
          "metadata": {
            "tags": []
          },
          "output_type": "execute_result"
        }
      ],
      "source": [
        "def reverse_list(l):\n",
        "    \"\"\"\n",
        "    Reverse a list \n",
        "    Parameters\n",
        "    ----------\n",
        "    l : list\n",
        "        A list to reverse the order\n",
        "    Returns\n",
        "    -------\n",
        "    list\n",
        "        New list with elements in reversed order\n",
        "\n",
        "    Examples\n",
        "    --------\n",
        "    >>> reverse_list([1])\n",
        "    [1]\n",
        "    >>> reverse_list([1, 2, 3, 4])\n",
        "    [4, 3, 2, 1]\n",
        "\n",
        "    \"\"\"\n",
        "    ##### WRITE YOUR CODE HERE #####\n",
        "    for i in range(len(l)//2):\n",
        "        l[i], l[len(l)-1-i] = l[len(l)-1-i], l[i]\n",
        "    #### END CODE ####\n",
        "    return l\n",
        "\n",
        "\n",
        "reverse_list([1,2,3,4,5])"
      ]
    },
    {
      "cell_type": "markdown",
      "metadata": {
        "id": "5yUHZIEPgNMS"
      },
      "source": [
        "<font  color=\"olive\"> <b> Question 11</b><br/>\n",
        "Write a function to remove duplicate elements from a list. The order might be changed. Do this exercise without using loops.\n",
        "\n",
        "</font>"
      ]
    },
    {
      "cell_type": "code",
      "execution_count": null,
      "metadata": {
        "colab": {
          "base_uri": "https://localhost:8080/"
        },
        "id": "wM3jhqbugMJA",
        "outputId": "7dd9d31c-283d-4474-f843-a00e8afec88d"
      },
      "outputs": [
        {
          "data": {
            "text/plain": [
              "{1, 2, 3, 4}"
            ]
          },
          "execution_count": 41,
          "metadata": {
            "tags": []
          },
          "output_type": "execute_result"
        }
      ],
      "source": [
        "def remove_duplicate(l):\n",
        "    \"\"\"\n",
        "    Remove duplicate \n",
        "    Parameters\n",
        "    ----------\n",
        "    l : list\n",
        "        A list possibly containing duplicate elements\n",
        "    Returns\n",
        "    -------\n",
        "    list\n",
        "        A list containing only unique elements\n",
        "\n",
        "    Examples\n",
        "    --------\n",
        "    >>> remove_duplicate([1, 2, 2, 3, 4, 1])\n",
        "    [1, 2, 3, 4]\n",
        "    >>> remove_duplicate([1, 2, 3, 4])\n",
        "    [1, 2, 3, 4]\n",
        "\n",
        "    \"\"\"\n",
        "    ##### WRITE YOUR CODE HERE #####\n",
        "    return set(l)\n",
        "    #### END CODE ####\n",
        "\n",
        "\n",
        "remove_duplicate([1, 2, 2, 3, 4, 1])"
      ]
    },
    {
      "cell_type": "markdown",
      "metadata": {
        "id": "je5RQmlFYJ3S"
      },
      "source": [
        "<font  color=\"olive\"> <b> Question 12</b><br/></font>\n",
        "Create a class to represent matrix with the following properties.\n",
        "\n",
        "* Initializer should accept three optional parameters\n",
        "    * rows => int: number of rows\n",
        "    * cols => int: number of columns of matrix\n",
        "    * matrix => list: nested list\n",
        "* If matrix parameter is None:\n",
        "   * The rows and cols should be given, if they are not given raise Exception.\n",
        "   * Create `__matrix` attribute of nested list with given number of rows and columns\n",
        "   \n",
        "   * All elements of the `__matrix` should be zero\n",
        "* If matrix paramter is not None\n",
        "  * Check if it is nested list, otherwise raise exception.\n",
        "  * You should check if the all inner lists have the same size and  numeric datatype\n",
        "  * Ignore the rows and cols parameters\n",
        "* Create `__rows` attribute to be the number of rows of `__matrix`\n",
        "* Create `__cols` attribute to be the number of columns of `__matrix`"
      ]
    },
    {
      "cell_type": "code",
      "execution_count": null,
      "metadata": {
        "colab": {
          "base_uri": "https://localhost:8080/"
        },
        "id": "trQlA4jwIBiy",
        "outputId": "4b7c8982-a8db-46f7-da2a-6a04945e361b"
      },
      "outputs": [
        {
          "name": "stdout",
          "output_type": "stream",
          "text": [
            "[[0, 0, 0], [0, 0, 1]]\n",
            "2\n",
            "3\n"
          ]
        }
      ],
      "source": [
        "class Matrix:\n",
        "    def __init__(self, rows=None, cols=None, matrix=None):\n",
        "        if matrix is None:\n",
        "            if (rows is None or cols is None):\n",
        "                raise Exception()\n",
        "            self.__matrix = [[0 for j in range(cols)] for i in range(rows)]\n",
        "            self.__rows = rows\n",
        "            self.__cols = cols\n",
        "        else:\n",
        "            # make sure the matrix is nested list\n",
        "            if not (type(matrix) == list and type(matrix[0] == list)):\n",
        "                raise Exception(\"Matrix attribute must be a nested list!!\")\n",
        "            # make sure the nested lists are the same length\n",
        "            rows = len(matrix)\n",
        "            cols = len(matrix[0])\n",
        "            for lst in matrix[1:]:\n",
        "                if len(lst) != cols:\n",
        "                    raise Exception(\"Matrix dimension isn't consistent!!\")\n",
        "            self.__matrix = matrix\n",
        "            self.__rows= rows\n",
        "            self.__cols = cols\n",
        "    \n",
        "    def print(self):\n",
        "        print(self.__matrix)\n",
        "    \n",
        "\n",
        "    def print_num_rows(self):\n",
        "        print(self.__rows)\n",
        "    \n",
        "    def print_num_cols(self):\n",
        "        print(self.__cols)\n",
        "    \n",
        "\n",
        "\n",
        "mat = Matrix(2, 5, [[0, 0, 0], [0, 0, 1]])\n",
        "mat.print()\n",
        "mat.print_num_rows()\n",
        "mat.print_num_cols()"
      ]
    }
  ],
  "metadata": {
    "colab": {
      "collapsed_sections": [],
      "name": "Mohamed_Anwar_Data Structure - Students Version",
      "provenance": []
    },
    "interpreter": {
      "hash": "c7af7df4901773a0e355da496bf365ae011b1b331a57bbc9908dae1ee21823d7"
    },
    "kernelspec": {
      "display_name": "Python 3.10.5 64-bit",
      "language": "python",
      "name": "python3"
    },
    "language_info": {
      "codemirror_mode": {
        "name": "ipython",
        "version": 3
      },
      "file_extension": ".py",
      "mimetype": "text/x-python",
      "name": "python",
      "nbconvert_exporter": "python",
      "pygments_lexer": "ipython3",
      "version": "3.10.5"
    }
  },
  "nbformat": 4,
  "nbformat_minor": 0
}
