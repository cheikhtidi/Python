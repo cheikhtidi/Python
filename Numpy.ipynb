{
  "cells": [
    {
      "cell_type": "markdown",
      "metadata": {
        "id": "8SR2J-uRC4G9"
      },
      "source": [
        "# **Numpy**\n",
        "\n",
        "Numpy is the core library for scientific computing in Python. It provides a high-performance multi-dimensional array object, and tools for working with these arrays. \n",
        "\n",
        "*   **POWERFUL N-DIMENSIONAL ARRAYS**: Fast and versatile, the NumPy vectorization, indexing, and broadcasting concepts are the de-facto standards of array computing today.\n",
        "\n",
        "*   **NUMERICAL COMPUTING TOOLS**: offers comprehensive mathematical functions, random number generators, linear algebra routines, Fourier transforms, and more.\n",
        "\n",
        "*   **INTEROPERABLE**: NumPy supports a wide range of hardware and computing platforms, and plays well with distributed, GPU, and sparse array libraries.\n",
        "\n",
        "*   **PERFORMANT**: The core of NumPy is well-optimized C code.\n",
        "\n",
        "*   **EASY TO USE**\n",
        "\n",
        "*   **OPEN SOURCE**: The source code is public on github\n"
      ]
    },
    {
      "cell_type": "markdown",
      "metadata": {
        "id": "bcRz3eaBFDbd"
      },
      "source": [
        "# Why Numpy ? (Hint: speed)\n",
        "\n",
        "At the core of the NumPy package, is the ndarray object. This encapsulates n-dimensional arrays of homogeneous data types, with many operations being performed in compiled code for performance.\n",
        "\n",
        "![](https://miro.medium.com/max/1422/0*xpjHLIxmK0fOR_4T)\n",
        "\n",
        "speed are particularly important in scientific computing. As a simple example, consider the case of multiplying each element in a 2-D sequence with the corresponding element in another sequence of the same length. If the data are stored in two Python lists, a and b, we could iterate over each element. (code below in next cell)\n",
        "\n",
        "## Why is Numpy Fast? \n",
        "\n",
        "* Numpy saves all the overhead involved in interpreting the Python code and manipulating Python objects by (under the hood) executing all this using a pre-compiled C code.\n",
        "\n",
        "* Numpy rely on Vectorization, Vectorization describes the absence of any explicit looping, indexing, etc., in the code (these things are taking place, of course, just “behind the scenes” in optimized, pre-compiled C code)."
      ]
    },
    {
      "cell_type": "code",
      "execution_count": 1,
      "metadata": {
        "colab": {
          "base_uri": "https://localhost:8080/"
        },
        "id": "lp913vtYD52E",
        "outputId": "06485f13-dec1-407e-b2ab-fda05cbdcaf5"
      },
      "outputs": [
        {
          "name": "stdout",
          "output_type": "stream",
          "text": [
            "[[5, 12], [21, 32]]\n"
          ]
        }
      ],
      "source": [
        "a = [[1, 2], [3, 4]]\n",
        "b = [[5, 6], [7, 8]]\n",
        "\n",
        "rows = len(a)\n",
        "cols = len(a[0])\n",
        "\n",
        "c = [[0 for i in range(cols)] for j in range(rows)]\n",
        "\n",
        "for i in range(rows):\n",
        "  for j in range(cols):\n",
        "    c[i][j] = a[i][j]*b[i][j]\n",
        "\n",
        "print(c)"
      ]
    },
    {
      "cell_type": "markdown",
      "metadata": {
        "id": "rXQNbeyz4vnu"
      },
      "source": [
        "### *In Numpy the above code can be just written as:*\n",
        "### *c = a * b*"
      ]
    },
    {
      "cell_type": "markdown",
      "metadata": {
        "id": "qqTlc1F6bFzr"
      },
      "source": [
        "---\n",
        "---\n",
        "---"
      ]
    },
    {
      "cell_type": "markdown",
      "metadata": {
        "id": "VUfNudKgbLE4"
      },
      "source": [
        "# Installation\n",
        "\n",
        "Follow the guide on: https://numpy.org/install/"
      ]
    },
    {
      "cell_type": "markdown",
      "metadata": {
        "id": "fGDSOypRbfQ2"
      },
      "source": [
        "---\n",
        "---\n",
        "---"
      ]
    },
    {
      "cell_type": "markdown",
      "metadata": {
        "id": "R3L6KYFFb8en"
      },
      "source": [
        "# Quick start"
      ]
    },
    {
      "cell_type": "markdown",
      "metadata": {
        "id": "rF9ObtbZ5vZb"
      },
      "source": [
        "np is an alias (an alternate name for referring to the same thing)"
      ]
    },
    {
      "cell_type": "code",
      "execution_count": 3,
      "metadata": {
        "colab": {
          "base_uri": "https://localhost:8080/"
        },
        "id": "stRR7q66bem2",
        "outputId": "b260a469-ba84-4bd4-8cee-062a0e6bc53f"
      },
      "outputs": [
        {
          "name": "stdout",
          "output_type": "stream",
          "text": [
            "1.24.1\n"
          ]
        }
      ],
      "source": [
        "#!pip install numpy \n",
        "import numpy as np\n",
        "\n",
        "print(np.__version__)"
      ]
    },
    {
      "cell_type": "markdown",
      "metadata": {
        "id": "NLXTIJNsdEK7"
      },
      "source": [
        "---\n",
        "---\n",
        "---"
      ]
    },
    {
      "cell_type": "markdown",
      "metadata": {
        "id": "JnQRj2xcc995"
      },
      "source": [
        "# Numpy Basics\n",
        "\n",
        "The main object in Numpy is the homogeneous multidimensional array \"ndarray\". It's a grid of values, all of the same type, and is indexed by a tuple of nonnegative integers.\n",
        "\n",
        "* ndarray.ndim: the number of axes (dimensions) of the array.\n",
        "\n",
        "* ndarray.shape: the dimensions of the array. This is a tuple of integers indicating the size of the array in each dimension. For a matrix with n rows and m columns, shape will be (n,m). The length of the shape tuple is therefore the number of axes, ndim.\n",
        "\n",
        "* ndarray.size: the total number of elements of the array. This is equal to the product of the elements of shape.\n",
        "\n",
        "* ndarray.dtype: an object describing the type of the elements in the array. One can create or specify dtype’s using standard Python types. Additionally NumPy provides types of its own. numpy.int32, numpy.int16, and numpy.float64 are some examples.\n"
      ]
    },
    {
      "cell_type": "code",
      "execution_count": 6,
      "metadata": {
        "id": "4LutC6CmfDmw"
      },
      "outputs": [
        {
          "data": {
            "text/plain": [
              "array([ 0,  1,  2,  3,  4,  5,  6,  7,  8,  9, 10, 11, 12, 13, 14])"
            ]
          },
          "execution_count": 6,
          "metadata": {},
          "output_type": "execute_result"
        }
      ],
      "source": [
        "import numpy as np \n",
        "a=np.arange(15)\n",
        "a"
      ]
    },
    {
      "cell_type": "code",
      "execution_count": 7,
      "metadata": {
        "colab": {
          "base_uri": "https://localhost:8080/"
        },
        "id": "eWouQTj4c9PI",
        "outputId": "51d6d8f1-7291-4cee-d49f-acb5a0e29079"
      },
      "outputs": [
        {
          "data": {
            "text/plain": [
              "array([[ 0,  1,  2,  3,  4],\n",
              "       [ 5,  6,  7,  8,  9],\n",
              "       [10, 11, 12, 13, 14]])"
            ]
          },
          "execution_count": 7,
          "metadata": {},
          "output_type": "execute_result"
        }
      ],
      "source": [
        "a = np.arange(15).reshape(3, 5)\n",
        "a"
      ]
    },
    {
      "cell_type": "code",
      "execution_count": 8,
      "metadata": {
        "colab": {
          "base_uri": "https://localhost:8080/"
        },
        "id": "fpRQ5KmKfG8U",
        "outputId": "db72480e-da1e-4469-881c-d0595f88c4b5"
      },
      "outputs": [
        {
          "name": "stdout",
          "output_type": "stream",
          "text": [
            "Shape of a is:  (3, 5)\n",
            "Number of dimensions for a is:  2\n",
            "The data type for elements in a is:  int32\n",
            "The size a is:  15\n",
            "Type of a is:  <class 'numpy.ndarray'>\n"
          ]
        }
      ],
      "source": [
        "print('Shape of a is: ', a.shape)\n",
        "\n",
        "print('Number of dimensions for a is: ', a.ndim)\n",
        "\n",
        "print('The data type for elements in a is: ', a.dtype)\n",
        "\n",
        "print('The size a is: ', a.size)\n",
        "\n",
        "print('Type of a is: ', type(a))"
      ]
    },
    {
      "cell_type": "markdown",
      "metadata": {
        "id": "uufXH3IOf8zg"
      },
      "source": [
        "---\n",
        "---\n",
        "---"
      ]
    },
    {
      "cell_type": "markdown",
      "metadata": {
        "id": "dETsKDzjgBEx"
      },
      "source": [
        "# Array creation\n",
        "\n",
        "### *There are several ways to create Ndarrays in numpy* "
      ]
    },
    {
      "cell_type": "code",
      "execution_count": 9,
      "metadata": {
        "colab": {
          "base_uri": "https://localhost:8080/"
        },
        "id": "oqVFXHzBgAQd",
        "outputId": "2172e01e-067f-46c4-f39b-452947e06d6d"
      },
      "outputs": [
        {
          "data": {
            "text/plain": [
              "array([2, 3, 4])"
            ]
          },
          "execution_count": 9,
          "metadata": {},
          "output_type": "execute_result"
        }
      ],
      "source": [
        "#from a standard python list\n",
        "a = np.array([2,3,4])\n",
        "a"
      ]
    },
    {
      "cell_type": "code",
      "execution_count": 11,
      "metadata": {
        "colab": {
          "base_uri": "https://localhost:8080/"
        },
        "id": "IqSOpxFfgU18",
        "outputId": "37f72ca2-ef85-43c6-fcd2-fbe0fb59c970"
      },
      "outputs": [
        {
          "data": {
            "text/plain": [
              "array([[1. , 2.3, 3.5],\n",
              "       [4.7, 5.3, 6.6]])"
            ]
          },
          "execution_count": 11,
          "metadata": {},
          "output_type": "execute_result"
        }
      ],
      "source": [
        "# from a list of lists\n",
        "b = np.array([[1.0, 2.3, 3.5], [4.7, 5.3, 6.6]])\n",
        "b"
      ]
    },
    {
      "cell_type": "code",
      "execution_count": 12,
      "metadata": {
        "colab": {
          "base_uri": "https://localhost:8080/"
        },
        "id": "_IrzPTwOgkzW",
        "outputId": "860b0e3f-06e9-4564-ee34-269904ff308f"
      },
      "outputs": [
        {
          "data": {
            "text/plain": [
              "dtype('float64')"
            ]
          },
          "execution_count": 12,
          "metadata": {},
          "output_type": "execute_result"
        }
      ],
      "source": [
        "# excersice \n",
        "# print the data type of array b from above\n",
        "\n",
        "#code start\n",
        "b.dtype\n",
        "#code ends"
      ]
    },
    {
      "cell_type": "code",
      "execution_count": 13,
      "metadata": {
        "id": "zSfu02B1gc1t"
      },
      "outputs": [],
      "source": [
        "#common mistakes\n",
        "#a = np.array(1,2,3,4)     #This is  WRONG\n",
        "#a = np.array[1,2,3,4]     #This is WRONG too\n",
        "a = np.array([1,2,3,4])   #This is right"
      ]
    },
    {
      "cell_type": "code",
      "execution_count": 14,
      "metadata": {
        "colab": {
          "base_uri": "https://localhost:8080/"
        },
        "id": "HEx0fqhdhPU5",
        "outputId": "86b0334d-ea3b-454b-dfde-ce54ea6d8303"
      },
      "outputs": [
        {
          "data": {
            "text/plain": [
              "array([4, 5, 6])"
            ]
          },
          "execution_count": 14,
          "metadata": {},
          "output_type": "execute_result"
        }
      ],
      "source": [
        "# not neccessarily lists, tuples will work too\n",
        "b = np.array((4,5,6))\n",
        "b"
      ]
    },
    {
      "cell_type": "code",
      "execution_count": 16,
      "metadata": {
        "colab": {
          "base_uri": "https://localhost:8080/"
        },
        "id": "vL1s1QqVhuDi",
        "outputId": "0742ec10-c06a-4f99-816d-30db24e75bd6"
      },
      "outputs": [
        {
          "data": {
            "text/plain": [
              "array([[1.+0.j, 3.+0.j],\n",
              "       [5.+0.j, 7.+0.j],\n",
              "       [5.+0.j, 8.+0.j]])"
            ]
          },
          "execution_count": 16,
          "metadata": {},
          "output_type": "execute_result"
        }
      ],
      "source": [
        "#tuple of tuples, and you can specify the data type \n",
        "c = np.array(((1, 3), (5, 7), (5, 8)), dtype = 'complex')\n",
        "c"
      ]
    },
    {
      "cell_type": "code",
      "execution_count": 17,
      "metadata": {
        "colab": {
          "base_uri": "https://localhost:8080/"
        },
        "id": "AAGKwWRAiJax",
        "outputId": "a5c7991d-504a-4713-f3b8-b90d41502057"
      },
      "outputs": [
        {
          "data": {
            "text/plain": [
              "(3, 2)"
            ]
          },
          "execution_count": 17,
          "metadata": {},
          "output_type": "execute_result"
        }
      ],
      "source": [
        "# excersice \n",
        "# print the shape of array c from above\n",
        "\n",
        "#code start\n",
        "c.shape\n",
        "#code ends"
      ]
    },
    {
      "cell_type": "markdown",
      "metadata": {
        "id": "LCIYw9SBiVSR"
      },
      "source": [
        "### *Often, the elements of an array are originally unknown, but its size is known. Hence, NumPy offers several functions to create arrays with initial placeholder content. These minimize the necessity of growing arrays, an expensive operation.*"
      ]
    },
    {
      "cell_type": "code",
      "execution_count": 13,
      "metadata": {
        "colab": {
          "base_uri": "https://localhost:8080/"
        },
        "id": "M1gbxdhziPXV",
        "outputId": "60009648-9d64-4d69-ae02-b18c9172dcaf"
      },
      "outputs": [
        {
          "data": {
            "text/plain": [
              "array([[0., 0., 0., 0.],\n",
              "       [0., 0., 0., 0.],\n",
              "       [0., 0., 0., 0.]])"
            ]
          },
          "execution_count": 13,
          "metadata": {
            "tags": []
          },
          "output_type": "execute_result"
        }
      ],
      "source": [
        "np.zeros((3, 4))"
      ]
    },
    {
      "cell_type": "code",
      "execution_count": 14,
      "metadata": {
        "colab": {
          "base_uri": "https://localhost:8080/"
        },
        "id": "KGWq144wiaKx",
        "outputId": "a7800dfb-92c0-47f4-f3da-1ac5c080897f"
      },
      "outputs": [
        {
          "data": {
            "text/plain": [
              "array([[[1, 1, 1, 1],\n",
              "        [1, 1, 1, 1],\n",
              "        [1, 1, 1, 1]],\n",
              "\n",
              "       [[1, 1, 1, 1],\n",
              "        [1, 1, 1, 1],\n",
              "        [1, 1, 1, 1]]], dtype=int16)"
            ]
          },
          "execution_count": 14,
          "metadata": {
            "tags": []
          },
          "output_type": "execute_result"
        }
      ],
      "source": [
        "np.ones( (2,3,4), dtype=np.int16 )   # dtype can also be specified"
      ]
    },
    {
      "cell_type": "code",
      "execution_count": 15,
      "metadata": {
        "colab": {
          "base_uri": "https://localhost:8080/"
        },
        "id": "ubWu51IPigQ1",
        "outputId": "de4afcb6-c050-486f-ebc0-a639caf6c5eb"
      },
      "outputs": [
        {
          "data": {
            "text/plain": [
              "array([[1., 3., 5.],\n",
              "       [7., 5., 8.]])"
            ]
          },
          "execution_count": 15,
          "metadata": {
            "tags": []
          },
          "output_type": "execute_result"
        }
      ],
      "source": [
        "np.empty((2,3))  #may vary"
      ]
    },
    {
      "cell_type": "code",
      "execution_count": 20,
      "metadata": {
        "id": "L7dXmgoSHNWL"
      },
      "outputs": [
        {
          "name": "stdout",
          "output_type": "stream",
          "text": [
            "Object `np.empty() # to get the documentation of np.empty() function` not found.\n"
          ]
        }
      ],
      "source": [
        "?np.empty() # to get the documentation of np.empty() function"
      ]
    },
    {
      "cell_type": "code",
      "execution_count": 17,
      "metadata": {
        "colab": {
          "base_uri": "https://localhost:8080/"
        },
        "id": "K9pwl2Gyi4QX",
        "outputId": "cfef3fd8-3699-4701-8223-d510aa4b2499"
      },
      "outputs": [
        {
          "data": {
            "text/plain": [
              "array([[1., 0., 0.],\n",
              "       [0., 1., 0.],\n",
              "       [0., 0., 1.]])"
            ]
          },
          "execution_count": 17,
          "metadata": {
            "tags": []
          },
          "output_type": "execute_result"
        }
      ],
      "source": [
        "np.eye(3) #The identity matrix"
      ]
    },
    {
      "cell_type": "code",
      "execution_count": 18,
      "metadata": {
        "colab": {
          "base_uri": "https://localhost:8080/"
        },
        "id": "7aNCkmi4jRij",
        "outputId": "7c403cf1-5094-47c7-f2c2-a2ca7fc76bba"
      },
      "outputs": [
        {
          "data": {
            "text/plain": [
              "array([[0, 0, 0],\n",
              "       [0, 0, 0]])"
            ]
          },
          "execution_count": 18,
          "metadata": {
            "tags": []
          },
          "output_type": "execute_result"
        }
      ],
      "source": [
        "a = [[1, 2, 3], [4, 5, 6]]\n",
        "b = np.zeros_like(a)  #you can also do ones_like, empty_like\n",
        "b"
      ]
    },
    {
      "cell_type": "code",
      "execution_count": 19,
      "metadata": {
        "colab": {
          "base_uri": "https://localhost:8080/"
        },
        "id": "c3veQNNZy49w",
        "outputId": "beb03066-2836-4ba5-8321-7a07362ebab0"
      },
      "outputs": [
        {
          "data": {
            "text/plain": [
              "array([[7, 7],\n",
              "       [7, 7]])"
            ]
          },
          "execution_count": 19,
          "metadata": {
            "tags": []
          },
          "output_type": "execute_result"
        }
      ],
      "source": [
        "c = np.full((2,2), 7)\n",
        "c"
      ]
    },
    {
      "cell_type": "code",
      "execution_count": 20,
      "metadata": {
        "colab": {
          "base_uri": "https://localhost:8080/"
        },
        "id": "bLEEumhr7s5V",
        "outputId": "589b44b4-c489-41d7-806e-c40ed7030e97"
      },
      "outputs": [
        {
          "data": {
            "text/plain": [
              "array([[0.14132669, 0.72995748, 0.95084349],\n",
              "       [0.68326424, 0.60827126, 0.50190955]])"
            ]
          },
          "execution_count": 20,
          "metadata": {
            "tags": []
          },
          "output_type": "execute_result"
        }
      ],
      "source": [
        "c = np.random.random((2,3))\n",
        "c"
      ]
    },
    {
      "cell_type": "code",
      "execution_count": 21,
      "metadata": {
        "colab": {
          "base_uri": "https://localhost:8080/"
        },
        "id": "P_lEPZLrjyst",
        "outputId": "872d742a-db3c-46f4-e97e-075edaa55b9d"
      },
      "outputs": [
        {
          "data": {
            "text/plain": [
              "array([[-0.06476402,  0.25791   , -0.30935071, -0.08663282],\n",
              "       [-0.30356269, -0.5619764 , -0.32076269, -0.22953639]])"
            ]
          },
          "execution_count": 21,
          "metadata": {
            "tags": []
          },
          "output_type": "execute_result"
        }
      ],
      "source": [
        "# return an array with the shape provided of floating-point samples from the standard normal distribution\n",
        "np.random.randn(2, 4)"
      ]
    },
    {
      "cell_type": "markdown",
      "metadata": {
        "id": "zDlujZcxzDwq"
      },
      "source": [
        "### *cool trick: For sampling random samples from N(mu, sigma^2), use:*\n",
        "\n",
        "### *sigma * np.random.randn(...) + mu*"
      ]
    },
    {
      "cell_type": "code",
      "execution_count": 59,
      "metadata": {
        "colab": {
          "base_uri": "https://localhost:8080/"
        },
        "id": "tGT31Mq9kwzM",
        "outputId": "e67016e5-233e-4d65-db8a-9b5e43446a6c"
      },
      "outputs": [
        {
          "data": {
            "text/plain": [
              "array([[ 6.55027108,  3.94404626, -0.53334608, -5.09578087],\n",
              "       [-0.42266488,  2.14358295,  3.10779494,  0.8176444 ]])"
            ]
          },
          "execution_count": 59,
          "metadata": {},
          "output_type": "execute_result"
        }
      ],
      "source": [
        "# excersice \n",
        "# print a Two-by-four array of samples from N(3, 6.25)\n",
        "# HINT: check online the numpy varient of math.sqrt\n",
        "\n",
        "#code start\n",
        "a = np.sqrt(6.25) * np.random.randn(2,4) + 3\n",
        "# a = np.random.normal(3, 6.25, 8).reshape(2, 4)\n",
        "a\n",
        "#code ends"
      ]
    },
    {
      "cell_type": "markdown",
      "metadata": {
        "id": "qPYmm82XjpON"
      },
      "source": [
        "### *To create sequences of numbers, NumPy provides the arange function which is analogous to the Python built-in range, but returns an array.*"
      ]
    },
    {
      "cell_type": "code",
      "execution_count": 4,
      "metadata": {
        "colab": {
          "base_uri": "https://localhost:8080/"
        },
        "id": "-Bdd6pJAjb9K",
        "outputId": "d1098da0-0ccc-4b68-c281-96c4628a60ed"
      },
      "outputs": [
        {
          "data": {
            "text/plain": [
              "array([10, 15, 20, 25])"
            ]
          },
          "execution_count": 4,
          "metadata": {},
          "output_type": "execute_result"
        }
      ],
      "source": [
        "np.arange( 10, 30, 5 )"
      ]
    },
    {
      "cell_type": "code",
      "execution_count": 5,
      "metadata": {
        "colab": {
          "base_uri": "https://localhost:8080/"
        },
        "id": "xxbpLehVi7d7",
        "outputId": "830f343e-7729-40c3-bd09-5c7b27d648e7"
      },
      "outputs": [
        {
          "data": {
            "text/plain": [
              "array([0. , 0.3, 0.6, 0.9, 1.2, 1.5, 1.8])"
            ]
          },
          "execution_count": 5,
          "metadata": {},
          "output_type": "execute_result"
        }
      ],
      "source": [
        "np.arange( 0, 2, 0.3 )   # it also accepts float arguments"
      ]
    },
    {
      "cell_type": "markdown",
      "metadata": {
        "id": "tD4B_2Uxl9Vu"
      },
      "source": [
        "### *When arange is used with floating point arguments, it is generally not possible to predict the number of elements obtained, due to the finite floating point precision. For this reason, it is usually better to use the function linspace that receives as an argument the number of elements that we want, instead of the step:*"
      ]
    },
    {
      "cell_type": "code",
      "execution_count": 6,
      "metadata": {
        "colab": {
          "base_uri": "https://localhost:8080/"
        },
        "id": "R3mObY3nmDjO",
        "outputId": "d7aad647-13fc-4b8b-c307-999e8bbd06d1"
      },
      "outputs": [
        {
          "data": {
            "text/plain": [
              "array([0.  , 0.25, 0.5 , 0.75, 1.  , 1.25, 1.5 , 1.75, 2.  ])"
            ]
          },
          "execution_count": 6,
          "metadata": {},
          "output_type": "execute_result"
        }
      ],
      "source": [
        "np.linspace( 0, 2, 9 )   # 9 numbers from 0 to 2"
      ]
    },
    {
      "cell_type": "code",
      "execution_count": 7,
      "metadata": {
        "colab": {
          "base_uri": "https://localhost:8080/"
        },
        "id": "cP3J6CtNmOFr",
        "outputId": "628a5980-ead8-46ef-bc69-1269985cd9c8"
      },
      "outputs": [
        {
          "name": "stdout",
          "output_type": "stream",
          "text": [
            "[ 0.00000000e+00  6.34239197e-02  1.26592454e-01  1.89251244e-01\n",
            "  2.51147987e-01  3.12033446e-01  3.71662456e-01  4.29794912e-01\n",
            "  4.86196736e-01  5.40640817e-01  5.92907929e-01  6.42787610e-01\n",
            "  6.90079011e-01  7.34591709e-01  7.76146464e-01  8.14575952e-01\n",
            "  8.49725430e-01  8.81453363e-01  9.09631995e-01  9.34147860e-01\n",
            "  9.54902241e-01  9.71811568e-01  9.84807753e-01  9.93838464e-01\n",
            "  9.98867339e-01  9.99874128e-01  9.96854776e-01  9.89821442e-01\n",
            "  9.78802446e-01  9.63842159e-01  9.45000819e-01  9.22354294e-01\n",
            "  8.95993774e-01  8.66025404e-01  8.32569855e-01  7.95761841e-01\n",
            "  7.55749574e-01  7.12694171e-01  6.66769001e-01  6.18158986e-01\n",
            "  5.67059864e-01  5.13677392e-01  4.58226522e-01  4.00930535e-01\n",
            "  3.42020143e-01  2.81732557e-01  2.20310533e-01  1.58001396e-01\n",
            "  9.50560433e-02  3.17279335e-02 -3.17279335e-02 -9.50560433e-02\n",
            " -1.58001396e-01 -2.20310533e-01 -2.81732557e-01 -3.42020143e-01\n",
            " -4.00930535e-01 -4.58226522e-01 -5.13677392e-01 -5.67059864e-01\n",
            " -6.18158986e-01 -6.66769001e-01 -7.12694171e-01 -7.55749574e-01\n",
            " -7.95761841e-01 -8.32569855e-01 -8.66025404e-01 -8.95993774e-01\n",
            " -9.22354294e-01 -9.45000819e-01 -9.63842159e-01 -9.78802446e-01\n",
            " -9.89821442e-01 -9.96854776e-01 -9.99874128e-01 -9.98867339e-01\n",
            " -9.93838464e-01 -9.84807753e-01 -9.71811568e-01 -9.54902241e-01\n",
            " -9.34147860e-01 -9.09631995e-01 -8.81453363e-01 -8.49725430e-01\n",
            " -8.14575952e-01 -7.76146464e-01 -7.34591709e-01 -6.90079011e-01\n",
            " -6.42787610e-01 -5.92907929e-01 -5.40640817e-01 -4.86196736e-01\n",
            " -4.29794912e-01 -3.71662456e-01 -3.12033446e-01 -2.51147987e-01\n",
            " -1.89251244e-01 -1.26592454e-01 -6.34239197e-02 -2.44929360e-16]\n"
          ]
        }
      ],
      "source": [
        "from numpy import pi\n",
        "\n",
        "x = np.linspace(0, 2*pi, 100 )     # useful to evaluate function at lots of points\n",
        "f = np.sin(x)  \n",
        "print(f)"
      ]
    },
    {
      "cell_type": "code",
      "execution_count": 8,
      "metadata": {
        "colab": {
          "base_uri": "https://localhost:8080/",
          "height": 283
        },
        "id": "FxDcGCgfyDXo",
        "outputId": "70e6c4e4-3307-4aee-f1dc-0c0c511a2b8e"
      },
      "outputs": [
        {
          "data": {
            "text/plain": [
              "[<matplotlib.lines.Line2D at 0x260658f43d0>]"
            ]
          },
          "execution_count": 8,
          "metadata": {},
          "output_type": "execute_result"
        },
        {
          "data": {
            "image/png": "[encoded data removed]",
            "text/plain": [
              "<Figure size 432x288 with 1 Axes>"
            ]
          },
          "metadata": {
            "needs_background": "light"
          },
          "output_type": "display_data"
        }
      ],
      "source": [
        "#Don't worry about this, we have a seperate tutorial on matplotlib\n",
        "#!pip install matplotlib\n",
        "import matplotlib.pyplot as plt\n",
        "plt.plot(x, f)"
      ]
    },
    {
      "cell_type": "markdown",
      "metadata": {
        "id": "QY7vEd4jyqNg"
      },
      "source": [
        "### *If an array is too large to be printed, NumPy automatically skips the central part of the array and only prints the corners:*"
      ]
    },
    {
      "cell_type": "code",
      "execution_count": 9,
      "metadata": {
        "colab": {
          "base_uri": "https://localhost:8080/"
        },
        "id": "MQWNyBwOyb_R",
        "outputId": "ef3ecb2a-a15d-478d-9a6c-c9844c53a4bc"
      },
      "outputs": [
        {
          "name": "stdout",
          "output_type": "stream",
          "text": [
            "[   0    1    2 ... 9997 9998 9999]\n"
          ]
        }
      ],
      "source": [
        "print(np.arange(10000))"
      ]
    },
    {
      "cell_type": "code",
      "execution_count": 10,
      "metadata": {
        "colab": {
          "base_uri": "https://localhost:8080/"
        },
        "id": "2QFkjUr5yvHU",
        "outputId": "c730ea9a-ffa8-4158-cf9d-540331c713cf"
      },
      "outputs": [
        {
          "name": "stdout",
          "output_type": "stream",
          "text": [
            "[[   0    1    2 ...   97   98   99]\n",
            " [ 100  101  102 ...  197  198  199]\n",
            " [ 200  201  202 ...  297  298  299]\n",
            " ...\n",
            " [9700 9701 9702 ... 9797 9798 9799]\n",
            " [9800 9801 9802 ... 9897 9898 9899]\n",
            " [9900 9901 9902 ... 9997 9998 9999]]\n"
          ]
        }
      ],
      "source": [
        "print(np.arange(10000).reshape(100,100))"
      ]
    },
    {
      "cell_type": "markdown",
      "metadata": {
        "id": "U5k1crt4RWUq"
      },
      "source": [
        "\n",
        "\n",
        "---\n",
        "\n",
        "\n",
        "\n",
        "---\n",
        "\n",
        "\n",
        "\n",
        "---\n",
        "\n"
      ]
    },
    {
      "cell_type": "markdown",
      "metadata": {
        "id": "pJDBeYLkP6Ea"
      },
      "source": [
        "# *How to interpret multidimensional arrays:*\n",
        "\n",
        "## *Colored images are 3D arrays of shape WxHx3*\n",
        "image = np.random.random((32, 32, 3))\n",
        "\n",
        "## *A 4D array can be interpeted as a batch of colored images with shape BxWxHx3*\n",
        "image_batch = np.random.random((16, 32, 32, 3))\n"
      ]
    },
    {
      "cell_type": "markdown",
      "metadata": {
        "id": "MUPgI24GRXhz"
      },
      "source": [
        "\n",
        "\n",
        "---\n",
        "\n",
        "\n",
        "\n",
        "---\n",
        "\n",
        "\n",
        "\n",
        "---\n",
        "\n"
      ]
    },
    {
      "cell_type": "markdown",
      "metadata": {
        "id": "SUxMgO-y0CCc"
      },
      "source": [
        "# Basic Operations\n",
        "\n",
        "### *Arithmetic operators on arrays apply element-wise. A new array is created and filled with the result.*\n",
        "\n",
        "### *note: must have at least one matching dimension*"
      ]
    },
    {
      "cell_type": "code",
      "execution_count": 11,
      "metadata": {
        "colab": {
          "base_uri": "https://localhost:8080/"
        },
        "id": "9i7vCTua0D2-",
        "outputId": "f607fc1a-0010-47db-b556-9dd719f5879a"
      },
      "outputs": [
        {
          "name": "stdout",
          "output_type": "stream",
          "text": [
            "[20 30 40 50]\n"
          ]
        },
        {
          "data": {
            "text/plain": [
              "array([0, 1, 2, 3])"
            ]
          },
          "execution_count": 11,
          "metadata": {},
          "output_type": "execute_result"
        }
      ],
      "source": [
        "a = np.array( [20,30,40,50] )\n",
        "b = np.arange( 4 )\n",
        "print(a)\n",
        "b"
      ]
    },
    {
      "cell_type": "code",
      "execution_count": 12,
      "metadata": {
        "colab": {
          "base_uri": "https://localhost:8080/"
        },
        "id": "QhNWvU9O0S0g",
        "outputId": "e5acc69d-054f-43b9-ae1e-28166cde4778"
      },
      "outputs": [
        {
          "data": {
            "text/plain": [
              "array([  0,  30,  80, 150])"
            ]
          },
          "execution_count": 12,
          "metadata": {},
          "output_type": "execute_result"
        }
      ],
      "source": [
        "c = a * b   # element-wise product\n",
        "c           # we can also use: np.multiply(x, y)"
      ]
    },
    {
      "cell_type": "code",
      "execution_count": 13,
      "metadata": {
        "colab": {
          "base_uri": "https://localhost:8080/"
        },
        "id": "v_wgsfGy0Xt0",
        "outputId": "7a54c9e9-948e-44c3-ce7d-1c0eed300e96"
      },
      "outputs": [
        {
          "data": {
            "text/plain": [
              "array([20, 31, 42, 53])"
            ]
          },
          "execution_count": 13,
          "metadata": {},
          "output_type": "execute_result"
        }
      ],
      "source": [
        "a + b       # we can also use: np.add(x, y)"
      ]
    },
    {
      "cell_type": "code",
      "execution_count": 14,
      "metadata": {
        "colab": {
          "base_uri": "https://localhost:8080/"
        },
        "id": "BmMLoHdl0cwv",
        "outputId": "c59fffd5-a75d-426a-c72a-c0f7fe690772"
      },
      "outputs": [
        {
          "data": {
            "text/plain": [
              "array([20, 29, 38, 47])"
            ]
          },
          "execution_count": 14,
          "metadata": {},
          "output_type": "execute_result"
        }
      ],
      "source": [
        "a - b       # we can also use: np.subtract(x, y)"
      ]
    },
    {
      "cell_type": "code",
      "execution_count": 30,
      "metadata": {
        "colab": {
          "base_uri": "https://localhost:8080/"
        },
        "id": "gXRW0U_e0eC8",
        "outputId": "e4b377ef-5425-4279-c3cb-1129d8dd3fd8"
      },
      "outputs": [
        {
          "data": {
            "text/plain": [
              "array([0.        , 0.03333333, 0.05      , 0.06      ])"
            ]
          },
          "execution_count": 30,
          "metadata": {},
          "output_type": "execute_result"
        }
      ],
      "source": [
        "b / a      # we can also use: np.divide(x, y)"
      ]
    },
    {
      "cell_type": "code",
      "execution_count": 31,
      "metadata": {
        "colab": {
          "base_uri": "https://localhost:8080/"
        },
        "id": "6lyeVU0t0gBy",
        "outputId": "94d9bca7-b60d-46b9-b1dd-2df8449ff15a"
      },
      "outputs": [
        {
          "data": {
            "text/plain": [
              "array([0, 1, 4, 9])"
            ]
          },
          "execution_count": 31,
          "metadata": {},
          "output_type": "execute_result"
        }
      ],
      "source": [
        "b ** 2     # we can also use: np.power(b, 2)"
      ]
    },
    {
      "cell_type": "code",
      "execution_count": 15,
      "metadata": {
        "colab": {
          "base_uri": "https://localhost:8080/"
        },
        "id": "21uI7i910soB",
        "outputId": "d2c2bb3f-ebb0-4017-e5f7-0bb6b7d94797"
      },
      "outputs": [
        {
          "data": {
            "text/plain": [
              "array([0.        , 1.        , 1.41421356, 1.73205081])"
            ]
          },
          "execution_count": 15,
          "metadata": {},
          "output_type": "execute_result"
        }
      ],
      "source": [
        "np.sqrt(b)"
      ]
    },
    {
      "cell_type": "code",
      "execution_count": 16,
      "metadata": {
        "colab": {
          "base_uri": "https://localhost:8080/"
        },
        "id": "EiDjc1lN1sG1",
        "outputId": "4678bc07-f54a-499a-85f8-0b1f7f7f2667"
      },
      "outputs": [
        {
          "data": {
            "text/plain": [
              "array([201.        , 300.54030231, 399.58385316, 499.0100075 ])"
            ]
          },
          "execution_count": 16,
          "metadata": {},
          "output_type": "execute_result"
        }
      ],
      "source": [
        "10 * np.abs(a) + np.cos(b)      # scalar product"
      ]
    },
    {
      "cell_type": "code",
      "execution_count": 17,
      "metadata": {
        "colab": {
          "base_uri": "https://localhost:8080/"
        },
        "id": "RLpjo4xC2d-u",
        "outputId": "b21a07a5-776e-4ecc-d92d-aa9e3481c1b1"
      },
      "outputs": [
        {
          "data": {
            "text/plain": [
              "array([ True,  True, False, False])"
            ]
          },
          "execution_count": 17,
          "metadata": {},
          "output_type": "execute_result"
        }
      ],
      "source": [
        "a < 35       # logical operations "
      ]
    },
    {
      "cell_type": "markdown",
      "metadata": {
        "id": "yvxXXE-n2zeV"
      },
      "source": [
        "### *Some operations, such as += and *=, act in place to modify an existing array rather than create a new one* "
      ]
    },
    {
      "cell_type": "code",
      "execution_count": 19,
      "metadata": {
        "id": "uKL6poFq2oic"
      },
      "outputs": [],
      "source": [
        "a = np.ones((2,3), dtype=np.float64) \n",
        "b = np.random.randn(2,3)"
      ]
    },
    {
      "cell_type": "code",
      "execution_count": 20,
      "metadata": {
        "colab": {
          "base_uri": "https://localhost:8080/"
        },
        "id": "1sWcuugI3h8b",
        "outputId": "9c19b343-55fe-4778-b0c8-39cd69fce28e"
      },
      "outputs": [
        {
          "data": {
            "text/plain": [
              "array([[ 1.13864684,  0.23527442,  2.31915514],\n",
              "       [ 2.09942626,  0.2151855 , -0.0091043 ]])"
            ]
          },
          "execution_count": 20,
          "metadata": {},
          "output_type": "execute_result"
        }
      ],
      "source": [
        "a += b\n",
        "a"
      ]
    },
    {
      "cell_type": "code",
      "execution_count": 21,
      "metadata": {
        "colab": {
          "base_uri": "https://localhost:8080/"
        },
        "id": "8BhyxQSs3iqN",
        "outputId": "6d81ee51-a7b0-48cd-96c6-b7e01106cff0"
      },
      "outputs": [
        {
          "data": {
            "text/plain": [
              "array([[ 0.69323418, -3.82362789,  6.5957757 ],\n",
              "       [ 5.49713131, -3.92407248, -5.0455215 ]])"
            ]
          },
          "execution_count": 21,
          "metadata": {},
          "output_type": "execute_result"
        }
      ],
      "source": [
        "b *= 5\n",
        "b"
      ]
    },
    {
      "cell_type": "markdown",
      "metadata": {
        "id": "BdE2qJSJ5nis"
      },
      "source": [
        "### *Unlike in many matrix languages, the product operator * operates elementwise in NumPy arrays. The matrix product can be performed using the @ operator (in python >=3.5) or the dot function or method*"
      ]
    },
    {
      "cell_type": "code",
      "execution_count": 22,
      "metadata": {
        "id": "AI9uBypT3pOK"
      },
      "outputs": [],
      "source": [
        "A = np.array( [[1,1], [0,1]] )\n",
        "\n",
        "B = np.array( [[2,0], [3,4]] )"
      ]
    },
    {
      "cell_type": "code",
      "execution_count": 23,
      "metadata": {
        "colab": {
          "base_uri": "https://localhost:8080/"
        },
        "id": "abaxxm2Z6kkA",
        "outputId": "79ac3ff6-ffda-4823-e3da-6152584aa2f2"
      },
      "outputs": [
        {
          "data": {
            "text/plain": [
              "array([[2, 0],\n",
              "       [0, 4]])"
            ]
          },
          "execution_count": 23,
          "metadata": {},
          "output_type": "execute_result"
        }
      ],
      "source": [
        "A * B      # elementwise product"
      ]
    },
    {
      "cell_type": "code",
      "execution_count": 25,
      "metadata": {
        "colab": {
          "base_uri": "https://localhost:8080/"
        },
        "id": "_kAfZwxc6mER",
        "outputId": "79ea34f4-7bea-4c78-a70d-c37010a39969"
      },
      "outputs": [
        {
          "data": {
            "text/plain": [
              "array([[5, 4],\n",
              "       [3, 4]])"
            ]
          },
          "execution_count": 25,
          "metadata": {},
          "output_type": "execute_result"
        }
      ],
      "source": [
        "A @ B      # matrix product, Be carefull with shapes"
      ]
    },
    {
      "cell_type": "code",
      "execution_count": 26,
      "metadata": {
        "colab": {
          "base_uri": "https://localhost:8080/"
        },
        "id": "XbCuMhuJ6ppE",
        "outputId": "1ac66385-c97f-41fa-91a1-7775cb3912a8"
      },
      "outputs": [
        {
          "data": {
            "text/plain": [
              "array([[5, 4],\n",
              "       [3, 4]])"
            ]
          },
          "execution_count": 26,
          "metadata": {},
          "output_type": "execute_result"
        }
      ],
      "source": [
        "A.dot(B)   #or np.dot(A,B),    another way of doing it, same as above, again be careful with shapes "
      ]
    },
    {
      "cell_type": "code",
      "execution_count": 27,
      "metadata": {
        "id": "qMz0hXHj6IvO"
      },
      "outputs": [],
      "source": [
        "a = np.ones((2,3))\n",
        "b = np.zeros((4,5))\n",
        "#a @ b    # This will give you a size mismatch error"
      ]
    },
    {
      "cell_type": "markdown",
      "metadata": {
        "id": "EqnFZgAV7HkG"
      },
      "source": [
        "---\n",
        "---\n",
        "---"
      ]
    },
    {
      "cell_type": "markdown",
      "metadata": {
        "id": "lk_vpT0D6ycW"
      },
      "source": [
        "# Extra Methods"
      ]
    },
    {
      "cell_type": "code",
      "execution_count": 28,
      "metadata": {
        "colab": {
          "base_uri": "https://localhost:8080/"
        },
        "id": "obWnViab7Kph",
        "outputId": "5c12aed9-e07e-4413-b7e5-f4d120632fe2"
      },
      "outputs": [
        {
          "data": {
            "text/plain": [
              "array([[0.95625113, 0.18305915, 0.22539767],\n",
              "       [0.84120763, 0.44591465, 0.9881245 ]])"
            ]
          },
          "execution_count": 28,
          "metadata": {},
          "output_type": "execute_result"
        }
      ],
      "source": [
        "a = np.random.random((2,3))\n",
        "a"
      ]
    },
    {
      "cell_type": "code",
      "execution_count": 29,
      "metadata": {
        "colab": {
          "base_uri": "https://localhost:8080/"
        },
        "id": "efm_X6JJ70Qb",
        "outputId": "707d3693-cb66-4f50-ba6c-83e7de1e1695"
      },
      "outputs": [
        {
          "data": {
            "text/plain": [
              "3.6399547329497737"
            ]
          },
          "execution_count": 29,
          "metadata": {},
          "output_type": "execute_result"
        }
      ],
      "source": [
        "a.sum()"
      ]
    },
    {
      "cell_type": "code",
      "execution_count": 30,
      "metadata": {
        "colab": {
          "base_uri": "https://localhost:8080/"
        },
        "id": "bdsHBfIP72Ha",
        "outputId": "2043e0d1-e32b-46d9-9e2a-7acab15b611f"
      },
      "outputs": [
        {
          "data": {
            "text/plain": [
              "0.1830591476555521"
            ]
          },
          "execution_count": 30,
          "metadata": {},
          "output_type": "execute_result"
        }
      ],
      "source": [
        "a.min()"
      ]
    },
    {
      "cell_type": "code",
      "execution_count": 31,
      "metadata": {
        "colab": {
          "base_uri": "https://localhost:8080/"
        },
        "id": "NgwZgTUN73dB",
        "outputId": "682d866e-c538-4881-8302-f8d2e0a190d2"
      },
      "outputs": [
        {
          "data": {
            "text/plain": [
              "0.9881245014713881"
            ]
          },
          "execution_count": 31,
          "metadata": {},
          "output_type": "execute_result"
        }
      ],
      "source": [
        "a.max()"
      ]
    },
    {
      "cell_type": "markdown",
      "metadata": {
        "id": "Y9KK4QK78CPU"
      },
      "source": [
        "### *By default, these operations apply to the array as though it were a list of numbers, regardless of its shape. However, by specifying the axis parameter you can apply an operation along the specified axis of an array:*"
      ]
    },
    {
      "cell_type": "code",
      "execution_count": 32,
      "metadata": {
        "colab": {
          "base_uri": "https://localhost:8080/"
        },
        "id": "X-D6HXKQ8Bc1",
        "outputId": "f56d4aba-bca6-44e5-e4e3-ce9a2554eac4"
      },
      "outputs": [
        {
          "data": {
            "text/plain": [
              "array([[ 0,  1,  2,  3],\n",
              "       [ 4,  5,  6,  7],\n",
              "       [ 8,  9, 10, 11]])"
            ]
          },
          "execution_count": 32,
          "metadata": {},
          "output_type": "execute_result"
        }
      ],
      "source": [
        "b = np.arange(12).reshape(3,4)\n",
        "b"
      ]
    },
    {
      "cell_type": "code",
      "execution_count": 34,
      "metadata": {
        "colab": {
          "base_uri": "https://localhost:8080/"
        },
        "id": "qNHWJamk8I_R",
        "outputId": "1b1744ad-d77d-4723-f949-0506cdd0bbb4"
      },
      "outputs": [
        {
          "data": {
            "text/plain": [
              "array([12, 15, 18, 21])"
            ]
          },
          "execution_count": 34,
          "metadata": {},
          "output_type": "execute_result"
        }
      ],
      "source": [
        "b.sum(axis=0)    # sum of each column"
      ]
    },
    {
      "cell_type": "code",
      "execution_count": 35,
      "metadata": {
        "colab": {
          "base_uri": "https://localhost:8080/"
        },
        "id": "sGkrFmuv8M_G",
        "outputId": "cafbd23f-d2c6-4c0a-8f57-0a65077ad8f2"
      },
      "outputs": [
        {
          "data": {
            "text/plain": [
              "array([0, 4, 8])"
            ]
          },
          "execution_count": 35,
          "metadata": {},
          "output_type": "execute_result"
        }
      ],
      "source": [
        "b.min(axis=1)   # min of each row"
      ]
    },
    {
      "cell_type": "markdown",
      "metadata": {
        "id": "9tFcBdu78Z7R"
      },
      "source": [
        "### *Ton of functions to cover:*\n",
        "\n",
        "all, any, apply_along_axis, argmax, argmin, argsort, average, bincount, ceil, clip, conj, corrcoef, cov, cross, cumprod, cumsum, diff, dot, floor, inner, invert, lexsort, max, maximum, mean, min, minimum, nonzero, outer, prod, re, round, sort, std, sum, trace, transpose, var, vdot.\n",
        "\n",
        "check them in the [docs](https://numpy.org/doc/stable/reference/routines.html)\n",
        "\n",
        "some examples below:"
      ]
    },
    {
      "cell_type": "code",
      "execution_count": 36,
      "metadata": {
        "colab": {
          "base_uri": "https://localhost:8080/"
        },
        "id": "nFCbPAu1VvLH",
        "outputId": "d87f8c9d-0209-402d-abdd-4305b38e1157"
      },
      "outputs": [
        {
          "data": {
            "text/plain": [
              "array([[ 0,  1,  2,  3],\n",
              "       [ 4,  5,  6,  7],\n",
              "       [ 8,  9, 10, 11]])"
            ]
          },
          "execution_count": 36,
          "metadata": {},
          "output_type": "execute_result"
        }
      ],
      "source": [
        "b"
      ]
    },
    {
      "cell_type": "code",
      "execution_count": 37,
      "metadata": {
        "colab": {
          "base_uri": "https://localhost:8080/"
        },
        "id": "t4qp-sTd8Shd",
        "outputId": "047796c1-4c24-4be9-fcf7-dc4a921dbc65"
      },
      "outputs": [
        {
          "data": {
            "text/plain": [
              "array([[ 0,  4,  8],\n",
              "       [ 1,  5,  9],\n",
              "       [ 2,  6, 10],\n",
              "       [ 3,  7, 11]])"
            ]
          },
          "execution_count": 37,
          "metadata": {},
          "output_type": "execute_result"
        }
      ],
      "source": [
        "b.transpose()              #reverse rows and columns"
      ]
    },
    {
      "cell_type": "code",
      "execution_count": 38,
      "metadata": {
        "colab": {
          "base_uri": "https://localhost:8080/"
        },
        "id": "2VEKz66x8_aI",
        "outputId": "44ec4f77-d595-4182-dcab-906ecfcb7b25"
      },
      "outputs": [
        {
          "data": {
            "text/plain": [
              "array([2, 2, 2, 2], dtype=int64)"
            ]
          },
          "execution_count": 38,
          "metadata": {},
          "output_type": "execute_result"
        }
      ],
      "source": [
        "b.argmax(axis = 0)         #will be super helpful when trying to get the class outputs from a neural networks logits"
      ]
    },
    {
      "cell_type": "code",
      "execution_count": 54,
      "metadata": {
        "colab": {
          "base_uri": "https://localhost:8080/"
        },
        "id": "48GBA9VKY6Jr",
        "outputId": "4d3a0b27-4316-4376-be50-30c88e0d86fb"
      },
      "outputs": [
        {
          "data": {
            "text/plain": [
              "array([3, 3, 3], dtype=int64)"
            ]
          },
          "execution_count": 54,
          "metadata": {},
          "output_type": "execute_result"
        }
      ],
      "source": [
        "b.argmax(axis = 1)"
      ]
    },
    {
      "cell_type": "code",
      "execution_count": 39,
      "metadata": {
        "colab": {
          "base_uri": "https://localhost:8080/"
        },
        "id": "OhUNxj459PSO",
        "outputId": "c1f23339-0fc3-4ef0-f06f-ce08cd878ca8"
      },
      "outputs": [
        {
          "data": {
            "text/plain": [
              "array([[ 7,  7,  7,  7],\n",
              "       [ 7,  7,  7,  7],\n",
              "       [ 8,  9, 10, 11]])"
            ]
          },
          "execution_count": 39,
          "metadata": {},
          "output_type": "execute_result"
        }
      ],
      "source": [
        "b.clip(7)                  #any element less than 7 will be clipped to 7"
      ]
    },
    {
      "cell_type": "markdown",
      "metadata": {
        "id": "I6Xx23Up9twO"
      },
      "source": [
        "\n",
        "\n",
        "---\n",
        "\n",
        "\n",
        "\n",
        "---\n",
        "\n",
        "\n",
        "\n",
        "---\n",
        "\n"
      ]
    },
    {
      "cell_type": "markdown",
      "metadata": {
        "id": "rUoNuZCE9sOz"
      },
      "source": [
        "# Indexing, Slicing and Iterating\n",
        "\n",
        "### *One-dimensional arrays can be indexed, sliced and iterated over, much like lists and other Python sequences.*"
      ]
    },
    {
      "cell_type": "code",
      "execution_count": 40,
      "metadata": {
        "colab": {
          "base_uri": "https://localhost:8080/"
        },
        "id": "wlixJH9G9pns",
        "outputId": "9b823f30-eb04-4d23-f29d-1e1b4300463c"
      },
      "outputs": [
        {
          "data": {
            "text/plain": [
              "array([  0,   1,   8,  27,  64, 125, 216, 343, 512, 729], dtype=int32)"
            ]
          },
          "execution_count": 40,
          "metadata": {},
          "output_type": "execute_result"
        }
      ],
      "source": [
        "a = np.arange(10)**3\n",
        "a"
      ]
    },
    {
      "cell_type": "code",
      "execution_count": 41,
      "metadata": {
        "colab": {
          "base_uri": "https://localhost:8080/"
        },
        "id": "glhrLpqbFB10",
        "outputId": "abab8bfa-6c9d-46d4-e667-8cec1133abcb"
      },
      "outputs": [
        {
          "data": {
            "text/plain": [
              "array([ 8, 27, 64], dtype=int32)"
            ]
          },
          "execution_count": 41,
          "metadata": {},
          "output_type": "execute_result"
        }
      ],
      "source": [
        "a[2:5]"
      ]
    },
    {
      "cell_type": "code",
      "execution_count": 42,
      "metadata": {
        "colab": {
          "base_uri": "https://localhost:8080/"
        },
        "id": "cmIPKLktFIOn",
        "outputId": "5c098ae7-857a-45aa-cd6f-25962377d338"
      },
      "outputs": [
        {
          "data": {
            "text/plain": [
              "array([  0,   1,   8,  27,  64, 125], dtype=int32)"
            ]
          },
          "execution_count": 42,
          "metadata": {},
          "output_type": "execute_result"
        }
      ],
      "source": [
        "a[:6]"
      ]
    },
    {
      "cell_type": "code",
      "execution_count": 43,
      "metadata": {
        "colab": {
          "base_uri": "https://localhost:8080/"
        },
        "id": "j9_b3IzxFJwv",
        "outputId": "701bdeb6-140e-4d02-8599-de9d4abfcfd2"
      },
      "outputs": [
        {
          "data": {
            "text/plain": [
              "array([343, 512, 729], dtype=int32)"
            ]
          },
          "execution_count": 43,
          "metadata": {},
          "output_type": "execute_result"
        }
      ],
      "source": [
        "a[7:]"
      ]
    },
    {
      "cell_type": "code",
      "execution_count": 45,
      "metadata": {
        "colab": {
          "base_uri": "https://localhost:8080/"
        },
        "id": "0GwsyHBTFMAC",
        "outputId": "d70f5520-bf0f-4faf-d24c-182ff5da7e3c"
      },
      "outputs": [
        {
          "data": {
            "text/plain": [
              "array([  1,  64, 343], dtype=int32)"
            ]
          },
          "execution_count": 45,
          "metadata": {},
          "output_type": "execute_result"
        }
      ],
      "source": [
        "a[1::3]"
      ]
    },
    {
      "cell_type": "code",
      "execution_count": 46,
      "metadata": {
        "colab": {
          "base_uri": "https://localhost:8080/"
        },
        "id": "he6EZJ_vKVv3",
        "outputId": "ca992edd-e8db-475e-a7c7-32f08f425ce5"
      },
      "outputs": [
        {
          "data": {
            "text/plain": [
              "512"
            ]
          },
          "execution_count": 46,
          "metadata": {},
          "output_type": "execute_result"
        }
      ],
      "source": [
        "a[-2]   # negative indicies"
      ]
    },
    {
      "cell_type": "markdown",
      "metadata": {
        "id": "CIGpKHKyFbat"
      },
      "source": [
        "### *Multidimensional arrays can have one index per axis. These indices are given in a tuple separated by commas:*"
      ]
    },
    {
      "cell_type": "code",
      "execution_count": 47,
      "metadata": {
        "colab": {
          "base_uri": "https://localhost:8080/"
        },
        "id": "eCe2vVluFesv",
        "outputId": "d055eda0-68a9-4246-fbdc-4fe9496c3aab"
      },
      "outputs": [
        {
          "data": {
            "text/plain": [
              "array([[ 0,  1,  2,  3],\n",
              "       [ 4,  5,  6,  7],\n",
              "       [ 8,  9, 10, 11],\n",
              "       [12, 13, 14, 15],\n",
              "       [16, 17, 18, 19]])"
            ]
          },
          "execution_count": 47,
          "metadata": {},
          "output_type": "execute_result"
        }
      ],
      "source": [
        "x = np.arange(20).reshape(5, 4)\n",
        "x"
      ]
    },
    {
      "cell_type": "code",
      "execution_count": 48,
      "metadata": {
        "colab": {
          "base_uri": "https://localhost:8080/"
        },
        "id": "d1XiilQjJlZC",
        "outputId": "8f151397-934d-46ea-b4da-7919c219b1dc"
      },
      "outputs": [
        {
          "data": {
            "text/plain": [
              "array([12, 13, 14, 15])"
            ]
          },
          "execution_count": 48,
          "metadata": {},
          "output_type": "execute_result"
        }
      ],
      "source": [
        "x[3]        #whole row"
      ]
    },
    {
      "cell_type": "code",
      "execution_count": 49,
      "metadata": {
        "colab": {
          "base_uri": "https://localhost:8080/"
        },
        "id": "KxlPxQw1GKbJ",
        "outputId": "0b7c28a6-25bb-4e44-aba7-8360f37185a5"
      },
      "outputs": [
        {
          "data": {
            "text/plain": [
              "11"
            ]
          },
          "execution_count": 49,
          "metadata": {},
          "output_type": "execute_result"
        }
      ],
      "source": [
        "x[2, 3]      #row 2, col 3"
      ]
    },
    {
      "cell_type": "code",
      "execution_count": 50,
      "metadata": {
        "colab": {
          "base_uri": "https://localhost:8080/"
        },
        "id": "R1FmMIVDGEK9",
        "outputId": "76206563-9825-4659-e0d5-89bc01319e4f"
      },
      "outputs": [
        {
          "data": {
            "text/plain": [
              "array([1, 5, 9])"
            ]
          },
          "execution_count": 50,
          "metadata": {},
          "output_type": "execute_result"
        }
      ],
      "source": [
        "x[0:3, 1]     # the first three rows in the second column of x"
      ]
    },
    {
      "cell_type": "code",
      "execution_count": 51,
      "metadata": {
        "colab": {
          "base_uri": "https://localhost:8080/"
        },
        "id": "YI18XIdsGdaX",
        "outputId": "f2d6689c-6e2c-49f5-9cd0-c2de8592ddd9"
      },
      "outputs": [
        {
          "data": {
            "text/plain": [
              "array([5, 6])"
            ]
          },
          "execution_count": 51,
          "metadata": {},
          "output_type": "execute_result"
        }
      ],
      "source": [
        "x[1, 1:3]     # second and third columns in the second row of x"
      ]
    },
    {
      "cell_type": "code",
      "execution_count": 52,
      "metadata": {
        "colab": {
          "base_uri": "https://localhost:8080/"
        },
        "id": "onDsEaljGzWC",
        "outputId": "c7c18c67-f72e-4fb3-fa8d-5713388d4884"
      },
      "outputs": [
        {
          "data": {
            "text/plain": [
              "array([[ 6,  7],\n",
              "       [10, 11]])"
            ]
          },
          "execution_count": 52,
          "metadata": {},
          "output_type": "execute_result"
        }
      ],
      "source": [
        "x[1:3, 2:4]   # second and third rows in the third and forth columns in x"
      ]
    },
    {
      "cell_type": "code",
      "execution_count": 53,
      "metadata": {
        "colab": {
          "base_uri": "https://localhost:8080/"
        },
        "id": "SgfepLU6Jujl",
        "outputId": "f52238de-f5a8-482a-cb1a-e8b6986d5fb3"
      },
      "outputs": [
        {
          "data": {
            "text/plain": [
              "array([ 2,  6, 10, 14, 18])"
            ]
          },
          "execution_count": 53,
          "metadata": {},
          "output_type": "execute_result"
        }
      ],
      "source": [
        "x[:, 2]       #whole column"
      ]
    },
    {
      "cell_type": "markdown",
      "metadata": {
        "id": "vnH5UWRAHz_i"
      },
      "source": [
        "### *The expression within brackets in x[i] is treated as an i followed by as many instances of : as needed to represent the remaining axes. NumPy also allows you to write this using dots as b[i,...].*"
      ]
    },
    {
      "cell_type": "code",
      "execution_count": 54,
      "metadata": {
        "colab": {
          "base_uri": "https://localhost:8080/"
        },
        "id": "JlLUJWcNao-n",
        "outputId": "a6a5d1a3-bc2c-421d-e72d-fddeba6450b9"
      },
      "outputs": [
        {
          "data": {
            "text/plain": [
              "array([[ 0,  1,  2,  3],\n",
              "       [ 4,  5,  6,  7],\n",
              "       [ 8,  9, 10, 11],\n",
              "       [12, 13, 14, 15],\n",
              "       [16, 17, 18, 19]])"
            ]
          },
          "execution_count": 54,
          "metadata": {},
          "output_type": "execute_result"
        }
      ],
      "source": [
        "x"
      ]
    },
    {
      "cell_type": "code",
      "execution_count": 55,
      "metadata": {
        "colab": {
          "base_uri": "https://localhost:8080/"
        },
        "id": "n1r8ZRM1HkG-",
        "outputId": "8b43eb46-dcbf-4c7b-e9bf-99096fc9d158"
      },
      "outputs": [
        {
          "data": {
            "text/plain": [
              "array([16, 17, 18, 19])"
            ]
          },
          "execution_count": 55,
          "metadata": {},
          "output_type": "execute_result"
        }
      ],
      "source": [
        "x[-1]           #prints the last row, Equivalent to x[-1,:]"
      ]
    },
    {
      "cell_type": "code",
      "execution_count": 56,
      "metadata": {
        "colab": {
          "base_uri": "https://localhost:8080/"
        },
        "id": "MFKZbXkmGuih",
        "outputId": "42ed4b72-15c5-42fc-e1c8-53f06faedfa2"
      },
      "outputs": [
        {
          "data": {
            "text/plain": [
              "array([0, 1, 2, 3])"
            ]
          },
          "execution_count": 56,
          "metadata": {},
          "output_type": "execute_result"
        }
      ],
      "source": [
        "# excersice \n",
        "# print the first row of x from above\n",
        "\n",
        "#code start\n",
        "x[0]\n",
        "#code ends"
      ]
    },
    {
      "cell_type": "code",
      "execution_count": 57,
      "metadata": {
        "colab": {
          "base_uri": "https://localhost:8080/"
        },
        "id": "gshDV2VjHSsS",
        "outputId": "0981a5c5-5e85-4377-a853-10b0e6883d1e"
      },
      "outputs": [
        {
          "data": {
            "text/plain": [
              "array([[ 5,  6],\n",
              "       [ 9, 10],\n",
              "       [13, 14],\n",
              "       [17, 18]])"
            ]
          },
          "execution_count": 57,
          "metadata": {},
          "output_type": "execute_result"
        }
      ],
      "source": [
        "# excersice \n",
        "# print the second to last rows; and the second and third columns in x from above\n",
        "\n",
        "#code start\n",
        "x[1:, 1:3] \n",
        "#code ends"
      ]
    },
    {
      "cell_type": "markdown",
      "metadata": {
        "id": "ngIN6fshInZV"
      },
      "source": [
        "### *Iterating over multidimensional arrays is done with respect to the first axis:*"
      ]
    },
    {
      "cell_type": "code",
      "execution_count": 58,
      "metadata": {
        "colab": {
          "base_uri": "https://localhost:8080/"
        },
        "id": "QFHkj4b7beDf",
        "outputId": "70c7596b-9569-4a9e-b995-3b6591fceede"
      },
      "outputs": [
        {
          "data": {
            "text/plain": [
              "array([[ 0,  1,  2,  3],\n",
              "       [ 4,  5,  6,  7],\n",
              "       [ 8,  9, 10, 11],\n",
              "       [12, 13, 14, 15],\n",
              "       [16, 17, 18, 19]])"
            ]
          },
          "execution_count": 58,
          "metadata": {},
          "output_type": "execute_result"
        }
      ],
      "source": [
        "x"
      ]
    },
    {
      "cell_type": "code",
      "execution_count": 60,
      "metadata": {
        "colab": {
          "base_uri": "https://localhost:8080/"
        },
        "id": "3ZrNn3AqHhlY",
        "outputId": "ae46f40d-9728-4176-d7e1-5cc161a2decb"
      },
      "outputs": [
        {
          "name": "stdout",
          "output_type": "stream",
          "text": [
            "[0 1 2 3]\n",
            "[4 5 6 7]\n",
            "[ 8  9 10 11]\n",
            "[12 13 14 15]\n",
            "[16 17 18 19]\n"
          ]
        }
      ],
      "source": [
        "for row in x:\n",
        "  print(row)"
      ]
    },
    {
      "cell_type": "code",
      "execution_count": 78,
      "metadata": {
        "colab": {
          "base_uri": "https://localhost:8080/"
        },
        "id": "6BzK9T18Ixs1",
        "outputId": "a7fcca45-ce5d-4068-aaf0-f71597d377a7"
      },
      "outputs": [
        {
          "name": "stdout",
          "output_type": "stream",
          "text": [
            "0\n",
            "1\n",
            "2\n",
            "3\n",
            "4\n",
            "5\n",
            "6\n",
            "7\n",
            "8\n",
            "9\n",
            "10\n",
            "11\n",
            "12\n",
            "13\n",
            "14\n",
            "15\n",
            "16\n",
            "17\n",
            "18\n",
            "19\n"
          ]
        }
      ],
      "source": [
        "for element in x.flat:\n",
        "  print(element)"
      ]
    },
    {
      "cell_type": "markdown",
      "metadata": {
        "id": "dtP68DKGNUXS"
      },
      "source": [
        "\n",
        "\n",
        "---\n",
        "\n",
        "\n",
        "\n",
        "---\n",
        "\n",
        "\n",
        "\n",
        "---\n",
        "\n"
      ]
    },
    {
      "cell_type": "markdown",
      "metadata": {
        "id": "iBcF4gEXJDP3"
      },
      "source": [
        "# *Index arrays*\n",
        "\n",
        "### *NumPy arrays may be indexed with other arrays (or any other sequence- like object that can be converted to an array, such as lists, with the exception of tuples. The use of index arrays ranges from simple, straightforward cases to complex, hard-to-understand cases. For all cases of index arrays, what is returned is a copy of the original data, not a view as one gets for slices.*"
      ]
    },
    {
      "cell_type": "code",
      "execution_count": 61,
      "metadata": {
        "colab": {
          "base_uri": "https://localhost:8080/"
        },
        "id": "9JDwRTwVKb-A",
        "outputId": "8d233d02-65a3-4058-ca85-5c79d0ce33ca"
      },
      "outputs": [
        {
          "data": {
            "text/plain": [
              "array([10,  9,  8,  7,  6,  5,  4,  3,  2])"
            ]
          },
          "execution_count": 61,
          "metadata": {},
          "output_type": "execute_result"
        }
      ],
      "source": [
        "x = np.arange(10, 1, -1)\n",
        "x"
      ]
    },
    {
      "cell_type": "code",
      "execution_count": 62,
      "metadata": {
        "colab": {
          "base_uri": "https://localhost:8080/"
        },
        "id": "Gw1VHEHwKvSZ",
        "outputId": "4a9b6de4-edaa-4193-84e1-499428d081fa"
      },
      "outputs": [
        {
          "data": {
            "text/plain": [
              "array([7, 7, 9, 2])"
            ]
          },
          "execution_count": 62,
          "metadata": {},
          "output_type": "execute_result"
        }
      ],
      "source": [
        "x[np.array([3, 3, 1, 8])]"
      ]
    },
    {
      "cell_type": "code",
      "execution_count": 63,
      "metadata": {
        "colab": {
          "base_uri": "https://localhost:8080/"
        },
        "id": "0NX7q24HK3Um",
        "outputId": "1a4af0f2-2ce7-49ad-83c2-ddc9962e4686"
      },
      "outputs": [
        {
          "data": {
            "text/plain": [
              "array([7, 7, 4, 2])"
            ]
          },
          "execution_count": 63,
          "metadata": {},
          "output_type": "execute_result"
        }
      ],
      "source": [
        "x[np.array([3,3,-3,8])]"
      ]
    },
    {
      "cell_type": "code",
      "execution_count": 74,
      "metadata": {
        "id": "JaDDgbOOK6i8"
      },
      "outputs": [],
      "source": [
        "#x[np.array([3, 3, 20, 8])]    #will raise an error index 20 is out of range "
      ]
    },
    {
      "cell_type": "markdown",
      "metadata": {
        "id": "dXnKX4CQLJEL"
      },
      "source": [
        "### *Generally speaking, what is returned when index arrays are used is an array with the same shape as the index array, but with the type and values of the array being indexed. As an example, we can use a multidimensional index array instead:*\n"
      ]
    },
    {
      "cell_type": "code",
      "execution_count": 64,
      "metadata": {
        "colab": {
          "base_uri": "https://localhost:8080/"
        },
        "id": "v8b-crMVb5Kd",
        "outputId": "b3dbc85c-6020-4d4d-9213-8c886a665531"
      },
      "outputs": [
        {
          "data": {
            "text/plain": [
              "array([10,  9,  8,  7,  6,  5,  4,  3,  2])"
            ]
          },
          "execution_count": 64,
          "metadata": {},
          "output_type": "execute_result"
        }
      ],
      "source": [
        "x"
      ]
    },
    {
      "cell_type": "code",
      "execution_count": 65,
      "metadata": {
        "colab": {
          "base_uri": "https://localhost:8080/"
        },
        "id": "phyVY4FcLLaz",
        "outputId": "3060c463-467e-4edb-8414-93c1d03f81ec"
      },
      "outputs": [
        {
          "data": {
            "text/plain": [
              "array([[9, 9],\n",
              "       [8, 7]])"
            ]
          },
          "execution_count": 65,
          "metadata": {},
          "output_type": "execute_result"
        }
      ],
      "source": [
        "x[np.array([[1,1],[2,3]])]"
      ]
    },
    {
      "cell_type": "markdown",
      "metadata": {
        "id": "7KBXsTiscKrf"
      },
      "source": [
        "This is with a one-dimensional numpy array. Let's try with multi-dimenstional numpy array."
      ]
    },
    {
      "cell_type": "code",
      "execution_count": 66,
      "metadata": {
        "colab": {
          "base_uri": "https://localhost:8080/"
        },
        "id": "aMvyczBAcILM",
        "outputId": "04998b81-4bb7-4db1-9c34-2ca72f27a1b4"
      },
      "outputs": [
        {
          "data": {
            "text/plain": [
              "array([[0, 1],\n",
              "       [2, 3],\n",
              "       [4, 5],\n",
              "       [6, 7],\n",
              "       [8, 9]])"
            ]
          },
          "execution_count": 66,
          "metadata": {},
          "output_type": "execute_result"
        }
      ],
      "source": [
        "x = np.arange(10).reshape(5,2)\n",
        "x"
      ]
    },
    {
      "cell_type": "code",
      "execution_count": 68,
      "metadata": {
        "colab": {
          "base_uri": "https://localhost:8080/"
        },
        "id": "ouNnQcgkcJpg",
        "outputId": "54ac061e-0dc5-49de-fc60-0969c33d56a0"
      },
      "outputs": [
        {
          "data": {
            "text/plain": [
              "array([[[2, 3],\n",
              "        [2, 3]],\n",
              "\n",
              "       [[4, 5],\n",
              "        [6, 7]]])"
            ]
          },
          "execution_count": 68,
          "metadata": {},
          "output_type": "execute_result"
        }
      ],
      "source": [
        "x[np.array([[1,1],[2,3]])]"
      ]
    },
    {
      "cell_type": "markdown",
      "metadata": {
        "id": "GA2tnzwXNS8u"
      },
      "source": [
        "\n",
        "\n",
        "---\n",
        "\n",
        "\n",
        "\n",
        "---\n",
        "\n",
        "\n",
        "\n",
        "---\n",
        "\n"
      ]
    },
    {
      "cell_type": "markdown",
      "metadata": {
        "id": "pb-NgcPtLTu9"
      },
      "source": [
        "# Boolean or “mask” index arrays\n",
        "### *Boolean arrays used as indices are treated in a different manner entirely than index arrays. Boolean arrays must be of the same shape as the initial dimensions of the array being indexed. In the most straightforward case, the boolean array has the same shape:*\n",
        "\n",
        "### *Unlike in the case of integer index arrays, in the boolean case, the result is a 1-D array containing all the elements in the indexed array corresponding to all the true elements in the boolean array.*"
      ]
    },
    {
      "cell_type": "code",
      "execution_count": 69,
      "metadata": {
        "colab": {
          "base_uri": "https://localhost:8080/"
        },
        "id": "VIlmbxYaLkSL",
        "outputId": "f0e59319-bc9a-40ca-84ed-5574dc7a60ed"
      },
      "outputs": [
        {
          "data": {
            "text/plain": [
              "array([[ 0,  1,  2,  3,  4],\n",
              "       [ 5,  6,  7,  8,  9],\n",
              "       [10, 11, 12, 13, 14],\n",
              "       [15, 16, 17, 18, 19],\n",
              "       [20, 21, 22, 23, 24]])"
            ]
          },
          "execution_count": 69,
          "metadata": {},
          "output_type": "execute_result"
        }
      ],
      "source": [
        "y = np.arange(25).reshape(5,5)\n",
        "y"
      ]
    },
    {
      "cell_type": "code",
      "execution_count": 70,
      "metadata": {
        "colab": {
          "base_uri": "https://localhost:8080/"
        },
        "id": "bTTZvUlrMbt3",
        "outputId": "ec11017e-07cb-4e12-df0c-cb16236551c4"
      },
      "outputs": [
        {
          "data": {
            "text/plain": [
              "array([[False, False, False, False, False],\n",
              "       [False, False, False, False, False],\n",
              "       [False, False, False, False, False],\n",
              "       [False, False, False, False, False],\n",
              "       [False,  True,  True,  True,  True]])"
            ]
          },
          "execution_count": 70,
          "metadata": {},
          "output_type": "execute_result"
        }
      ],
      "source": [
        "b = y > 20\n",
        "b"
      ]
    },
    {
      "cell_type": "code",
      "execution_count": 71,
      "metadata": {
        "colab": {
          "base_uri": "https://localhost:8080/"
        },
        "id": "V5HUwt4ZMeGh",
        "outputId": "09633a96-aee4-4439-989c-fafbaaa3b9a4"
      },
      "outputs": [
        {
          "data": {
            "text/plain": [
              "array([21, 22, 23, 24])"
            ]
          },
          "execution_count": 71,
          "metadata": {},
          "output_type": "execute_result"
        }
      ],
      "source": [
        "y[b]"
      ]
    },
    {
      "cell_type": "code",
      "execution_count": 90,
      "metadata": {
        "colab": {
          "base_uri": "https://localhost:8080/"
        },
        "id": "jVtjz3Fff3Ot",
        "outputId": "b217d2e9-b6ec-4b6d-9f26-1f64c43861c5"
      },
      "outputs": [
        {
          "data": {
            "text/plain": [
              "array([[ True, False,  True, False,  True],\n",
              "       [False,  True, False,  True, False],\n",
              "       [ True, False,  True, False,  True],\n",
              "       [False,  True, False,  True, False],\n",
              "       [ True, False,  True, False,  True]])"
            ]
          },
          "execution_count": 90,
          "metadata": {
            "tags": []
          },
          "output_type": "execute_result"
        }
      ],
      "source": [
        "# let's get even numbers only\n",
        "b = y%2==0\n",
        "b"
      ]
    },
    {
      "cell_type": "code",
      "execution_count": 80,
      "metadata": {
        "colab": {
          "base_uri": "https://localhost:8080/"
        },
        "id": "_7n9LqVDf-gN",
        "outputId": "74c50a44-dd85-47dc-f08e-d177965f475c"
      },
      "outputs": [
        {
          "data": {
            "text/plain": [
              "array([21, 22, 23, 24])"
            ]
          },
          "execution_count": 80,
          "metadata": {},
          "output_type": "execute_result"
        }
      ],
      "source": [
        "y[b]"
      ]
    },
    {
      "cell_type": "markdown",
      "metadata": {
        "id": "X36jVxEAM3qQ"
      },
      "source": [
        "# Assigning values to indexed arrays"
      ]
    },
    {
      "cell_type": "code",
      "execution_count": 81,
      "metadata": {
        "colab": {
          "base_uri": "https://localhost:8080/"
        },
        "id": "nK_Vl6VVM6ak",
        "outputId": "a015c40b-f5f8-4600-9644-4d89add165b0"
      },
      "outputs": [
        {
          "data": {
            "text/plain": [
              "array([0., 0., 0., 0., 0., 0., 0., 0., 0., 0.])"
            ]
          },
          "execution_count": 81,
          "metadata": {},
          "output_type": "execute_result"
        }
      ],
      "source": [
        "x = np.zeros(10)\n",
        "x"
      ]
    },
    {
      "cell_type": "code",
      "execution_count": 82,
      "metadata": {
        "colab": {
          "base_uri": "https://localhost:8080/"
        },
        "id": "tE7AMw32M_Zp",
        "outputId": "e281a3c4-c2db-4f1c-f5ab-7de6b6ceba19"
      },
      "outputs": [
        {
          "data": {
            "text/plain": [
              "array([0., 1., 1., 1., 0., 0., 0., 0., 0., 0.])"
            ]
          },
          "execution_count": 82,
          "metadata": {},
          "output_type": "execute_result"
        }
      ],
      "source": [
        "x[1:4] = 1\n",
        "x"
      ]
    },
    {
      "cell_type": "code",
      "execution_count": 83,
      "metadata": {
        "colab": {
          "base_uri": "https://localhost:8080/"
        },
        "id": "Mzhw7icFNEdx",
        "outputId": "a41fdc00-4db8-4797-b5ff-d918ea819ae3"
      },
      "outputs": [
        {
          "data": {
            "text/plain": [
              "array([0., 1., 0., 1., 2., 3., 4., 0., 0., 0.])"
            ]
          },
          "execution_count": 83,
          "metadata": {},
          "output_type": "execute_result"
        }
      ],
      "source": [
        "x[2:7] = np.arange(5)\n",
        "x"
      ]
    },
    {
      "cell_type": "markdown",
      "metadata": {
        "id": "BOTdBfpPNMVW"
      },
      "source": [
        "\n",
        "\n",
        "---\n",
        "\n",
        "\n",
        "\n",
        "---\n",
        "\n",
        "\n",
        "\n",
        "---\n",
        "\n"
      ]
    },
    {
      "cell_type": "markdown",
      "metadata": {
        "id": "yn8C8mwUNPPN"
      },
      "source": [
        "# Changing the shape of an array\n",
        "\n",
        "### *The shape of an array can be changed with various commands. Note that the following three commands all return a modified array, but do not change the original array:*"
      ]
    },
    {
      "cell_type": "code",
      "execution_count": 84,
      "metadata": {
        "colab": {
          "base_uri": "https://localhost:8080/"
        },
        "id": "G2FJD0RzNLq8",
        "outputId": "7ec80067-f268-449b-9621-d9fe3ec6c554"
      },
      "outputs": [
        {
          "data": {
            "text/plain": [
              "array([[7., 9., 4., 8.],\n",
              "       [9., 5., 2., 5.],\n",
              "       [5., 5., 1., 3.]])"
            ]
          },
          "execution_count": 84,
          "metadata": {},
          "output_type": "execute_result"
        }
      ],
      "source": [
        "a = np.floor(10*np.random.random((3,4)))\n",
        "a"
      ]
    },
    {
      "cell_type": "code",
      "execution_count": 85,
      "metadata": {
        "colab": {
          "base_uri": "https://localhost:8080/"
        },
        "id": "6U-jBh0hRqI0",
        "outputId": "32127b37-868d-4a25-ad95-5fd9edb72c73"
      },
      "outputs": [
        {
          "data": {
            "text/plain": [
              "array([7., 9., 4., 8., 9., 5., 2., 5., 5., 5., 1., 3.])"
            ]
          },
          "execution_count": 85,
          "metadata": {},
          "output_type": "execute_result"
        }
      ],
      "source": [
        "a.ravel()       # returns the array, flattened"
      ]
    },
    {
      "cell_type": "code",
      "execution_count": 86,
      "metadata": {
        "colab": {
          "base_uri": "https://localhost:8080/"
        },
        "id": "JQSSTUGbRtbR",
        "outputId": "f1b055c7-a01c-47d6-8472-ddfb6f43ff95"
      },
      "outputs": [
        {
          "data": {
            "text/plain": [
              "array([[7., 9.],\n",
              "       [4., 8.],\n",
              "       [9., 5.],\n",
              "       [2., 5.],\n",
              "       [5., 5.],\n",
              "       [1., 3.]])"
            ]
          },
          "execution_count": 86,
          "metadata": {},
          "output_type": "execute_result"
        }
      ],
      "source": [
        "a.reshape(6,2)  # returns the array with a modified shape, be careful with shapes"
      ]
    },
    {
      "cell_type": "code",
      "execution_count": 87,
      "metadata": {
        "colab": {
          "base_uri": "https://localhost:8080/"
        },
        "id": "tj9F-XKmRyg8",
        "outputId": "bdebd809-8e37-4821-ba9b-54bc7d2592ef"
      },
      "outputs": [
        {
          "data": {
            "text/plain": [
              "array([[7., 9., 5.],\n",
              "       [9., 5., 5.],\n",
              "       [4., 2., 1.],\n",
              "       [8., 5., 3.]])"
            ]
          },
          "execution_count": 87,
          "metadata": {},
          "output_type": "execute_result"
        }
      ],
      "source": [
        "a.T # returns the array, transposed"
      ]
    },
    {
      "cell_type": "markdown",
      "metadata": {
        "id": "_W8u7TDsSCot"
      },
      "source": [
        "### *The reshape function returns its argument with a modified shape, whereas the ndarray.resize method modifies the array itself:*"
      ]
    },
    {
      "cell_type": "code",
      "execution_count": 89,
      "metadata": {
        "colab": {
          "base_uri": "https://localhost:8080/"
        },
        "id": "A8p8pr8CR4M1",
        "outputId": "962b0665-dd41-4238-f11f-ccf2f7b73bb7"
      },
      "outputs": [
        {
          "data": {
            "text/plain": [
              "array([[7., 9., 4., 8., 9., 5.],\n",
              "       [2., 5., 5., 5., 1., 3.]])"
            ]
          },
          "execution_count": 89,
          "metadata": {},
          "output_type": "execute_result"
        }
      ],
      "source": [
        "a.resize((2,6))\n",
        "a"
      ]
    },
    {
      "cell_type": "markdown",
      "metadata": {
        "id": "nqNSOo24SKN2"
      },
      "source": [
        "\n",
        "\n",
        "\n",
        "---\n",
        "\n",
        "\n",
        "---\n",
        "\n",
        "\n",
        "\n",
        "---\n",
        "\n"
      ]
    },
    {
      "cell_type": "markdown",
      "metadata": {
        "id": "27spcu7pSM9N"
      },
      "source": [
        "# Stacking together different arrays"
      ]
    },
    {
      "cell_type": "code",
      "execution_count": 90,
      "metadata": {
        "colab": {
          "base_uri": "https://localhost:8080/"
        },
        "id": "0knveKWCSG1y",
        "outputId": "d79dfa38-e8a3-42c5-d42e-377e21e6f6af"
      },
      "outputs": [
        {
          "data": {
            "text/plain": [
              "array([[9., 6.],\n",
              "       [2., 9.]])"
            ]
          },
          "execution_count": 90,
          "metadata": {},
          "output_type": "execute_result"
        }
      ],
      "source": [
        "a = np.floor(10*np.random.random((2,2)))\n",
        "a"
      ]
    },
    {
      "cell_type": "code",
      "execution_count": 92,
      "metadata": {
        "colab": {
          "base_uri": "https://localhost:8080/"
        },
        "id": "TSfhDXrSXap1",
        "outputId": "66e17e87-c84a-40c8-84b8-504a0feb7c70"
      },
      "outputs": [
        {
          "data": {
            "text/plain": [
              "array([[2., 1.],\n",
              "       [7., 3.]])"
            ]
          },
          "execution_count": 92,
          "metadata": {},
          "output_type": "execute_result"
        }
      ],
      "source": [
        "b = np.floor(10*np.random.random((2,2)))\n",
        "b"
      ]
    },
    {
      "cell_type": "code",
      "execution_count": 93,
      "metadata": {
        "colab": {
          "base_uri": "https://localhost:8080/"
        },
        "id": "dJ5MiwN4XcTG",
        "outputId": "52e91d91-f34c-4679-cdaf-bc9a5bfcbc10"
      },
      "outputs": [
        {
          "data": {
            "text/plain": [
              "array([[9., 6.],\n",
              "       [2., 9.],\n",
              "       [2., 1.],\n",
              "       [7., 3.]])"
            ]
          },
          "execution_count": 93,
          "metadata": {},
          "output_type": "execute_result"
        }
      ],
      "source": [
        "np.vstack((a,b))"
      ]
    },
    {
      "cell_type": "code",
      "execution_count": 94,
      "metadata": {
        "colab": {
          "base_uri": "https://localhost:8080/"
        },
        "id": "zu5sQgWjXfZ8",
        "outputId": "6f326d59-c313-4c3b-ba38-f7a8b9005d67"
      },
      "outputs": [
        {
          "data": {
            "text/plain": [
              "array([[9., 6., 2., 1.],\n",
              "       [2., 9., 7., 3.]])"
            ]
          },
          "execution_count": 94,
          "metadata": {},
          "output_type": "execute_result"
        }
      ],
      "source": [
        "np.hstack((a,b))"
      ]
    },
    {
      "cell_type": "markdown",
      "metadata": {
        "id": "hTDTqNYhXt6m"
      },
      "source": [
        "---\n",
        "---\n",
        "---"
      ]
    },
    {
      "cell_type": "markdown",
      "metadata": {
        "id": "O2exehsJXshb"
      },
      "source": [
        "# Copies"
      ]
    },
    {
      "cell_type": "markdown",
      "metadata": {
        "id": "nYzuCWA7X5ee"
      },
      "source": [
        "### *Simple assignments make no copy of objects or their data.* "
      ]
    },
    {
      "cell_type": "code",
      "execution_count": 95,
      "metadata": {
        "colab": {
          "base_uri": "https://localhost:8080/"
        },
        "id": "B_P6N_idYE4e",
        "outputId": "b763d566-1695-4e1b-dd69-d8df6d1e5876"
      },
      "outputs": [
        {
          "data": {
            "text/plain": [
              "True"
            ]
          },
          "execution_count": 95,
          "metadata": {},
          "output_type": "execute_result"
        }
      ],
      "source": [
        "a = np.array([[ 0,  1,  2,  3], [ 4,  5,  6,  7],])\n",
        "b = a            # no new object is created\n",
        "b is a           # a and b are two names for the same ndarray object"
      ]
    },
    {
      "cell_type": "code",
      "execution_count": 96,
      "metadata": {
        "colab": {
          "base_uri": "https://localhost:8080/"
        },
        "id": "iF-DPkX_YVwf",
        "outputId": "c07d9519-16ac-4e29-a3af-e80a38acf5d9"
      },
      "outputs": [
        {
          "data": {
            "text/plain": [
              "array([[-10, -10, -10, -10],\n",
              "       [-10, -10, -10, -10]])"
            ]
          },
          "execution_count": 96,
          "metadata": {},
          "output_type": "execute_result"
        }
      ],
      "source": [
        "b[:] = -10\n",
        "a"
      ]
    },
    {
      "cell_type": "markdown",
      "metadata": {
        "id": "3GAZ_ai4YfqY"
      },
      "source": [
        "### *Deep Copy*\n",
        "### *The copy method makes a complete copy of the array and its data.*"
      ]
    },
    {
      "cell_type": "code",
      "execution_count": 98,
      "metadata": {
        "colab": {
          "base_uri": "https://localhost:8080/"
        },
        "id": "dVykF7TDYnPm",
        "outputId": "5b3ee492-9a94-4b85-ee19-a5704ab73753"
      },
      "outputs": [
        {
          "data": {
            "text/plain": [
              "False"
            ]
          },
          "execution_count": 98,
          "metadata": {},
          "output_type": "execute_result"
        }
      ],
      "source": [
        "a = np.array([[ 0,  1,  2,  3], [ 4,  5,  6,  7],])\n",
        "b = a.copy()\n",
        "b is a   "
      ]
    },
    {
      "cell_type": "code",
      "execution_count": 99,
      "metadata": {
        "colab": {
          "base_uri": "https://localhost:8080/"
        },
        "id": "UWwiH8LgYvs0",
        "outputId": "9e7c02e5-828c-402e-ab6d-5b83d9975a0e"
      },
      "outputs": [
        {
          "data": {
            "text/plain": [
              "array([[0, 1, 2, 3],\n",
              "       [4, 5, 6, 7]])"
            ]
          },
          "execution_count": 99,
          "metadata": {},
          "output_type": "execute_result"
        }
      ],
      "source": [
        "b[:] = -10\n",
        "a"
      ]
    },
    {
      "cell_type": "markdown",
      "metadata": {
        "id": "EbzGIws5ZFCE"
      },
      "source": [
        "\n",
        "\n",
        "---\n",
        "\n",
        "\n",
        "\n",
        "---\n",
        "\n",
        "\n",
        "\n",
        "---\n",
        "\n"
      ]
    },
    {
      "cell_type": "markdown",
      "metadata": {
        "id": "qovWP-mhZHPo"
      },
      "source": [
        "# Broadcasting: a curse or an advantage ?\n",
        "\n",
        "The term broadcasting describes how numpy treats arrays with different shapes during arithmetic operations. Subject to certain constraints, the smaller array is “broadcast” across the larger array so that they have compatible shapes. Broadcasting provides a means of vectorizing array operations so that looping occurs in C instead of Python.\n",
        "\n",
        "Broadcasting allows universal functions to deal in a meaningful way with inputs that do not have exactly the same shape.\n",
        "\n",
        "for more info, check this: [Broadcasting in Numpy ](https://numpy.org/doc/stable/user/basics.broadcasting.html#basics-broadcasting)"
      ]
    },
    {
      "cell_type": "code",
      "execution_count": 100,
      "metadata": {
        "colab": {
          "base_uri": "https://localhost:8080/"
        },
        "id": "iwKqWSkBZGld",
        "outputId": "d13cc79d-6fc8-4287-c88b-8a46d98b3655"
      },
      "outputs": [
        {
          "data": {
            "text/plain": [
              "array([[[1., 1., 1.],\n",
              "        [1., 1., 1.],\n",
              "        [1., 1., 1.],\n",
              "        [1., 1., 1.],\n",
              "        [1., 1., 1.]],\n",
              "\n",
              "       [[1., 1., 1.],\n",
              "        [1., 1., 1.],\n",
              "        [1., 1., 1.],\n",
              "        [1., 1., 1.],\n",
              "        [1., 1., 1.]],\n",
              "\n",
              "       [[1., 1., 1.],\n",
              "        [1., 1., 1.],\n",
              "        [1., 1., 1.],\n",
              "        [1., 1., 1.],\n",
              "        [1., 1., 1.]],\n",
              "\n",
              "       [[1., 1., 1.],\n",
              "        [1., 1., 1.],\n",
              "        [1., 1., 1.],\n",
              "        [1., 1., 1.],\n",
              "        [1., 1., 1.]],\n",
              "\n",
              "       [[1., 1., 1.],\n",
              "        [1., 1., 1.],\n",
              "        [1., 1., 1.],\n",
              "        [1., 1., 1.],\n",
              "        [1., 1., 1.]]])"
            ]
          },
          "execution_count": 100,
          "metadata": {},
          "output_type": "execute_result"
        }
      ],
      "source": [
        "x = np.ones(75).reshape(5, 5, 3)  \n",
        "x"
      ]
    },
    {
      "cell_type": "code",
      "execution_count": 101,
      "metadata": {
        "colab": {
          "base_uri": "https://localhost:8080/"
        },
        "id": "prNa8Uwrf7fJ",
        "outputId": "a32898f4-25eb-4461-c992-7f86ff65088a"
      },
      "outputs": [
        {
          "data": {
            "text/plain": [
              "array([2, 4, 6])"
            ]
          },
          "execution_count": 101,
          "metadata": {},
          "output_type": "execute_result"
        }
      ],
      "source": [
        "scale = np.array([2, 4, 6])\n",
        "scale"
      ]
    },
    {
      "cell_type": "code",
      "execution_count": 102,
      "metadata": {
        "colab": {
          "base_uri": "https://localhost:8080/"
        },
        "id": "y6TmPfbkf9y3",
        "outputId": "57e3c68a-77ba-400c-b7b5-931dc500d126"
      },
      "outputs": [
        {
          "data": {
            "text/plain": [
              "array([[[2., 4., 6.],\n",
              "        [2., 4., 6.],\n",
              "        [2., 4., 6.],\n",
              "        [2., 4., 6.],\n",
              "        [2., 4., 6.]],\n",
              "\n",
              "       [[2., 4., 6.],\n",
              "        [2., 4., 6.],\n",
              "        [2., 4., 6.],\n",
              "        [2., 4., 6.],\n",
              "        [2., 4., 6.]],\n",
              "\n",
              "       [[2., 4., 6.],\n",
              "        [2., 4., 6.],\n",
              "        [2., 4., 6.],\n",
              "        [2., 4., 6.],\n",
              "        [2., 4., 6.]],\n",
              "\n",
              "       [[2., 4., 6.],\n",
              "        [2., 4., 6.],\n",
              "        [2., 4., 6.],\n",
              "        [2., 4., 6.],\n",
              "        [2., 4., 6.]],\n",
              "\n",
              "       [[2., 4., 6.],\n",
              "        [2., 4., 6.],\n",
              "        [2., 4., 6.],\n",
              "        [2., 4., 6.],\n",
              "        [2., 4., 6.]]])"
            ]
          },
          "execution_count": 102,
          "metadata": {},
          "output_type": "execute_result"
        }
      ],
      "source": [
        "x * scale"
      ]
    },
    {
      "cell_type": "markdown",
      "metadata": {
        "id": "X15_51-mgkWu"
      },
      "source": [
        "When operating on two arrays, NumPy compares their shapes element-wise. It starts with the trailing (i.e. rightmost) dimensions and works its way left. Two dimensions are compatible when\n",
        "\n",
        "\n",
        "\n",
        "1.   they are equal\n",
        "2.   one of them is 1\n",
        "\n",
        "If these conditions are not met, a ValueError: operands could not be broadcast together exception is thrown, indicating that the arrays have incompatible shapes. The size of the resulting array is the size that is not 1 along each axis of the inputs.\n",
        "\n",
        "When either of the dimensions compared is one, the other is used. In other words, dimensions with size 1 are stretched or “copied” to match the other."
      ]
    },
    {
      "cell_type": "code",
      "execution_count": 103,
      "metadata": {
        "colab": {
          "base_uri": "https://localhost:8080/"
        },
        "id": "sZ9RwjFbgGnf",
        "outputId": "363136d4-6f66-445f-ccfc-ec12d447485e"
      },
      "outputs": [
        {
          "name": "stdout",
          "output_type": "stream",
          "text": [
            "(4,)\n",
            "(5,)\n",
            "(4, 1)\n",
            "(5,)\n",
            "(4, 5)\n"
          ]
        }
      ],
      "source": [
        "x = np.arange(4)\n",
        "xx = x.reshape(4,1)\n",
        "y = np.ones(5)\n",
        "\n",
        "print(x.shape)   #(4,)\n",
        "print(y.shape)   #(5,)\n",
        "\n",
        "#print(x + y)   This will raise ValueError: operands could not be broadcast together with shapes (4,) (5,)\n",
        "\n",
        "print(xx.shape)   #(4, 1)\n",
        "print(y.shape)    #(5,)\n",
        "\n",
        "z = (xx + y)\n",
        "print(z.shape)    #(4, 5)\n",
        "\n",
        "\n",
        "# I know this might not be very straightforward at the begining, but you will get used to it."
      ]
    },
    {
      "cell_type": "markdown",
      "metadata": {
        "id": "xRWuKHWoh3NM"
      },
      "source": [
        "\n",
        "\n",
        "---\n",
        "\n",
        "\n",
        "\n",
        "---\n",
        "\n",
        "\n",
        "\n",
        "---\n",
        "\n"
      ]
    },
    {
      "cell_type": "markdown",
      "metadata": {
        "id": "1uuItjgth_Ip"
      },
      "source": [
        "# Linear Algebra"
      ]
    },
    {
      "cell_type": "code",
      "execution_count": 104,
      "metadata": {
        "colab": {
          "base_uri": "https://localhost:8080/"
        },
        "id": "3hNpWmzuh5ec",
        "outputId": "3dab7a65-7577-4c38-c107-876f36b75838"
      },
      "outputs": [
        {
          "data": {
            "text/plain": [
              "array([[1., 2.],\n",
              "       [3., 4.]])"
            ]
          },
          "execution_count": 104,
          "metadata": {},
          "output_type": "execute_result"
        }
      ],
      "source": [
        "a = np.array([[1.0, 2.0], [3.0, 4.0]])\n",
        "a"
      ]
    },
    {
      "cell_type": "code",
      "execution_count": 105,
      "metadata": {
        "colab": {
          "base_uri": "https://localhost:8080/"
        },
        "id": "bV3gqO82jbV1",
        "outputId": "b640a47c-2944-4521-d9d4-383f658f4c8d"
      },
      "outputs": [
        {
          "data": {
            "text/plain": [
              "array([[-2. ,  1. ],\n",
              "       [ 1.5, -0.5]])"
            ]
          },
          "execution_count": 105,
          "metadata": {},
          "output_type": "execute_result"
        }
      ],
      "source": [
        "np.linalg.inv(a)"
      ]
    },
    {
      "cell_type": "code",
      "execution_count": 106,
      "metadata": {
        "colab": {
          "base_uri": "https://localhost:8080/"
        },
        "id": "wHWoF-1ajkFs",
        "outputId": "5a7da4c9-b75d-41e5-b604-12d4a2292e13"
      },
      "outputs": [
        {
          "data": {
            "text/plain": [
              "5.0"
            ]
          },
          "execution_count": 106,
          "metadata": {},
          "output_type": "execute_result"
        }
      ],
      "source": [
        "np.trace(a)"
      ]
    },
    {
      "cell_type": "code",
      "execution_count": 108,
      "metadata": {
        "id": "uQl9Hdf4jlz4"
      },
      "outputs": [
        {
          "data": {
            "text/plain": [
              "array([[5.],\n",
              "       [7.]])"
            ]
          },
          "execution_count": 108,
          "metadata": {},
          "output_type": "execute_result"
        }
      ],
      "source": [
        "y = np.array([[5.], [7.]]) \n",
        "y"
      ]
    },
    {
      "cell_type": "code",
      "execution_count": 109,
      "metadata": {
        "colab": {
          "base_uri": "https://localhost:8080/"
        },
        "id": "beU4qwnAjq_Z",
        "outputId": "68e41dc8-9e8e-477f-cd0c-b418dbf5af65"
      },
      "outputs": [
        {
          "data": {
            "text/plain": [
              "array([[-3.],\n",
              "       [ 4.]])"
            ]
          },
          "execution_count": 109,
          "metadata": {},
          "output_type": "execute_result"
        }
      ],
      "source": [
        "np.linalg.solve(a, y)   #check the docs for more info"
      ]
    },
    {
      "cell_type": "code",
      "execution_count": 110,
      "metadata": {
        "colab": {
          "base_uri": "https://localhost:8080/"
        },
        "id": "mV4ZAA5Yjt9Y",
        "outputId": "a1781b13-3386-4e93-bc4e-411a79f3d7da"
      },
      "outputs": [
        {
          "data": {
            "text/plain": [
              "(array([-1., -1.]),\n",
              " array([[1., 0.],\n",
              "        [0., 1.]]))"
            ]
          },
          "execution_count": 110,
          "metadata": {},
          "output_type": "execute_result"
        }
      ],
      "source": [
        "j = np.array([[-1.,  0.], [ 0., -1.]])\n",
        "\n",
        "np.linalg.eig(j)    # check the docs for more info"
      ]
    },
    {
      "cell_type": "markdown",
      "metadata": {
        "id": "31zw51NNniNc"
      },
      "source": [
        "\n",
        "\n",
        "---\n",
        "\n",
        "\n",
        "\n",
        "---\n",
        "\n",
        "\n",
        "\n",
        "---\n",
        "\n"
      ]
    },
    {
      "cell_type": "markdown",
      "metadata": {
        "id": "rWnVQLBfnjnK"
      },
      "source": [
        "# Linear Algebra: Extra\n",
        "\n",
        "https://numpy.org/doc/stable/user/tutorial-svd.html\n",
        "\n",
        "\n"
      ]
    },
    {
      "cell_type": "markdown",
      "metadata": {
        "id": "taoggcaeDEeV"
      },
      "source": [
        "## Helpfull Links\n",
        "\n",
        "[Official Website and docs](https://numpy.org/)\n",
        "\n",
        "[CS231N Tutorial on Python and Numpy](https://cs231n.github.io/python-numpy-tutorial/)\n"
      ]
    }
  ],
  "metadata": {
    "colab": {
      "collapsed_sections": [],
      "name": "AMMI_Bootcamp_Day6_Numpy.ipynb",
      "provenance": []
    },
    "interpreter": {
      "hash": "c7af7df4901773a0e355da496bf365ae011b1b331a57bbc9908dae1ee21823d7"
    },
    "kernelspec": {
      "display_name": "Python 3.10.5 64-bit",
      "language": "python",
      "name": "python3"
    },
    "language_info": {
      "codemirror_mode": {
        "name": "ipython",
        "version": 3
      },
      "file_extension": ".py",
      "mimetype": "text/x-python",
      "name": "python",
      "nbconvert_exporter": "python",
      "pygments_lexer": "ipython3",
      "version": "3.10.5"
    }
  },
  "nbformat": 4,
  "nbformat_minor": 0
}
