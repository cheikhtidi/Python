{
  "nbformat": 4,
  "nbformat_minor": 0,
  "metadata": {
    "kernelspec": {
      "display_name": "Python 3",
      "language": "python",
      "name": "python3"
    },
    "language_info": {
      "codemirror_mode": {
        "name": "ipython",
        "version": 3
      },
      "file_extension": ".py",
      "mimetype": "text/x-python",
      "name": "python",
      "nbconvert_exporter": "python",
      "pygments_lexer": "ipython3",
      "version": "3.8.3"
    },
    "colab": {
      "name": "Mohamed_Anwar_AMMI_BootCamp_Day_1_Lab.ipynb",
      "provenance": [],
      "collapsed_sections": []
    }
  },
  "cells": [
    {
      "cell_type": "markdown",
      "metadata": {
        "id": "QW-M5DRYvSR9"
      },
      "source": [
        "## Exercise A\n",
        "\n",
        "1. Create a string containing a single quote.\n",
        "2. Create a string containing a double quote.\n",
        "3. Create a string containing both a single quote a double quote.\n",
        "4. Create a variable containing a first and last name and print them in reverse order with a space between them.\n"
      ]
    },
    {
      "cell_type": "code",
      "metadata": {
        "id": "F7YRCvBfvSSG",
        "colab": {
          "base_uri": "https://localhost:8080/",
          "height": 35
        },
        "outputId": "2e7b1c3e-35fb-4d33-907d-07c8a37d0e23"
      },
      "source": [
        "# 1.\n",
        "x = \"I'm\"\n",
        "x"
      ],
      "execution_count": null,
      "outputs": [
        {
          "output_type": "execute_result",
          "data": {
            "application/vnd.google.colaboratory.intrinsic+json": {
              "type": "string"
            },
            "text/plain": [
              "\"I'm\""
            ]
          },
          "metadata": {
            "tags": []
          },
          "execution_count": 1
        }
      ]
    },
    {
      "cell_type": "code",
      "metadata": {
        "colab": {
          "base_uri": "https://localhost:8080/",
          "height": 35
        },
        "id": "fvhCLY9wiPBt",
        "outputId": "2eea138f-c7f4-4196-f9be-a14eb1c1be1b"
      },
      "source": [
        "# 2.\n",
        "x = 'I\"m'\n",
        "x"
      ],
      "execution_count": null,
      "outputs": [
        {
          "output_type": "execute_result",
          "data": {
            "application/vnd.google.colaboratory.intrinsic+json": {
              "type": "string"
            },
            "text/plain": [
              "'I\"m'"
            ]
          },
          "metadata": {
            "tags": []
          },
          "execution_count": 2
        }
      ]
    },
    {
      "cell_type": "code",
      "metadata": {
        "colab": {
          "base_uri": "https://localhost:8080/",
          "height": 35
        },
        "id": "KUcFCLM2iPLi",
        "outputId": "fd949f1b-4572-479e-fd76-e904541df452"
      },
      "source": [
        "# 3.\n",
        "x = \"I'm \\\"Here\"\n",
        "x"
      ],
      "execution_count": null,
      "outputs": [
        {
          "output_type": "execute_result",
          "data": {
            "application/vnd.google.colaboratory.intrinsic+json": {
              "type": "string"
            },
            "text/plain": [
              "'I\\'m \"Here'"
            ]
          },
          "metadata": {
            "tags": []
          },
          "execution_count": 3
        }
      ]
    },
    {
      "cell_type": "code",
      "metadata": {
        "colab": {
          "base_uri": "https://localhost:8080/",
          "height": 35
        },
        "id": "wE3ayEEuiPVE",
        "outputId": "3fc1a423-383e-4e1e-c1e7-195d9b3e643e"
      },
      "source": [
        "# 4.\n",
        "name = \"Mohamed\"[::-1] + ' ' + \"Anwar\"[::-1]\n",
        "name"
      ],
      "execution_count": null,
      "outputs": [
        {
          "output_type": "execute_result",
          "data": {
            "application/vnd.google.colaboratory.intrinsic+json": {
              "type": "string"
            },
            "text/plain": [
              "'demahoM rawnA'"
            ]
          },
          "metadata": {
            "tags": []
          },
          "execution_count": 4
        }
      ]
    },
    {
      "cell_type": "markdown",
      "metadata": {
        "id": "c__ROXgtvSSH"
      },
      "source": [
        "## Exercise B\n",
        "\n",
        "1. Write a code to display the first and last word from the following String: **'This is my first assignment for week1'**\n",
        "2. Create a string ( providing the string represents a whole number), then obtain its integer representation.\n",
        "3. Given these strings:\n",
        "\n",
        "    s1 = 'abcd', \n",
        "    s2 = 'efgh'\n",
        "\n",
        "    Create a new string composed of the first string followed by (concatenated with)\n",
        "    the second.\n",
        "\n",
        "4. Create a single string containing 5 copies of the string 'abc'.\n",
        "5. Use the multiplication operator to create a \"line\" of 50 dashes.\n",
        "6. Strip all the whitespace characters off the right end of a string.\n",
        "7. Convert a string to all upper case.\n",
        "8. Write a sequence (string) of comma-separated numbers and generate a list with those numbers.\n",
        "9. Given a string of odd length greater than 7, return a string made of the middle three characters of the string.\n",
        "10. Given a string and an integer number n, remove characters from a string starting from zero up to n and return a new string.\n",
        "11. Given a string, return True if the first character and the last character of a the string is the same."
      ]
    },
    {
      "cell_type": "code",
      "metadata": {
        "id": "fWJSiBRMvSSI",
        "colab": {
          "base_uri": "https://localhost:8080/"
        },
        "outputId": "9e956285-897d-44ab-b8d7-bfc5edb7a595"
      },
      "source": [
        "# 1.\n",
        "s = 'This is my first assignment for week1'\n",
        "lst = s.split()\n",
        "print(lst[0], lst[-1])"
      ],
      "execution_count": null,
      "outputs": [
        {
          "output_type": "stream",
          "text": [
            "This week1\n"
          ],
          "name": "stdout"
        }
      ]
    },
    {
      "cell_type": "code",
      "metadata": {
        "colab": {
          "base_uri": "https://localhost:8080/"
        },
        "id": "nPImn4_Wj1s_",
        "outputId": "e30ddc85-138b-4328-c02c-fd2943e33df1"
      },
      "source": [
        "# 2. \n",
        "num = \"3\"\n",
        "x = int(num)\n",
        "print(x, type(x))"
      ],
      "execution_count": null,
      "outputs": [
        {
          "output_type": "stream",
          "text": [
            "3 <class 'int'>\n"
          ],
          "name": "stdout"
        }
      ]
    },
    {
      "cell_type": "code",
      "metadata": {
        "colab": {
          "base_uri": "https://localhost:8080/"
        },
        "id": "lhZEg1Jpj12t",
        "outputId": "743bc7f5-6813-40e5-8dcb-2bf8e010a3b8"
      },
      "source": [
        "# 3.\n",
        "s1 = 'abcd'\n",
        "s2 = 'efgh'\n",
        "s = s1 + s2\n",
        "print(s)"
      ],
      "execution_count": null,
      "outputs": [
        {
          "output_type": "stream",
          "text": [
            "abcdefgh\n"
          ],
          "name": "stdout"
        }
      ]
    },
    {
      "cell_type": "code",
      "metadata": {
        "colab": {
          "base_uri": "https://localhost:8080/"
        },
        "id": "_UG57TRJj146",
        "outputId": "3135edd9-3011-4beb-c1e1-6ffc83e8ec9f"
      },
      "source": [
        "# 4.\n",
        "s = \"abc\"*5\n",
        "print(s)"
      ],
      "execution_count": null,
      "outputs": [
        {
          "output_type": "stream",
          "text": [
            "abcabcabcabcabc\n"
          ],
          "name": "stdout"
        }
      ]
    },
    {
      "cell_type": "code",
      "metadata": {
        "colab": {
          "base_uri": "https://localhost:8080/",
          "height": 35
        },
        "id": "pX6hleS0j17K",
        "outputId": "f9a00ecc-6e05-4733-c279-223529e2a81f"
      },
      "source": [
        "# 5.\n",
        "line = '-'*50\n",
        "line"
      ],
      "execution_count": null,
      "outputs": [
        {
          "output_type": "execute_result",
          "data": {
            "application/vnd.google.colaboratory.intrinsic+json": {
              "type": "string"
            },
            "text/plain": [
              "'--------------------------------------------------'"
            ]
          },
          "metadata": {
            "tags": []
          },
          "execution_count": 9
        }
      ]
    },
    {
      "cell_type": "code",
      "metadata": {
        "colab": {
          "base_uri": "https://localhost:8080/"
        },
        "id": "yoacSYN5j1-N",
        "outputId": "69d61ad7-ecec-4ff2-a33e-ddc4759e4c62"
      },
      "source": [
        "# 6.\n",
        "s = \"here         \"\n",
        "print(s.rstrip())"
      ],
      "execution_count": null,
      "outputs": [
        {
          "output_type": "stream",
          "text": [
            "here\n"
          ],
          "name": "stdout"
        }
      ]
    },
    {
      "cell_type": "code",
      "metadata": {
        "colab": {
          "base_uri": "https://localhost:8080/"
        },
        "id": "dwdBqYslj2BH",
        "outputId": "44f9473e-0eba-4735-b191-c3a55ae9879f"
      },
      "source": [
        "# 7.\n",
        "s = \"hello\"\n",
        "print(s.upper())"
      ],
      "execution_count": null,
      "outputs": [
        {
          "output_type": "stream",
          "text": [
            "HELLO\n"
          ],
          "name": "stdout"
        }
      ]
    },
    {
      "cell_type": "code",
      "metadata": {
        "colab": {
          "base_uri": "https://localhost:8080/"
        },
        "id": "8RPP8W_Cj2D0",
        "outputId": "022e968c-3f96-48ea-895e-d134e2b4a332"
      },
      "source": [
        "# 8.\n",
        "s = '1,2,3,4,5,6,7,8,9'\n",
        "print(list(map(int, s.split(','))))"
      ],
      "execution_count": null,
      "outputs": [
        {
          "output_type": "stream",
          "text": [
            "[1, 2, 3, 4, 5, 6, 7, 8, 9]\n"
          ],
          "name": "stdout"
        }
      ]
    },
    {
      "cell_type": "code",
      "metadata": {
        "colab": {
          "base_uri": "https://localhost:8080/",
          "height": 35
        },
        "id": "boT5s9Mij2GJ",
        "outputId": "8d19ced8-07fb-4255-f20e-538f6d23be37"
      },
      "source": [
        "# 9.\n",
        "s = \"abdulghanie\"\n",
        "half_length = len(s)//2\n",
        "s[half_length-1:half_length+2]"
      ],
      "execution_count": null,
      "outputs": [
        {
          "output_type": "execute_result",
          "data": {
            "application/vnd.google.colaboratory.intrinsic+json": {
              "type": "string"
            },
            "text/plain": [
              "'lgh'"
            ]
          },
          "metadata": {
            "tags": []
          },
          "execution_count": 13
        }
      ]
    },
    {
      "cell_type": "code",
      "metadata": {
        "colab": {
          "base_uri": "https://localhost:8080/"
        },
        "id": "WK8fBlXUj2Iv",
        "outputId": "ca07b44e-77db-4019-9e42-0eb14a9b96b5"
      },
      "source": [
        "# 10.\n",
        "s = \"hello\"\n",
        "n = 3\n",
        "print(s[n:])"
      ],
      "execution_count": null,
      "outputs": [
        {
          "output_type": "stream",
          "text": [
            "lo\n"
          ],
          "name": "stdout"
        }
      ]
    },
    {
      "cell_type": "code",
      "metadata": {
        "colab": {
          "base_uri": "https://localhost:8080/"
        },
        "id": "He0hcleDj2K4",
        "outputId": "6f02f04e-1b8f-44a2-d031-326d989343b6"
      },
      "source": [
        "# 11.\n",
        "s = \"anna\"\n",
        "# s = \"hello\"\n",
        "s[0] == s[-1]"
      ],
      "execution_count": null,
      "outputs": [
        {
          "output_type": "execute_result",
          "data": {
            "text/plain": [
              "True"
            ]
          },
          "metadata": {
            "tags": []
          },
          "execution_count": 15
        }
      ]
    },
    {
      "cell_type": "markdown",
      "metadata": {
        "id": "BtzwT_hyvSSI"
      },
      "source": [
        "## Exercise C: \n"
      ]
    },
    {
      "cell_type": "markdown",
      "metadata": {
        "id": "qmGZiUZKvSSJ"
      },
      "source": [
        "\n",
        "1. Write a code that take an integer (n) and computes the value of n+nn+nnn.\n",
        "\n",
        "2. Write a code that take the number of seconds, and calculate the number of minutes and seconds. For example, “130” you should print “2 minutes and 10 seconds”.\n",
        "3. Write the shorthand of the expression below:\n",
        "\n",
        "    x = 2\n",
        "\n",
        "    y = 3\n",
        "\n",
        "    z = 10\n",
        "\n",
        "    x = x + 1\n",
        "\n",
        "    y = y / 2\n",
        "\n",
        "    z = z * (x + y)\n",
        "  \n",
        "4. Initialize two variables to values 9 and 2 respectively. Then: increment each variable first by value 2 (means you update those variables using shortcut). print the variables before and after after incrementing.\n",
        "5. Integer divide the two variables (divide the larger value with the lower one), and assign the result to another variable called c.\n",
        "Print the variable c and make sure you have the desired result\n",
        "\n"
      ]
    },
    {
      "cell_type": "code",
      "metadata": {
        "id": "-B3qun8QvSSJ",
        "colab": {
          "base_uri": "https://localhost:8080/"
        },
        "outputId": "004d444f-5c9a-44fe-dd30-728ee03472b0"
      },
      "source": [
        "# 1.\n",
        "n = 10\n",
        "print(n+(n*n)+(n**3))"
      ],
      "execution_count": null,
      "outputs": [
        {
          "output_type": "stream",
          "text": [
            "1110\n"
          ],
          "name": "stdout"
        }
      ]
    },
    {
      "cell_type": "code",
      "metadata": {
        "colab": {
          "base_uri": "https://localhost:8080/"
        },
        "id": "DfIlJmICl4ud",
        "outputId": "08872f32-4acb-4a2e-c41a-5d20f127e465"
      },
      "source": [
        "# 2.\n",
        "n = 1250\n",
        "\n",
        "minutes = n//60\n",
        "secs = n - (minutes*60)\n",
        "print(f\"{n} seconds = {minutes} minutes, {secs} seconds!\")"
      ],
      "execution_count": null,
      "outputs": [
        {
          "output_type": "stream",
          "text": [
            "1250 seconds = 20 minutes, 50 seconds!\n"
          ],
          "name": "stdout"
        }
      ]
    },
    {
      "cell_type": "code",
      "metadata": {
        "colab": {
          "base_uri": "https://localhost:8080/"
        },
        "id": "3VoabAA2l46b",
        "outputId": "ca7e6e44-99b0-4202-a38d-7f8c833dbaeb"
      },
      "source": [
        "# 3.\n",
        "x = 2\n",
        "y = 3\n",
        "z = 10\n",
        "\n",
        "x += 1\n",
        "y /= 2\n",
        "z *= (x+y)\n",
        "z"
      ],
      "execution_count": null,
      "outputs": [
        {
          "output_type": "execute_result",
          "data": {
            "text/plain": [
              "45.0"
            ]
          },
          "metadata": {
            "tags": []
          },
          "execution_count": 18
        }
      ]
    },
    {
      "cell_type": "code",
      "metadata": {
        "colab": {
          "base_uri": "https://localhost:8080/"
        },
        "id": "Bxow7rRsl5D5",
        "outputId": "c0c91f84-2ebc-4b3a-e49b-ca4768e06746"
      },
      "source": [
        "# 4.\n",
        "x,y = 9,2\n",
        "print(\"Before incrementing:\", x, y)\n",
        "\n",
        "x += 2\n",
        "y += 2\n",
        "print(\"After incrementing:\", x, y)"
      ],
      "execution_count": null,
      "outputs": [
        {
          "output_type": "stream",
          "text": [
            "Before incrementing: 9 2\n",
            "After incrementing: 11 4\n"
          ],
          "name": "stdout"
        }
      ]
    },
    {
      "cell_type": "code",
      "metadata": {
        "colab": {
          "base_uri": "https://localhost:8080/"
        },
        "id": "CNqCaMDll5Nd",
        "outputId": "9965f04f-ed2b-47d0-a617-eb18f48af785"
      },
      "source": [
        "# 5.\n",
        "if x > y:\n",
        "    c = x//y\n",
        "else:\n",
        "    c = y//x\n",
        "print(c)"
      ],
      "execution_count": null,
      "outputs": [
        {
          "output_type": "stream",
          "text": [
            "2\n"
          ],
          "name": "stdout"
        }
      ]
    },
    {
      "cell_type": "markdown",
      "metadata": {
        "id": "3rbm6JDKvSSJ"
      },
      "source": [
        "## Exercise D\n",
        "1. Given a two integer numbers print their product and  if the product is greater than 1000, then print their sum.\n",
        "2. Given two literal strings (containing only digits), calculate their sum and print it as a string.\n",
        "3. Write a code to calculate the sum of three given numbers, if the values are equal then print three times of their sum else print their sum.\n",
        "4.  Write a code to compute the distance between the points p1 = (x1, y1) and p2 = (x2, y2), (p1 and p2 are strings). Example: p1 and p2 can be declare as p1 = '(2, 3)', p2 = '(5, 6)'. (hint: use indexing for string, casting from str to int). \n",
        "5. Given two numbers print their product if their are odd numbers, their sum if they are even and their division in any other cases. "
      ]
    },
    {
      "cell_type": "code",
      "metadata": {
        "id": "VSQdowFovSSK",
        "colab": {
          "base_uri": "https://localhost:8080/"
        },
        "outputId": "f5ac2f44-a57f-4d57-b0e9-238e5681280f"
      },
      "source": [
        "# 1.\n",
        "x = 90\n",
        "y = 50\n",
        "\n",
        "product = x * y\n",
        "print(f\"Product: {product}\")\n",
        "if product > 1000:\n",
        "    print(f\"sum {x+y}\")"
      ],
      "execution_count": null,
      "outputs": [
        {
          "output_type": "stream",
          "text": [
            "Product: 4500\n",
            "sum 140\n"
          ],
          "name": "stdout"
        }
      ]
    },
    {
      "cell_type": "code",
      "metadata": {
        "colab": {
          "base_uri": "https://localhost:8080/"
        },
        "id": "olV_cufpnwdT",
        "outputId": "99a3bd71-c43e-45c7-994a-3d060c1a05b6"
      },
      "source": [
        "# 2.\n",
        "x = \"90\"\n",
        "y = \"50\"\n",
        "\n",
        "sum = int(x) + int(y)\n",
        "sum_casted = str(sum)\n",
        "print(sum_casted, type(sum_casted))"
      ],
      "execution_count": null,
      "outputs": [
        {
          "output_type": "stream",
          "text": [
            "140 <class 'str'>\n"
          ],
          "name": "stdout"
        }
      ]
    },
    {
      "cell_type": "code",
      "metadata": {
        "colab": {
          "base_uri": "https://localhost:8080/"
        },
        "id": "OJPuwJnJnwsS",
        "outputId": "8e0fa6b8-22dc-4b9e-c677-37dec6959266"
      },
      "source": [
        "# 3.\n",
        "n1, n2, n3 = 1, 2, 3\n",
        "total = n1 + n2 + n3\n",
        "if n1 == n2 == n3:\n",
        "    print(3*total)\n",
        "else:\n",
        "    print(total)"
      ],
      "execution_count": null,
      "outputs": [
        {
          "output_type": "stream",
          "text": [
            "6\n"
          ],
          "name": "stdout"
        }
      ]
    },
    {
      "cell_type": "code",
      "metadata": {
        "id": "omQrv5SkvSSL",
        "colab": {
          "base_uri": "https://localhost:8080/"
        },
        "outputId": "9062cde4-82ef-4213-b086-fbc6d0409f89"
      },
      "source": [
        "# 4.\n",
        "p1 = '(1, 1)'\n",
        "p2 = '(3, 4)'\n",
        "\n",
        "p1 = (int(p1[1]), int(p1[-2]))\n",
        "p2 = (int(p2[1]), int(p2[-2]))\n",
        "\n",
        "# get the distance\n",
        "distance = ((p1[0]-p2[0])**2 + (p1[1] - p2[1])**2)**0.5\n",
        "print(distance)"
      ],
      "execution_count": null,
      "outputs": [
        {
          "output_type": "stream",
          "text": [
            "3.605551275463989\n"
          ],
          "name": "stdout"
        }
      ]
    },
    {
      "cell_type": "code",
      "metadata": {
        "colab": {
          "base_uri": "https://localhost:8080/"
        },
        "id": "OsZG_E9F0Aym",
        "outputId": "eb803d02-fae1-4ce9-e35b-54dc5ecdf868"
      },
      "source": [
        "# 5.\n",
        "n1 = 3\n",
        "n2 = 2\n",
        "if n1%2==1 and n2%2==1:\n",
        "    # both are odd\n",
        "    print(f\"Product: {n1*n2}\")\n",
        "elif n1%2==0 and n2%2==0:\n",
        "    print(f\"Sum {n2+n1}\")\n",
        "else:\n",
        "    print(f\"Division: {n2/n1}\")"
      ],
      "execution_count": null,
      "outputs": [
        {
          "output_type": "stream",
          "text": [
            "Division: 0.6666666666666666\n"
          ],
          "name": "stdout"
        }
      ]
    },
    {
      "cell_type": "code",
      "metadata": {
        "id": "9ANwWbwd1_I_"
      },
      "source": [
        ""
      ],
      "execution_count": null,
      "outputs": []
    }
  ]
}